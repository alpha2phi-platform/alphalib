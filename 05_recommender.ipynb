{
 "cells": [
  {
   "cell_type": "code",
   "execution_count": 23,
   "id": "37940f72-95c9-4378-a0b2-8c68f160055a",
   "metadata": {},
   "outputs": [],
   "source": [
    "#!pip install ipywidgets"
   ]
  },
  {
   "cell_type": "code",
   "execution_count": 24,
   "id": "88f1babb-b63c-44d2-960e-63ae3dc5ad34",
   "metadata": {},
   "outputs": [],
   "source": [
    "from IPython.core.interactiveshell import InteractiveShell\n",
    "from IPython.display import display\n",
    "InteractiveShell.ast_node_interactivity = \"all\""
   ]
  },
  {
   "cell_type": "code",
   "execution_count": 25,
   "id": "5304c576-c888-48da-8f17-4d798ef95e94",
   "metadata": {},
   "outputs": [
    {
     "name": "stdout",
     "output_type": "stream",
     "text": [
      "The autoreload extension is already loaded. To reload it, use:\n",
      "  %reload_ext autoreload\n"
     ]
    }
   ],
   "source": [
    "%load_ext autoreload\n",
    "%autoreload 2"
   ]
  },
  {
   "cell_type": "code",
   "execution_count": 26,
   "id": "e9572171-1399-40c1-a80d-ccefb550ef54",
   "metadata": {},
   "outputs": [],
   "source": [
    "import pandas as pd\n",
    "import numpy as np\n",
    "import time\n",
    "from datetime import datetime, timezone"
   ]
  },
  {
   "cell_type": "code",
   "execution_count": 27,
   "id": "249f31d7-4422-4195-9505-d94e343a5ecc",
   "metadata": {},
   "outputs": [],
   "source": [
    "%matplotlib inline\n",
    "pd.set_option('display.max_rows', 500)\n",
    "pd.set_option('display.max_columns', 500)\n",
    "pd.set_option('display.max_seq_items', 500)\n",
    "pd.set_option(\"display.max_colwidth\", None)"
   ]
  },
  {
   "cell_type": "code",
   "execution_count": null,
   "id": "881e6779-72dd-428a-b239-6673699254e5",
   "metadata": {},
   "outputs": [],
   "source": []
  },
  {
   "cell_type": "markdown",
   "id": "4757725c-b0d5-4179-a1c2-202b678425cf",
   "metadata": {},
   "source": [
    "# Stock Recommender"
   ]
  },
  {
   "cell_type": "code",
   "execution_count": 28,
   "id": "9150def1-8d69-46a8-bb86-186b13f2376e",
   "metadata": {},
   "outputs": [],
   "source": [
    "from alphalib.analysis.recommender import *"
   ]
  },
  {
   "cell_type": "code",
   "execution_count": 29,
   "id": "244573e2-a563-4149-b597-b7130087962f",
   "metadata": {},
   "outputs": [
    {
     "name": "stderr",
     "output_type": "stream",
     "text": [
      "2022-12-20 22:23:39,802 - [ recommender.py:119 - recommend_stocks_from_dataset() - INFO ] Analyze stocks by sector\n",
      "2022-12-20 22:23:39,817 - [ recommender.py:146 - recommend_stocks_from_dataset() - INFO ] Getting info for IVR\n"
     ]
    },
    {
     "name": "stdout",
     "output_type": "stream",
     "text": [
      "attemp - 0\n",
      "attemp - 0\n"
     ]
    },
    {
     "name": "stderr",
     "output_type": "stream",
     "text": [
      "2022-12-20 22:23:52,517 - [ recommender.py:146 - recommend_stocks_from_dataset() - INFO ] Getting info for CWPS\n"
     ]
    },
    {
     "name": "stdout",
     "output_type": "stream",
     "text": [
      "attemp - 0\n"
     ]
    },
    {
     "name": "stderr",
     "output_type": "stream",
     "text": [
      "2022-12-20 22:23:59,949 - [ recommender.py:146 - recommend_stocks_from_dataset() - INFO ] Getting info for CEN\n",
      "2022-12-20 22:24:04,798 - [ recommender.py:146 - recommend_stocks_from_dataset() - INFO ] Getting info for CLM\n"
     ]
    },
    {
     "name": "stdout",
     "output_type": "stream",
     "text": [
      "attemp - 0\n"
     ]
    },
    {
     "name": "stderr",
     "output_type": "stream",
     "text": [
      "2022-12-20 22:24:13,303 - [ recommender.py:146 - recommend_stocks_from_dataset() - INFO ] Getting info for CRF\n",
      "2022-12-20 22:24:16,911 - [ recommender.py:146 - recommend_stocks_from_dataset() - INFO ] Getting info for GECC\n",
      "2022-12-20 22:24:19,886 - [ recommender.py:146 - recommend_stocks_from_dataset() - INFO ] Getting info for GER\n",
      "2022-12-20 22:24:22,804 - [ recommender.py:146 - recommend_stocks_from_dataset() - INFO ] Getting info for EDF\n"
     ]
    },
    {
     "name": "stdout",
     "output_type": "stream",
     "text": [
      "attemp - 0\n",
      "attemp - 0\n",
      "attemp - 1\n"
     ]
    },
    {
     "name": "stderr",
     "output_type": "stream",
     "text": [
      "2022-12-20 22:24:36,208 - [ recommender.py:146 - recommend_stocks_from_dataset() - INFO ] Getting info for CHKR\n",
      "2022-12-20 22:24:40,876 - [ recommender.py:146 - recommend_stocks_from_dataset() - INFO ] Getting info for ECTM\n",
      "2022-12-20 22:24:43,921 - [ recommender.py:146 - recommend_stocks_from_dataset() - INFO ] Getting info for FCNE\n"
     ]
    }
   ],
   "source": [
    "rec_stocks = recommend_stocks_from_dataset(filter_earnings_dt=False)"
   ]
  },
  {
   "cell_type": "code",
   "execution_count": 30,
   "id": "34875676-104e-491c-84a2-5ad51699dd1e",
   "metadata": {},
   "outputs": [
    {
     "name": "stdout",
     "output_type": "stream",
     "text": [
      "11\n"
     ]
    }
   ],
   "source": [
    "print(len(rec_stocks))"
   ]
  },
  {
   "cell_type": "code",
   "execution_count": 1,
   "id": "edc94b63-3841-4554-a0b0-40527d7d49c6",
   "metadata": {},
   "outputs": [],
   "source": [
    "#for s in rec_stocks:\n",
    "#    display(s.yf.to_df().head(11))\n",
    "#    print(\"\\n\\n\\n\")\n",
    "#    display(s.sa.to_df().head(11))\n",
    "#    print(\"\\n\\n\\n\")\n",
    "#    display(s.nas.to_df().head(11))\n",
    "#    print(\"\\n\\n\\n\")\n",
    "    "
   ]
  },
  {
   "cell_type": "code",
   "execution_count": 2,
   "id": "3a5f4079-f938-4706-8b73-df0aa227e726",
   "metadata": {},
   "outputs": [],
   "source": [
    "from __future__ import print_function\n",
    "from ipywidgets import interact, interactive, fixed, interact_manual\n",
    "import ipywidgets as widgets"
   ]
  },
  {
   "cell_type": "code",
   "execution_count": 3,
   "id": "a12ade48-f433-451e-ac3c-4aed7895ac2f",
   "metadata": {},
   "outputs": [],
   "source": [
    "def f(x):\n",
    "    return x"
   ]
  },
  {
   "cell_type": "code",
   "execution_count": 4,
   "id": "67d0adfe-d52c-40f2-bd0d-6cb587ac8ea1",
   "metadata": {},
   "outputs": [
    {
     "data": {
      "application/vnd.jupyter.widget-view+json": {
       "model_id": "cf2649f0ffc34b00817568c5f6bd12a8",
       "version_major": 2,
       "version_minor": 0
      },
      "text/plain": [
       "interactive(children=(IntSlider(value=10, description='x', max=30, min=-10), Output()), _dom_classes=('widget-…"
      ]
     },
     "metadata": {},
     "output_type": "display_data"
    },
    {
     "data": {
      "text/plain": [
       "<function __main__.f(x)>"
      ]
     },
     "execution_count": 4,
     "metadata": {},
     "output_type": "execute_result"
    }
   ],
   "source": [
    "interact(f, x=10)"
   ]
  },
  {
   "cell_type": "code",
   "execution_count": null,
   "id": "fa4b578e-abaa-49db-874f-249edfe51a73",
   "metadata": {},
   "outputs": [],
   "source": []
  },
  {
   "cell_type": "code",
   "execution_count": null,
   "id": "43fbfdd0-5a68-46f2-9ae8-265c9f7a9803",
   "metadata": {},
   "outputs": [],
   "source": []
  },
  {
   "cell_type": "code",
   "execution_count": null,
   "id": "b58f3bd2-2c28-4d85-aa00-a974a347ca8e",
   "metadata": {},
   "outputs": [],
   "source": []
  },
  {
   "cell_type": "code",
   "execution_count": null,
   "id": "2054db46-97d7-405a-976b-61c9a5940f37",
   "metadata": {},
   "outputs": [],
   "source": []
  },
  {
   "cell_type": "code",
   "execution_count": null,
   "id": "e4895b3d-87a1-4b78-ad3f-255d0c269423",
   "metadata": {},
   "outputs": [],
   "source": []
  },
  {
   "cell_type": "markdown",
   "id": "afbcd180-731f-4a63-b75f-23b245a9a083",
   "metadata": {},
   "source": [
    "Stocks to track\n",
    "- PBR-A\n",
    "- PBR\n",
    "- GOGL\n",
    "- ORC - monthly\n",
    "- OXLC - monthly"
   ]
  },
  {
   "cell_type": "code",
   "execution_count": null,
   "id": "182502a7-7d66-4801-acbd-3abe83b9b230",
   "metadata": {},
   "outputs": [],
   "source": []
  }
 ],
 "metadata": {
  "kernelspec": {
   "display_name": "Python 3 (ipykernel)",
   "language": "python",
   "name": "python3"
  },
  "language_info": {
   "codemirror_mode": {
    "name": "ipython",
    "version": 3
   },
   "file_extension": ".py",
   "mimetype": "text/x-python",
   "name": "python",
   "nbconvert_exporter": "python",
   "pygments_lexer": "ipython3",
   "version": "3.10.4"
  }
 },
 "nbformat": 4,
 "nbformat_minor": 5
}
