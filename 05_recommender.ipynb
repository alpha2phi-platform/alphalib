{
 "cells": [
  {
   "cell_type": "code",
   "execution_count": 12,
   "id": "37940f72-95c9-4378-a0b2-8c68f160055a",
   "metadata": {},
   "outputs": [],
   "source": [
    "#!pip install ipywidgets"
   ]
  },
  {
   "cell_type": "code",
   "execution_count": 1,
   "id": "88f1babb-b63c-44d2-960e-63ae3dc5ad34",
   "metadata": {},
   "outputs": [],
   "source": [
    "from IPython.core.interactiveshell import InteractiveShell\n",
    "from IPython.display import display\n",
    "InteractiveShell.ast_node_interactivity = \"all\""
   ]
  },
  {
   "cell_type": "code",
   "execution_count": 2,
   "id": "5304c576-c888-48da-8f17-4d798ef95e94",
   "metadata": {},
   "outputs": [],
   "source": [
    "%load_ext autoreload\n",
    "%autoreload 2"
   ]
  },
  {
   "cell_type": "code",
   "execution_count": 3,
   "id": "e9572171-1399-40c1-a80d-ccefb550ef54",
   "metadata": {},
   "outputs": [],
   "source": [
    "import pandas as pd\n",
    "import numpy as np\n",
    "import time\n",
    "from datetime import datetime, timezone"
   ]
  },
  {
   "cell_type": "code",
   "execution_count": 4,
   "id": "249f31d7-4422-4195-9505-d94e343a5ecc",
   "metadata": {},
   "outputs": [],
   "source": [
    "%matplotlib inline\n",
    "pd.set_option('display.max_rows', 500)\n",
    "pd.set_option('display.max_columns', 500)\n",
    "pd.set_option('display.max_seq_items', 500)\n",
    "pd.set_option(\"display.max_colwidth\", None)"
   ]
  },
  {
   "cell_type": "code",
   "execution_count": null,
   "id": "881e6779-72dd-428a-b239-6673699254e5",
   "metadata": {},
   "outputs": [],
   "source": []
  },
  {
   "cell_type": "markdown",
   "id": "4757725c-b0d5-4179-a1c2-202b678425cf",
   "metadata": {},
   "source": [
    "# Stock Recommender"
   ]
  },
  {
   "cell_type": "code",
   "execution_count": 26,
   "id": "9150def1-8d69-46a8-bb86-186b13f2376e",
   "metadata": {},
   "outputs": [],
   "source": [
    "import ipywidgets as widgets\n",
    "from alphalib.analysis.recommender import *"
   ]
  },
  {
   "cell_type": "code",
   "execution_count": 17,
   "id": "244573e2-a563-4149-b597-b7130087962f",
   "metadata": {},
   "outputs": [
    {
     "name": "stderr",
     "output_type": "stream",
     "text": [
      "2022-12-03 22:11:50,189 - [ recommender.py:112 - recommend_stocks_from_dataset() - INFO ] Analyze stocks by sector\n",
      "2022-12-03 22:11:50,208 - [ recommender.py:139 - recommend_stocks_from_dataset() - INFO ] Getting info for IVR\n",
      "2022-12-03 22:12:03,794 - [ recommender.py:139 - recommend_stocks_from_dataset() - INFO ] Getting info for CWPS\n",
      "2022-12-03 22:12:13,623 - [ recommender.py:139 - recommend_stocks_from_dataset() - INFO ] Getting info for CEN\n",
      "2022-12-03 22:12:18,350 - [ recommender.py:139 - recommend_stocks_from_dataset() - INFO ] Getting info for CLM\n",
      "2022-12-03 22:12:26,122 - [ recommender.py:139 - recommend_stocks_from_dataset() - INFO ] Getting info for CRF\n",
      "2022-12-03 22:12:28,911 - [ recommender.py:139 - recommend_stocks_from_dataset() - INFO ] Getting info for GECC\n",
      "2022-12-03 22:12:31,213 - [ recommender.py:139 - recommend_stocks_from_dataset() - INFO ] Getting info for GER\n",
      "2022-12-03 22:12:32,935 - [ recommender.py:139 - recommend_stocks_from_dataset() - INFO ] Getting info for EDF\n",
      "2022-12-03 22:12:34,298 - [ recommender.py:139 - recommend_stocks_from_dataset() - INFO ] Getting info for CHKR\n",
      "2022-12-03 22:12:36,455 - [ recommender.py:139 - recommend_stocks_from_dataset() - INFO ] Getting info for ECTM\n",
      "2022-12-03 22:12:38,148 - [ recommender.py:139 - recommend_stocks_from_dataset() - INFO ] Getting info for FCNE\n"
     ]
    }
   ],
   "source": [
    "rec_stocks = recommend_stocks_from_dataset()"
   ]
  },
  {
   "cell_type": "code",
   "execution_count": 18,
   "id": "34875676-104e-491c-84a2-5ad51699dd1e",
   "metadata": {},
   "outputs": [
    {
     "name": "stdout",
     "output_type": "stream",
     "text": [
      "1\n"
     ]
    }
   ],
   "source": [
    "print(len(rec_stocks))"
   ]
  },
  {
   "cell_type": "code",
   "execution_count": null,
   "id": "3bcb7eb9-780b-43a4-933f-719b6ae29cf6",
   "metadata": {},
   "outputs": [],
   "source": []
  },
  {
   "cell_type": "code",
   "execution_count": 28,
   "id": "a1e4d3bb-0828-4a72-a613-facfb20960de",
   "metadata": {},
   "outputs": [
    {
     "name": "stdout",
     "output_type": "stream",
     "text": [
      "<class 'pandas.core.series.Series'>\n"
     ]
    },
    {
     "data": {
      "text/html": [
       "<div>\n",
       "<style scoped>\n",
       "    .dataframe tbody tr th:only-of-type {\n",
       "        vertical-align: middle;\n",
       "    }\n",
       "\n",
       "    .dataframe tbody tr th {\n",
       "        vertical-align: top;\n",
       "    }\n",
       "\n",
       "    .dataframe thead th {\n",
       "        text-align: right;\n",
       "    }\n",
       "</style>\n",
       "<table border=\"1\" class=\"dataframe\">\n",
       "  <thead>\n",
       "    <tr style=\"text-align: right;\">\n",
       "      <th></th>\n",
       "      <th>symbol</th>\n",
       "      <th>name</th>\n",
       "      <th>exchange</th>\n",
       "      <th>sector</th>\n",
       "      <th>beta</th>\n",
       "      <th>current_price</th>\n",
       "      <th>fifty_two_week_low</th>\n",
       "      <th>fifty_two_week_high</th>\n",
       "      <th>five_year_avg_dividend_yield</th>\n",
       "      <th>earnings_date</th>\n",
       "      <th>ex_dividend_date</th>\n",
       "      <th>dividend_date</th>\n",
       "      <th>last_dividend_date</th>\n",
       "      <th>forward_eps</th>\n",
       "      <th>forward_pe</th>\n",
       "      <th>trailing_eps</th>\n",
       "      <th>trailing_pe</th>\n",
       "      <th>peg_ratio</th>\n",
       "      <th>price_to_book</th>\n",
       "      <th>free_cash_flow</th>\n",
       "      <th>return_on_equity</th>\n",
       "      <th>debt_to_equity</th>\n",
       "      <th>price_to_sales_trailing_12_months</th>\n",
       "      <th>payout_ratio</th>\n",
       "      <th>dividend_yield</th>\n",
       "      <th>dividend_rate</th>\n",
       "      <th>trailing_annual_dividend_rate</th>\n",
       "      <th>trailing_annual_dividend_yield</th>\n",
       "      <th>yfinance_url</th>\n",
       "    </tr>\n",
       "  </thead>\n",
       "  <tbody>\n",
       "    <tr>\n",
       "      <th>0</th>\n",
       "      <td>GECC</td>\n",
       "      <td>Great Elm Capital Corp.</td>\n",
       "      <td>NGM</td>\n",
       "      <td>Financial Services</td>\n",
       "      <td>1.520493</td>\n",
       "      <td>9.88</td>\n",
       "      <td>7.98</td>\n",
       "      <td>20.88</td>\n",
       "      <td>17.1</td>\n",
       "      <td>2023-03-02 18:59:00</td>\n",
       "      <td>2022-12-14 08:00:00</td>\n",
       "      <td>2022-12-30 08:00:00</td>\n",
       "      <td>2022-09-14 08:00:00</td>\n",
       "      <td>1.25</td>\n",
       "      <td>7.904</td>\n",
       "      <td>-6.59</td>\n",
       "      <td>None</td>\n",
       "      <td>None</td>\n",
       "      <td>0.786311</td>\n",
       "      <td>-95395000</td>\n",
       "      <td>-0.31264</td>\n",
       "      <td>149.569</td>\n",
       "      <td>3.201917</td>\n",
       "      <td>None</td>\n",
       "      <td>0.18</td>\n",
       "      <td>1.8</td>\n",
       "      <td>2.1</td>\n",
       "      <td>0.21021</td>\n",
       "      <td>https://finance.yahoo.com/quote/GECC/key-statistics?p=GECC</td>\n",
       "    </tr>\n",
       "  </tbody>\n",
       "</table>\n",
       "</div>"
      ],
      "text/plain": [
       "  symbol                     name exchange              sector      beta  \\\n",
       "0   GECC  Great Elm Capital Corp.      NGM  Financial Services  1.520493   \n",
       "\n",
       "   current_price  fifty_two_week_low  fifty_two_week_high  \\\n",
       "0           9.88                7.98                20.88   \n",
       "\n",
       "   five_year_avg_dividend_yield       earnings_date    ex_dividend_date  \\\n",
       "0                          17.1 2023-03-02 18:59:00 2022-12-14 08:00:00   \n",
       "\n",
       "        dividend_date  last_dividend_date  forward_eps  forward_pe  \\\n",
       "0 2022-12-30 08:00:00 2022-09-14 08:00:00         1.25       7.904   \n",
       "\n",
       "   trailing_eps trailing_pe peg_ratio  price_to_book  free_cash_flow  \\\n",
       "0         -6.59        None      None       0.786311       -95395000   \n",
       "\n",
       "   return_on_equity  debt_to_equity  price_to_sales_trailing_12_months  \\\n",
       "0          -0.31264         149.569                           3.201917   \n",
       "\n",
       "  payout_ratio  dividend_yield  dividend_rate  trailing_annual_dividend_rate  \\\n",
       "0         None            0.18            1.8                            2.1   \n",
       "\n",
       "   trailing_annual_dividend_yield  \\\n",
       "0                         0.21021   \n",
       "\n",
       "                                                 yfinance_url  \n",
       "0  https://finance.yahoo.com/quote/GECC/key-statistics?p=GECC  "
      ]
     },
     "execution_count": 28,
     "metadata": {},
     "output_type": "execute_result"
    }
   ],
   "source": [
    "for s in rec_stocks:\n",
    "    print(type(s.yfinance.dividend_history))\n",
    "    df = s.yfinance.to_df()\n",
    "    df.head(10)"
   ]
  },
  {
   "cell_type": "code",
   "execution_count": null,
   "id": "edc94b63-3841-4554-a0b0-40527d7d49c6",
   "metadata": {},
   "outputs": [],
   "source": []
  },
  {
   "cell_type": "code",
   "execution_count": null,
   "id": "3a5f4079-f938-4706-8b73-df0aa227e726",
   "metadata": {},
   "outputs": [],
   "source": []
  },
  {
   "cell_type": "code",
   "execution_count": null,
   "id": "a12ade48-f433-451e-ac3c-4aed7895ac2f",
   "metadata": {},
   "outputs": [],
   "source": []
  },
  {
   "cell_type": "code",
   "execution_count": null,
   "id": "67d0adfe-d52c-40f2-bd0d-6cb587ac8ea1",
   "metadata": {},
   "outputs": [],
   "source": []
  },
  {
   "cell_type": "markdown",
   "id": "afbcd180-731f-4a63-b75f-23b245a9a083",
   "metadata": {},
   "source": [
    "Stocks to track\n",
    "- PBR-A\n",
    "- PBR\n",
    "- GOGL\n",
    "- ORC - monthly\n",
    "- OXLC - monthly"
   ]
  },
  {
   "cell_type": "code",
   "execution_count": null,
   "id": "182502a7-7d66-4801-acbd-3abe83b9b230",
   "metadata": {},
   "outputs": [],
   "source": []
  }
 ],
 "metadata": {
  "kernelspec": {
   "display_name": "Python 3 (ipykernel)",
   "language": "python",
   "name": "python3"
  },
  "language_info": {
   "codemirror_mode": {
    "name": "ipython",
    "version": 3
   },
   "file_extension": ".py",
   "mimetype": "text/x-python",
   "name": "python",
   "nbconvert_exporter": "python",
   "pygments_lexer": "ipython3",
   "version": "3.10.4"
  }
 },
 "nbformat": 4,
 "nbformat_minor": 5
}
