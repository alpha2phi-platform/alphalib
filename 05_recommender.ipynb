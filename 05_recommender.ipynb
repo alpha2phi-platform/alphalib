{
 "cells": [
  {
   "cell_type": "code",
   "execution_count": 19,
   "id": "37940f72-95c9-4378-a0b2-8c68f160055a",
   "metadata": {},
   "outputs": [],
   "source": [
    "!pip install -Uq ipywidgets"
   ]
  },
  {
   "cell_type": "code",
   "execution_count": 20,
   "id": "88f1babb-b63c-44d2-960e-63ae3dc5ad34",
   "metadata": {},
   "outputs": [],
   "source": [
    "from IPython.core.interactiveshell import InteractiveShell\n",
    "from IPython.display import display\n",
    "InteractiveShell.ast_node_interactivity = \"all\""
   ]
  },
  {
   "cell_type": "code",
   "execution_count": 21,
   "id": "5304c576-c888-48da-8f17-4d798ef95e94",
   "metadata": {},
   "outputs": [
    {
     "name": "stdout",
     "output_type": "stream",
     "text": [
      "The autoreload extension is already loaded. To reload it, use:\n",
      "  %reload_ext autoreload\n"
     ]
    }
   ],
   "source": [
    "%load_ext autoreload\n",
    "%autoreload 2"
   ]
  },
  {
   "cell_type": "code",
   "execution_count": 22,
   "id": "e9572171-1399-40c1-a80d-ccefb550ef54",
   "metadata": {},
   "outputs": [],
   "source": [
    "import pandas as pd\n",
    "import numpy as np\n",
    "import time\n",
    "from datetime import datetime, timezone"
   ]
  },
  {
   "cell_type": "code",
   "execution_count": 23,
   "id": "249f31d7-4422-4195-9505-d94e343a5ecc",
   "metadata": {},
   "outputs": [],
   "source": [
    "%matplotlib inline\n",
    "pd.set_option('display.max_rows', 500)\n",
    "pd.set_option('display.max_columns', 500)\n",
    "pd.set_option('display.max_seq_items', 500)\n",
    "pd.set_option(\"display.max_colwidth\", None)"
   ]
  },
  {
   "cell_type": "code",
   "execution_count": null,
   "id": "881e6779-72dd-428a-b239-6673699254e5",
   "metadata": {},
   "outputs": [],
   "source": []
  },
  {
   "cell_type": "markdown",
   "id": "4757725c-b0d5-4179-a1c2-202b678425cf",
   "metadata": {},
   "source": [
    "# Stock Recommender"
   ]
  },
  {
   "cell_type": "code",
   "execution_count": 24,
   "id": "9150def1-8d69-46a8-bb86-186b13f2376e",
   "metadata": {},
   "outputs": [],
   "source": [
    "from alphalib.analysis.recommender import *"
   ]
  },
  {
   "cell_type": "code",
   "execution_count": 25,
   "id": "244573e2-a563-4149-b597-b7130087962f",
   "metadata": {},
   "outputs": [
    {
     "name": "stderr",
     "output_type": "stream",
     "text": [
      "2022-12-28 21:55:05,441 - [ recommender.py:119 - recommend_stocks_from_dataset() - INFO ] Analyze stocks by sector\n",
      "2022-12-28 21:55:05,462 - [ recommender.py:146 - recommend_stocks_from_dataset() - INFO ] Getting info for ACV\n",
      "2022-12-28 21:55:09,999 - [ recommender.py:146 - recommend_stocks_from_dataset() - INFO ] Getting info for ACP\n"
     ]
    }
   ],
   "source": [
    "rec_stocks = recommend_stocks_from_dataset(filter_earnings_dt=False)"
   ]
  },
  {
   "cell_type": "code",
   "execution_count": 26,
   "id": "34875676-104e-491c-84a2-5ad51699dd1e",
   "metadata": {},
   "outputs": [
    {
     "name": "stdout",
     "output_type": "stream",
     "text": [
      "2\n"
     ]
    }
   ],
   "source": [
    "print(len(rec_stocks))"
   ]
  },
  {
   "cell_type": "code",
   "execution_count": 27,
   "id": "edc94b63-3841-4554-a0b0-40527d7d49c6",
   "metadata": {},
   "outputs": [
    {
     "data": {
      "text/html": [
       "<div>\n",
       "<style scoped>\n",
       "    .dataframe tbody tr th:only-of-type {\n",
       "        vertical-align: middle;\n",
       "    }\n",
       "\n",
       "    .dataframe tbody tr th {\n",
       "        vertical-align: top;\n",
       "    }\n",
       "\n",
       "    .dataframe thead th {\n",
       "        text-align: right;\n",
       "    }\n",
       "</style>\n",
       "<table border=\"1\" class=\"dataframe\">\n",
       "  <thead>\n",
       "    <tr style=\"text-align: right;\">\n",
       "      <th></th>\n",
       "      <th>symbol</th>\n",
       "      <th>name</th>\n",
       "      <th>exchange</th>\n",
       "      <th>sector</th>\n",
       "      <th>beta</th>\n",
       "      <th>current_price</th>\n",
       "      <th>fifty_two_week_low</th>\n",
       "      <th>fifty_two_week_high</th>\n",
       "      <th>five_year_avg_dividend_yield</th>\n",
       "      <th>earnings_date</th>\n",
       "      <th>ex_dividend_date</th>\n",
       "      <th>dividend_date</th>\n",
       "      <th>last_dividend_date</th>\n",
       "      <th>forward_eps</th>\n",
       "      <th>forward_pe</th>\n",
       "      <th>trailing_eps</th>\n",
       "      <th>trailing_pe</th>\n",
       "      <th>peg_ratio</th>\n",
       "      <th>price_to_book</th>\n",
       "      <th>free_cash_flow</th>\n",
       "      <th>return_on_equity</th>\n",
       "      <th>debt_to_equity</th>\n",
       "      <th>price_to_sales_trailing_12_months</th>\n",
       "      <th>payout_ratio</th>\n",
       "      <th>dividend_yield</th>\n",
       "      <th>dividend_rate</th>\n",
       "      <th>trailing_annual_dividend_rate</th>\n",
       "      <th>trailing_annual_dividend_yield</th>\n",
       "      <th>yfinance_url</th>\n",
       "    </tr>\n",
       "  </thead>\n",
       "  <tbody>\n",
       "    <tr>\n",
       "      <th>0</th>\n",
       "      <td>ACP</td>\n",
       "      <td>Aberdeen Income Credit Strategi</td>\n",
       "      <td>NYQ</td>\n",
       "      <td>Financial Services</td>\n",
       "      <td>0.99533</td>\n",
       "      <td>7.14</td>\n",
       "      <td>6.01</td>\n",
       "      <td>10.54</td>\n",
       "      <td>12.71</td>\n",
       "      <td>0001-01-01 00:00:00</td>\n",
       "      <td>2022-12-29 08:00:00</td>\n",
       "      <td>2019-01-31 08:00:00</td>\n",
       "      <td>2022-11-21 08:00:00</td>\n",
       "      <td>None</td>\n",
       "      <td>None</td>\n",
       "      <td>2.09</td>\n",
       "      <td>3.416268</td>\n",
       "      <td>None</td>\n",
       "      <td>0.811272</td>\n",
       "      <td>6100841</td>\n",
       "      <td>-0.11112</td>\n",
       "      <td>43.579</td>\n",
       "      <td>6.184919</td>\n",
       "      <td>None</td>\n",
       "      <td>0.1674</td>\n",
       "      <td>1.2</td>\n",
       "      <td>1.2</td>\n",
       "      <td>0.167364</td>\n",
       "      <td>https://finance.yahoo.com/quote/ACP/key-statistics?p=ACP</td>\n",
       "    </tr>\n",
       "  </tbody>\n",
       "</table>\n",
       "</div>"
      ],
      "text/plain": [
       "  symbol                             name exchange              sector  \\\n",
       "0    ACP  Aberdeen Income Credit Strategi      NYQ  Financial Services   \n",
       "\n",
       "      beta  current_price  fifty_two_week_low  fifty_two_week_high  \\\n",
       "0  0.99533           7.14                6.01                10.54   \n",
       "\n",
       "   five_year_avg_dividend_yield        earnings_date    ex_dividend_date  \\\n",
       "0                         12.71  0001-01-01 00:00:00 2022-12-29 08:00:00   \n",
       "\n",
       "        dividend_date  last_dividend_date forward_eps forward_pe  \\\n",
       "0 2019-01-31 08:00:00 2022-11-21 08:00:00        None       None   \n",
       "\n",
       "   trailing_eps  trailing_pe peg_ratio  price_to_book  free_cash_flow  \\\n",
       "0          2.09     3.416268      None       0.811272         6100841   \n",
       "\n",
       "   return_on_equity  debt_to_equity  price_to_sales_trailing_12_months  \\\n",
       "0          -0.11112          43.579                           6.184919   \n",
       "\n",
       "  payout_ratio  dividend_yield  dividend_rate  trailing_annual_dividend_rate  \\\n",
       "0         None          0.1674            1.2                            1.2   \n",
       "\n",
       "   trailing_annual_dividend_yield  \\\n",
       "0                        0.167364   \n",
       "\n",
       "                                               yfinance_url  \n",
       "0  https://finance.yahoo.com/quote/ACP/key-statistics?p=ACP  "
      ]
     },
     "metadata": {},
     "output_type": "display_data"
    },
    {
     "name": "stdout",
     "output_type": "stream",
     "text": [
      "\n",
      "\n",
      "\n",
      "\n"
     ]
    },
    {
     "data": {
      "text/html": [
       "<div>\n",
       "<style scoped>\n",
       "    .dataframe tbody tr th:only-of-type {\n",
       "        vertical-align: middle;\n",
       "    }\n",
       "\n",
       "    .dataframe tbody tr th {\n",
       "        vertical-align: top;\n",
       "    }\n",
       "\n",
       "    .dataframe thead th {\n",
       "        text-align: right;\n",
       "    }\n",
       "</style>\n",
       "<table border=\"1\" class=\"dataframe\">\n",
       "  <thead>\n",
       "    <tr style=\"text-align: right;\">\n",
       "      <th></th>\n",
       "      <th>symbol</th>\n",
       "      <th>seeking_alpha_url</th>\n",
       "      <th>estimated_earning_date</th>\n",
       "    </tr>\n",
       "  </thead>\n",
       "  <tbody>\n",
       "    <tr>\n",
       "      <th>0</th>\n",
       "      <td>ACP</td>\n",
       "      <td>https://seekingalpha.com/api/v3/symbols/ACP/dividend_history?group_by=quarterly&amp;sort=-date</td>\n",
       "      <td>0001-01-01 00:00:00</td>\n",
       "    </tr>\n",
       "  </tbody>\n",
       "</table>\n",
       "</div>"
      ],
      "text/plain": [
       "  symbol  \\\n",
       "0    ACP   \n",
       "\n",
       "                                                                            seeking_alpha_url  \\\n",
       "0  https://seekingalpha.com/api/v3/symbols/ACP/dividend_history?group_by=quarterly&sort=-date   \n",
       "\n",
       "  estimated_earning_date  \n",
       "0    0001-01-01 00:00:00  "
      ]
     },
     "metadata": {},
     "output_type": "display_data"
    },
    {
     "name": "stdout",
     "output_type": "stream",
     "text": [
      "\n",
      "\n",
      "\n",
      "\n"
     ]
    },
    {
     "data": {
      "text/html": [
       "<div>\n",
       "<style scoped>\n",
       "    .dataframe tbody tr th:only-of-type {\n",
       "        vertical-align: middle;\n",
       "    }\n",
       "\n",
       "    .dataframe tbody tr th {\n",
       "        vertical-align: top;\n",
       "    }\n",
       "\n",
       "    .dataframe thead th {\n",
       "        text-align: right;\n",
       "    }\n",
       "</style>\n",
       "<table border=\"1\" class=\"dataframe\">\n",
       "  <thead>\n",
       "    <tr style=\"text-align: right;\">\n",
       "      <th></th>\n",
       "      <th>symbol</th>\n",
       "      <th>ex_dividend_date</th>\n",
       "      <th>dividend_yield_pct</th>\n",
       "      <th>annual_dividend</th>\n",
       "      <th>pe_ratio</th>\n",
       "      <th>nasdaq_url</th>\n",
       "    </tr>\n",
       "  </thead>\n",
       "  <tbody>\n",
       "    <tr>\n",
       "      <th>0</th>\n",
       "      <td>ACP</td>\n",
       "      <td>11/21/2022</td>\n",
       "      <td>17.94%</td>\n",
       "      <td>1.2</td>\n",
       "      <td>N/A</td>\n",
       "      <td>https://api.nasdaq.com/api/quote/ACP/dividends?assetclass=stocks</td>\n",
       "    </tr>\n",
       "  </tbody>\n",
       "</table>\n",
       "</div>"
      ],
      "text/plain": [
       "  symbol ex_dividend_date dividend_yield_pct annual_dividend pe_ratio  \\\n",
       "0    ACP       11/21/2022             17.94%             1.2      N/A   \n",
       "\n",
       "                                                         nasdaq_url  \n",
       "0  https://api.nasdaq.com/api/quote/ACP/dividends?assetclass=stocks  "
      ]
     },
     "metadata": {},
     "output_type": "display_data"
    },
    {
     "name": "stdout",
     "output_type": "stream",
     "text": [
      "\n",
      "\n",
      "\n",
      "\n"
     ]
    },
    {
     "data": {
      "text/html": [
       "<div>\n",
       "<style scoped>\n",
       "    .dataframe tbody tr th:only-of-type {\n",
       "        vertical-align: middle;\n",
       "    }\n",
       "\n",
       "    .dataframe tbody tr th {\n",
       "        vertical-align: top;\n",
       "    }\n",
       "\n",
       "    .dataframe thead th {\n",
       "        text-align: right;\n",
       "    }\n",
       "</style>\n",
       "<table border=\"1\" class=\"dataframe\">\n",
       "  <thead>\n",
       "    <tr style=\"text-align: right;\">\n",
       "      <th></th>\n",
       "      <th>symbol</th>\n",
       "      <th>name</th>\n",
       "      <th>exchange</th>\n",
       "      <th>sector</th>\n",
       "      <th>beta</th>\n",
       "      <th>current_price</th>\n",
       "      <th>fifty_two_week_low</th>\n",
       "      <th>fifty_two_week_high</th>\n",
       "      <th>five_year_avg_dividend_yield</th>\n",
       "      <th>earnings_date</th>\n",
       "      <th>ex_dividend_date</th>\n",
       "      <th>dividend_date</th>\n",
       "      <th>last_dividend_date</th>\n",
       "      <th>forward_eps</th>\n",
       "      <th>forward_pe</th>\n",
       "      <th>trailing_eps</th>\n",
       "      <th>trailing_pe</th>\n",
       "      <th>peg_ratio</th>\n",
       "      <th>price_to_book</th>\n",
       "      <th>free_cash_flow</th>\n",
       "      <th>return_on_equity</th>\n",
       "      <th>debt_to_equity</th>\n",
       "      <th>price_to_sales_trailing_12_months</th>\n",
       "      <th>payout_ratio</th>\n",
       "      <th>dividend_yield</th>\n",
       "      <th>dividend_rate</th>\n",
       "      <th>trailing_annual_dividend_rate</th>\n",
       "      <th>trailing_annual_dividend_yield</th>\n",
       "      <th>yfinance_url</th>\n",
       "    </tr>\n",
       "  </thead>\n",
       "  <tbody>\n",
       "    <tr>\n",
       "      <th>0</th>\n",
       "      <td>ACV</td>\n",
       "      <td>568516</td>\n",
       "      <td>NYQ</td>\n",
       "      <td>Financial Services</td>\n",
       "      <td>None</td>\n",
       "      <td>19.45</td>\n",
       "      <td>17.43</td>\n",
       "      <td>36.63</td>\n",
       "      <td>13.26</td>\n",
       "      <td>2020-04-01 08:00:00</td>\n",
       "      <td>2022-12-29 08:00:00</td>\n",
       "      <td>2018-03-01 08:00:00</td>\n",
       "      <td>2022-12-09 08:00:00</td>\n",
       "      <td>None</td>\n",
       "      <td>None</td>\n",
       "      <td>None</td>\n",
       "      <td>None</td>\n",
       "      <td>None</td>\n",
       "      <td>None</td>\n",
       "      <td>None</td>\n",
       "      <td>None</td>\n",
       "      <td>None</td>\n",
       "      <td>None</td>\n",
       "      <td>None</td>\n",
       "      <td>0.1111</td>\n",
       "      <td>2.16</td>\n",
       "      <td>0</td>\n",
       "      <td>0</td>\n",
       "      <td>https://finance.yahoo.com/quote/ACV/key-statistics?p=ACV</td>\n",
       "    </tr>\n",
       "  </tbody>\n",
       "</table>\n",
       "</div>"
      ],
      "text/plain": [
       "  symbol    name exchange              sector  beta  current_price  \\\n",
       "0    ACV  568516      NYQ  Financial Services  None          19.45   \n",
       "\n",
       "   fifty_two_week_low  fifty_two_week_high  five_year_avg_dividend_yield  \\\n",
       "0               17.43                36.63                         13.26   \n",
       "\n",
       "        earnings_date    ex_dividend_date       dividend_date  \\\n",
       "0 2020-04-01 08:00:00 2022-12-29 08:00:00 2018-03-01 08:00:00   \n",
       "\n",
       "   last_dividend_date forward_eps forward_pe trailing_eps trailing_pe  \\\n",
       "0 2022-12-09 08:00:00        None       None         None        None   \n",
       "\n",
       "  peg_ratio price_to_book free_cash_flow return_on_equity debt_to_equity  \\\n",
       "0      None          None           None             None           None   \n",
       "\n",
       "  price_to_sales_trailing_12_months payout_ratio  dividend_yield  \\\n",
       "0                              None         None          0.1111   \n",
       "\n",
       "   dividend_rate  trailing_annual_dividend_rate  \\\n",
       "0           2.16                              0   \n",
       "\n",
       "   trailing_annual_dividend_yield  \\\n",
       "0                               0   \n",
       "\n",
       "                                               yfinance_url  \n",
       "0  https://finance.yahoo.com/quote/ACV/key-statistics?p=ACV  "
      ]
     },
     "metadata": {},
     "output_type": "display_data"
    },
    {
     "name": "stdout",
     "output_type": "stream",
     "text": [
      "\n",
      "\n",
      "\n",
      "\n"
     ]
    },
    {
     "data": {
      "text/html": [
       "<div>\n",
       "<style scoped>\n",
       "    .dataframe tbody tr th:only-of-type {\n",
       "        vertical-align: middle;\n",
       "    }\n",
       "\n",
       "    .dataframe tbody tr th {\n",
       "        vertical-align: top;\n",
       "    }\n",
       "\n",
       "    .dataframe thead th {\n",
       "        text-align: right;\n",
       "    }\n",
       "</style>\n",
       "<table border=\"1\" class=\"dataframe\">\n",
       "  <thead>\n",
       "    <tr style=\"text-align: right;\">\n",
       "      <th></th>\n",
       "      <th>symbol</th>\n",
       "      <th>seeking_alpha_url</th>\n",
       "      <th>estimated_earning_date</th>\n",
       "    </tr>\n",
       "  </thead>\n",
       "  <tbody>\n",
       "    <tr>\n",
       "      <th>0</th>\n",
       "      <td>ACV</td>\n",
       "      <td>https://seekingalpha.com/api/v3/symbols/ACV/dividend_history?group_by=quarterly&amp;sort=-date</td>\n",
       "      <td>0001-01-01 00:00:00</td>\n",
       "    </tr>\n",
       "  </tbody>\n",
       "</table>\n",
       "</div>"
      ],
      "text/plain": [
       "  symbol  \\\n",
       "0    ACV   \n",
       "\n",
       "                                                                            seeking_alpha_url  \\\n",
       "0  https://seekingalpha.com/api/v3/symbols/ACV/dividend_history?group_by=quarterly&sort=-date   \n",
       "\n",
       "  estimated_earning_date  \n",
       "0    0001-01-01 00:00:00  "
      ]
     },
     "metadata": {},
     "output_type": "display_data"
    },
    {
     "name": "stdout",
     "output_type": "stream",
     "text": [
      "\n",
      "\n",
      "\n",
      "\n"
     ]
    },
    {
     "data": {
      "text/html": [
       "<div>\n",
       "<style scoped>\n",
       "    .dataframe tbody tr th:only-of-type {\n",
       "        vertical-align: middle;\n",
       "    }\n",
       "\n",
       "    .dataframe tbody tr th {\n",
       "        vertical-align: top;\n",
       "    }\n",
       "\n",
       "    .dataframe thead th {\n",
       "        text-align: right;\n",
       "    }\n",
       "</style>\n",
       "<table border=\"1\" class=\"dataframe\">\n",
       "  <thead>\n",
       "    <tr style=\"text-align: right;\">\n",
       "      <th></th>\n",
       "      <th>symbol</th>\n",
       "      <th>ex_dividend_date</th>\n",
       "      <th>dividend_yield_pct</th>\n",
       "      <th>annual_dividend</th>\n",
       "      <th>pe_ratio</th>\n",
       "      <th>nasdaq_url</th>\n",
       "    </tr>\n",
       "  </thead>\n",
       "  <tbody>\n",
       "    <tr>\n",
       "      <th>0</th>\n",
       "      <td>ACV</td>\n",
       "      <td>12/09/2022</td>\n",
       "      <td>N/A</td>\n",
       "      <td>2.16</td>\n",
       "      <td>11.44</td>\n",
       "      <td>https://api.nasdaq.com/api/quote/ACV/dividends?assetclass=stocks</td>\n",
       "    </tr>\n",
       "  </tbody>\n",
       "</table>\n",
       "</div>"
      ],
      "text/plain": [
       "  symbol ex_dividend_date dividend_yield_pct annual_dividend pe_ratio  \\\n",
       "0    ACV       12/09/2022                N/A            2.16    11.44   \n",
       "\n",
       "                                                         nasdaq_url  \n",
       "0  https://api.nasdaq.com/api/quote/ACV/dividends?assetclass=stocks  "
      ]
     },
     "metadata": {},
     "output_type": "display_data"
    },
    {
     "name": "stdout",
     "output_type": "stream",
     "text": [
      "\n",
      "\n",
      "\n",
      "\n"
     ]
    }
   ],
   "source": [
    "for s in rec_stocks:\n",
    "    display(s.yf.to_df().head(11))\n",
    "    print(\"\\n\\n\\n\")\n",
    "    display(s.sa.to_df().head(11))\n",
    "    print(\"\\n\\n\\n\")\n",
    "    display(s.nas.to_df().head(11))\n",
    "    print(\"\\n\\n\\n\")\n",
    "    "
   ]
  },
  {
   "cell_type": "code",
   "execution_count": 2,
   "id": "3a5f4079-f938-4706-8b73-df0aa227e726",
   "metadata": {},
   "outputs": [],
   "source": [
    "from __future__ import print_function\n",
    "from ipywidgets import interact, interactive, fixed, interact_manual\n",
    "import ipywidgets as widgets"
   ]
  },
  {
   "cell_type": "code",
   "execution_count": 3,
   "id": "a12ade48-f433-451e-ac3c-4aed7895ac2f",
   "metadata": {},
   "outputs": [],
   "source": [
    "def f(x):\n",
    "    return x"
   ]
  },
  {
   "cell_type": "code",
   "execution_count": 4,
   "id": "67d0adfe-d52c-40f2-bd0d-6cb587ac8ea1",
   "metadata": {},
   "outputs": [
    {
     "data": {
      "application/vnd.jupyter.widget-view+json": {
       "model_id": "cf2649f0ffc34b00817568c5f6bd12a8",
       "version_major": 2,
       "version_minor": 0
      },
      "text/plain": [
       "interactive(children=(IntSlider(value=10, description='x', max=30, min=-10), Output()), _dom_classes=('widget-…"
      ]
     },
     "metadata": {},
     "output_type": "display_data"
    },
    {
     "data": {
      "text/plain": [
       "<function __main__.f(x)>"
      ]
     },
     "execution_count": 4,
     "metadata": {},
     "output_type": "execute_result"
    }
   ],
   "source": [
    "interact(f, x=10)"
   ]
  },
  {
   "cell_type": "code",
   "execution_count": null,
   "id": "fa4b578e-abaa-49db-874f-249edfe51a73",
   "metadata": {},
   "outputs": [],
   "source": []
  },
  {
   "cell_type": "code",
   "execution_count": null,
   "id": "43fbfdd0-5a68-46f2-9ae8-265c9f7a9803",
   "metadata": {},
   "outputs": [],
   "source": []
  },
  {
   "cell_type": "code",
   "execution_count": null,
   "id": "b58f3bd2-2c28-4d85-aa00-a974a347ca8e",
   "metadata": {},
   "outputs": [],
   "source": []
  },
  {
   "cell_type": "code",
   "execution_count": null,
   "id": "2054db46-97d7-405a-976b-61c9a5940f37",
   "metadata": {},
   "outputs": [],
   "source": []
  },
  {
   "cell_type": "code",
   "execution_count": null,
   "id": "e4895b3d-87a1-4b78-ad3f-255d0c269423",
   "metadata": {},
   "outputs": [],
   "source": []
  },
  {
   "cell_type": "markdown",
   "id": "afbcd180-731f-4a63-b75f-23b245a9a083",
   "metadata": {},
   "source": [
    "Stocks to track\n",
    "- PBR-A\n",
    "- PBR\n",
    "- GOGL\n",
    "- ORC - monthly\n",
    "- OXLC - monthly"
   ]
  },
  {
   "cell_type": "code",
   "execution_count": null,
   "id": "182502a7-7d66-4801-acbd-3abe83b9b230",
   "metadata": {},
   "outputs": [],
   "source": []
  }
 ],
 "metadata": {
  "kernelspec": {
   "display_name": "Python 3 (ipykernel)",
   "language": "python",
   "name": "python3"
  },
  "language_info": {
   "codemirror_mode": {
    "name": "ipython",
    "version": 3
   },
   "file_extension": ".py",
   "mimetype": "text/x-python",
   "name": "python",
   "nbconvert_exporter": "python",
   "pygments_lexer": "ipython3",
   "version": "3.10.4"
  }
 },
 "nbformat": 4,
 "nbformat_minor": 5
}
