{
 "cells": [
  {
   "cell_type": "code",
   "execution_count": 1,
   "id": "37940f72-95c9-4378-a0b2-8c68f160055a",
   "metadata": {},
   "outputs": [],
   "source": [
    "#!pip install ipywidgets"
   ]
  },
  {
   "cell_type": "code",
   "execution_count": 1,
   "id": "88f1babb-b63c-44d2-960e-63ae3dc5ad34",
   "metadata": {},
   "outputs": [],
   "source": [
    "from IPython.core.interactiveshell import InteractiveShell\n",
    "from IPython.display import display\n",
    "InteractiveShell.ast_node_interactivity = \"all\""
   ]
  },
  {
   "cell_type": "code",
   "execution_count": 2,
   "id": "5304c576-c888-48da-8f17-4d798ef95e94",
   "metadata": {},
   "outputs": [],
   "source": [
    "%load_ext autoreload\n",
    "%autoreload 2"
   ]
  },
  {
   "cell_type": "code",
   "execution_count": 3,
   "id": "e9572171-1399-40c1-a80d-ccefb550ef54",
   "metadata": {},
   "outputs": [],
   "source": [
    "import pandas as pd\n",
    "import numpy as np\n",
    "import time\n",
    "from datetime import datetime, timezone"
   ]
  },
  {
   "cell_type": "code",
   "execution_count": 4,
   "id": "249f31d7-4422-4195-9505-d94e343a5ecc",
   "metadata": {},
   "outputs": [],
   "source": [
    "%matplotlib inline\n",
    "pd.set_option('display.max_rows', 500)\n",
    "pd.set_option('display.max_columns', 500)\n",
    "pd.set_option('display.max_seq_items', 500)\n",
    "pd.set_option(\"display.max_colwidth\", None)"
   ]
  },
  {
   "cell_type": "code",
   "execution_count": null,
   "id": "881e6779-72dd-428a-b239-6673699254e5",
   "metadata": {},
   "outputs": [],
   "source": []
  },
  {
   "cell_type": "markdown",
   "id": "4757725c-b0d5-4179-a1c2-202b678425cf",
   "metadata": {},
   "source": [
    "# Stock Recommender"
   ]
  },
  {
   "cell_type": "code",
   "execution_count": 5,
   "id": "9150def1-8d69-46a8-bb86-186b13f2376e",
   "metadata": {},
   "outputs": [],
   "source": [
    "from alphalib.analysis.recommender import *"
   ]
  },
  {
   "cell_type": "code",
   "execution_count": 6,
   "id": "244573e2-a563-4149-b597-b7130087962f",
   "metadata": {},
   "outputs": [
    {
     "name": "stderr",
     "output_type": "stream",
     "text": [
      "2022-12-04 15:58:33,362 - [ recommender.py:133 - recommend_stocks_from_dataset() - INFO ] Analyze stocks by sector\n",
      "2022-12-04 15:58:33,379 - [ recommender.py:160 - recommend_stocks_from_dataset() - INFO ] Getting info for IVR\n",
      "2022-12-04 15:58:37,808 - [ recommender.py:160 - recommend_stocks_from_dataset() - INFO ] Getting info for CWPS\n",
      "2022-12-04 15:58:40,874 - [ recommender.py:160 - recommend_stocks_from_dataset() - INFO ] Getting info for CEN\n",
      "2022-12-04 15:58:43,265 - [ recommender.py:160 - recommend_stocks_from_dataset() - INFO ] Getting info for CLM\n",
      "2022-12-04 15:58:47,110 - [ recommender.py:160 - recommend_stocks_from_dataset() - INFO ] Getting info for CRF\n",
      "2022-12-04 15:58:50,366 - [ recommender.py:160 - recommend_stocks_from_dataset() - INFO ] Getting info for GECC\n",
      "2022-12-04 15:58:52,823 - [ recommender.py:160 - recommend_stocks_from_dataset() - INFO ] Getting info for GER\n",
      "2022-12-04 15:58:55,789 - [ recommender.py:160 - recommend_stocks_from_dataset() - INFO ] Getting info for EDF\n",
      "2022-12-04 15:58:59,922 - [ recommender.py:160 - recommend_stocks_from_dataset() - INFO ] Getting info for CHKR\n",
      "2022-12-04 15:59:03,613 - [ recommender.py:160 - recommend_stocks_from_dataset() - INFO ] Getting info for ECTM\n",
      "2022-12-04 15:59:05,986 - [ recommender.py:160 - recommend_stocks_from_dataset() - INFO ] Getting info for FCNE\n"
     ]
    }
   ],
   "source": [
    "rec_stocks = recommend_stocks_from_dataset(filter_earnings_dt=False)"
   ]
  },
  {
   "cell_type": "code",
   "execution_count": 7,
   "id": "34875676-104e-491c-84a2-5ad51699dd1e",
   "metadata": {},
   "outputs": [
    {
     "name": "stdout",
     "output_type": "stream",
     "text": [
      "11\n"
     ]
    }
   ],
   "source": [
    "print(len(rec_stocks))"
   ]
  },
  {
   "cell_type": "code",
   "execution_count": 14,
   "id": "a1e4d3bb-0828-4a72-a613-facfb20960de",
   "metadata": {},
   "outputs": [],
   "source": [
    "## Interactive dashboard\n",
    "import ipywidgets as widgets\n",
    "from ipywidgets import Button, Layout, jslink, IntText, IntSlider,Dropdown\n",
    "\n",
    "\n",
    "\n"
   ]
  },
  {
   "cell_type": "code",
   "execution_count": null,
   "id": "edc94b63-3841-4554-a0b0-40527d7d49c6",
   "metadata": {},
   "outputs": [],
   "source": []
  },
  {
   "cell_type": "code",
   "execution_count": null,
   "id": "3a5f4079-f938-4706-8b73-df0aa227e726",
   "metadata": {},
   "outputs": [],
   "source": []
  },
  {
   "cell_type": "code",
   "execution_count": null,
   "id": "a12ade48-f433-451e-ac3c-4aed7895ac2f",
   "metadata": {},
   "outputs": [],
   "source": []
  },
  {
   "cell_type": "code",
   "execution_count": null,
   "id": "67d0adfe-d52c-40f2-bd0d-6cb587ac8ea1",
   "metadata": {},
   "outputs": [],
   "source": []
  },
  {
   "cell_type": "markdown",
   "id": "afbcd180-731f-4a63-b75f-23b245a9a083",
   "metadata": {},
   "source": [
    "Stocks to track\n",
    "- PBR-A\n",
    "- PBR\n",
    "- GOGL\n",
    "- ORC - monthly\n",
    "- OXLC - monthly"
   ]
  },
  {
   "cell_type": "code",
   "execution_count": null,
   "id": "182502a7-7d66-4801-acbd-3abe83b9b230",
   "metadata": {},
   "outputs": [],
   "source": []
  }
 ],
 "metadata": {
  "kernelspec": {
   "display_name": "Python 3 (ipykernel)",
   "language": "python",
   "name": "python3"
  },
  "language_info": {
   "codemirror_mode": {
    "name": "ipython",
    "version": 3
   },
   "file_extension": ".py",
   "mimetype": "text/x-python",
   "name": "python",
   "nbconvert_exporter": "python",
   "pygments_lexer": "ipython3",
   "version": "3.10.4"
  }
 },
 "nbformat": 4,
 "nbformat_minor": 5
}
