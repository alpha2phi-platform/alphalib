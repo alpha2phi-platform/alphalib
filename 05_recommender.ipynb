{
 "cells": [
  {
   "cell_type": "code",
   "execution_count": 1,
   "id": "37940f72-95c9-4378-a0b2-8c68f160055a",
   "metadata": {},
   "outputs": [],
   "source": [
    "!pip install -Uq ipywidgets"
   ]
  },
  {
   "cell_type": "code",
   "execution_count": 2,
   "id": "88f1babb-b63c-44d2-960e-63ae3dc5ad34",
   "metadata": {},
   "outputs": [],
   "source": [
    "from IPython.core.interactiveshell import InteractiveShell\n",
    "from IPython.display import display\n",
    "InteractiveShell.ast_node_interactivity = \"all\""
   ]
  },
  {
   "cell_type": "code",
   "execution_count": 3,
   "id": "5304c576-c888-48da-8f17-4d798ef95e94",
   "metadata": {},
   "outputs": [],
   "source": [
    "%load_ext autoreload\n",
    "%autoreload 2"
   ]
  },
  {
   "cell_type": "code",
   "execution_count": 4,
   "id": "e9572171-1399-40c1-a80d-ccefb550ef54",
   "metadata": {},
   "outputs": [],
   "source": [
    "import pandas as pd\n",
    "import numpy as np\n",
    "import time\n",
    "from datetime import datetime, timezone"
   ]
  },
  {
   "cell_type": "code",
   "execution_count": 5,
   "id": "249f31d7-4422-4195-9505-d94e343a5ecc",
   "metadata": {},
   "outputs": [],
   "source": [
    "%matplotlib inline\n",
    "pd.set_option('display.max_rows', 500)\n",
    "pd.set_option('display.max_columns', 500)\n",
    "pd.set_option('display.max_seq_items', 500)\n",
    "pd.set_option(\"display.max_colwidth\", None)"
   ]
  },
  {
   "cell_type": "code",
   "execution_count": null,
   "id": "881e6779-72dd-428a-b239-6673699254e5",
   "metadata": {},
   "outputs": [],
   "source": []
  },
  {
   "cell_type": "markdown",
   "id": "4757725c-b0d5-4179-a1c2-202b678425cf",
   "metadata": {},
   "source": [
    "# Stock Recommender"
   ]
  },
  {
   "cell_type": "code",
   "execution_count": 6,
   "id": "9150def1-8d69-46a8-bb86-186b13f2376e",
   "metadata": {},
   "outputs": [],
   "source": [
    "from alphalib.analysis.recommender import *"
   ]
  },
  {
   "cell_type": "code",
   "execution_count": 7,
   "id": "244573e2-a563-4149-b597-b7130087962f",
   "metadata": {},
   "outputs": [
    {
     "name": "stderr",
     "output_type": "stream",
     "text": [
      "2023-02-06 13:44:30,567 - [ recommender.py:119 - recommend_stocks_from_dataset() - INFO ] Analyze stocks by sector\n",
      "2023-02-06 13:44:30,604 - [ recommender.py:147 - recommend_stocks_from_dataset() - INFO ] Getting info for IVR\n",
      "2023-02-06 13:44:40,538 - [ recommender.py:147 - recommend_stocks_from_dataset() - INFO ] Getting info for ORC\n",
      "2023-02-06 13:44:49,811 - [ recommender.py:147 - recommend_stocks_from_dataset() - INFO ] Getting info for WMC\n",
      "2023-02-06 13:44:59,379 - [ recommender.py:147 - recommend_stocks_from_dataset() - INFO ] Getting info for MITT\n",
      "2023-02-06 13:45:08,853 - [ recommender.py:147 - recommend_stocks_from_dataset() - INFO ] Getting info for BVERS\n",
      "2023-02-06 13:45:18,328 - [ recommender.py:147 - recommend_stocks_from_dataset() - INFO ] Getting info for NYMT\n",
      "2023-02-06 13:45:27,880 - [ recommender.py:147 - recommend_stocks_from_dataset() - INFO ] Getting info for CHMI\n",
      "2023-02-06 13:45:37,584 - [ recommender.py:147 - recommend_stocks_from_dataset() - INFO ] Getting info for ARR\n",
      "2023-02-06 13:45:46,933 - [ recommender.py:147 - recommend_stocks_from_dataset() - INFO ] Getting info for MFA\n",
      "2023-02-06 13:45:56,093 - [ recommender.py:147 - recommend_stocks_from_dataset() - INFO ] Getting info for CIM\n",
      "2023-02-06 13:46:05,788 - [ recommender.py:147 - recommend_stocks_from_dataset() - INFO ] Getting info for EARN\n",
      "2023-02-06 13:46:15,068 - [ recommender.py:147 - recommend_stocks_from_dataset() - INFO ] Getting info for TWO\n",
      "2023-02-06 13:46:24,877 - [ recommender.py:147 - recommend_stocks_from_dataset() - INFO ] Getting info for CWPS\n",
      "2023-02-06 13:46:34,310 - [ recommender.py:147 - recommend_stocks_from_dataset() - INFO ] Getting info for USDP\n",
      "2023-02-06 13:46:43,899 - [ recommender.py:147 - recommend_stocks_from_dataset() - INFO ] Getting info for IEP\n",
      "2023-02-06 13:46:54,834 - [ recommender.py:147 - recommend_stocks_from_dataset() - INFO ] Getting info for KNOP\n",
      "2023-02-06 13:47:05,193 - [ recommender.py:147 - recommend_stocks_from_dataset() - INFO ] Getting info for FMCCJ\n",
      "2023-02-06 13:47:14,655 - [ recommender.py:147 - recommend_stocks_from_dataset() - INFO ] Getting info for FMCCH\n",
      "2023-02-06 13:47:24,383 - [ recommender.py:147 - recommend_stocks_from_dataset() - INFO ] Getting info for FMCKP\n",
      "2023-02-06 13:47:33,906 - [ recommender.py:147 - recommend_stocks_from_dataset() - INFO ] Getting info for FNMAM\n",
      "2023-02-06 13:47:43,327 - [ recommender.py:147 - recommend_stocks_from_dataset() - INFO ] Getting info for FMCCP\n",
      "2023-02-06 13:47:52,442 - [ recommender.py:147 - recommend_stocks_from_dataset() - INFO ] Getting info for FMCCO\n",
      "2023-02-06 13:48:02,169 - [ recommender.py:147 - recommend_stocks_from_dataset() - INFO ] Getting info for CEN\n",
      "2023-02-06 13:48:11,539 - [ recommender.py:147 - recommend_stocks_from_dataset() - INFO ] Getting info for FMCCL\n",
      "2023-02-06 13:48:23,162 - [ recommender.py:147 - recommend_stocks_from_dataset() - INFO ] Getting info for FMCCK\n",
      "2023-02-06 13:48:32,890 - [ recommender.py:147 - recommend_stocks_from_dataset() - INFO ] Getting info for FMCCG\n",
      "2023-02-06 13:48:44,256 - [ recommender.py:147 - recommend_stocks_from_dataset() - INFO ] Getting info for FNMAN\n",
      "2023-02-06 13:48:53,473 - [ recommender.py:147 - recommend_stocks_from_dataset() - INFO ] Getting info for FNMAO\n",
      "2023-02-06 13:49:03,611 - [ recommender.py:147 - recommend_stocks_from_dataset() - INFO ] Getting info for FNMAK\n",
      "2023-02-06 13:49:17,844 - [ recommender.py:147 - recommend_stocks_from_dataset() - INFO ] Getting info for NTG\n",
      "2023-02-06 13:49:27,209 - [ recommender.py:147 - recommend_stocks_from_dataset() - INFO ] Getting info for CLM\n",
      "2023-02-06 13:49:37,349 - [ recommender.py:147 - recommend_stocks_from_dataset() - INFO ] Getting info for FMCCM\n",
      "2023-02-06 13:49:46,515 - [ recommender.py:147 - recommend_stocks_from_dataset() - INFO ] Getting info for CRF\n",
      "2023-02-06 13:49:57,431 - [ recommender.py:147 - recommend_stocks_from_dataset() - INFO ] Getting info for FNMAL\n",
      "2023-02-06 13:50:07,507 - [ recommender.py:147 - recommend_stocks_from_dataset() - INFO ] Getting info for FNMAG\n",
      "2023-02-06 13:50:17,437 - [ recommender.py:147 - recommend_stocks_from_dataset() - INFO ] Getting info for OXLC\n",
      "2023-02-06 13:50:27,110 - [ recommender.py:147 - recommend_stocks_from_dataset() - INFO ] Getting info for FNMAP\n",
      "2023-02-06 13:50:36,487 - [ recommender.py:147 - recommend_stocks_from_dataset() - INFO ] Getting info for FMCCN\n",
      "2023-02-06 13:50:46,522 - [ recommender.py:147 - recommend_stocks_from_dataset() - INFO ] Getting info for FMCCI\n",
      "2023-02-06 13:50:56,045 - [ recommender.py:147 - recommend_stocks_from_dataset() - INFO ] Getting info for GER\n",
      "2023-02-06 13:51:05,054 - [ recommender.py:147 - recommend_stocks_from_dataset() - INFO ] Getting info for GECC\n",
      "2023-02-06 13:51:14,519 - [ recommender.py:147 - recommend_stocks_from_dataset() - INFO ] Getting info for EDF\n",
      "2023-02-06 13:51:23,639 - [ recommender.py:147 - recommend_stocks_from_dataset() - INFO ] Getting info for EDI\n",
      "2023-02-06 13:51:33,501 - [ recommender.py:147 - recommend_stocks_from_dataset() - INFO ] Getting info for OXSQ\n",
      "2023-02-06 13:51:42,754 - [ recommender.py:147 - recommend_stocks_from_dataset() - INFO ] Getting info for ICMB\n",
      "2023-02-06 13:51:52,381 - [ recommender.py:147 - recommend_stocks_from_dataset() - INFO ] Getting info for FCRD\n",
      "2023-02-06 13:52:05,471 - [ recommender.py:147 - recommend_stocks_from_dataset() - INFO ] Getting info for EMO\n",
      "2023-02-06 13:52:14,961 - [ recommender.py:147 - recommend_stocks_from_dataset() - INFO ] Getting info for ACV\n",
      "2023-02-06 13:52:24,771 - [ recommender.py:147 - recommend_stocks_from_dataset() - INFO ] Getting info for FSK\n",
      "2023-02-06 13:52:35,310 - [ recommender.py:147 - recommend_stocks_from_dataset() - INFO ] Getting info for RIV\n",
      "2023-02-06 13:52:44,802 - [ recommender.py:147 - recommend_stocks_from_dataset() - INFO ] Getting info for OFS\n",
      "2023-02-06 13:52:53,995 - [ recommender.py:147 - recommend_stocks_from_dataset() - INFO ] Getting info for BKCC\n",
      "2023-02-06 13:53:03,523 - [ recommender.py:147 - recommend_stocks_from_dataset() - INFO ] Getting info for ACP\n",
      "2023-02-06 13:53:12,773 - [ recommender.py:147 - recommend_stocks_from_dataset() - INFO ] Getting info for OPP\n",
      "2023-02-06 13:53:21,855 - [ recommender.py:147 - recommend_stocks_from_dataset() - INFO ] Getting info for MRCC\n",
      "2023-02-06 13:53:33,324 - [ recommender.py:147 - recommend_stocks_from_dataset() - INFO ] Getting info for CHKR\n",
      "2023-02-06 13:53:42,591 - [ recommender.py:147 - recommend_stocks_from_dataset() - INFO ] Getting info for ECTM\n",
      "2023-02-06 13:53:52,072 - [ recommender.py:147 - recommend_stocks_from_dataset() - INFO ] Getting info for MMLP\n",
      "2023-02-06 13:54:02,215 - [ recommender.py:147 - recommend_stocks_from_dataset() - INFO ] Getting info for TTYP\n",
      "2023-02-06 13:54:12,453 - [ recommender.py:147 - recommend_stocks_from_dataset() - INFO ] Getting info for MVO\n",
      "2023-02-06 13:54:22,366 - [ recommender.py:147 - recommend_stocks_from_dataset() - INFO ] Getting info for GLOP\n",
      "2023-02-06 13:54:31,661 - [ recommender.py:147 - recommend_stocks_from_dataset() - INFO ] Getting info for USAC\n",
      "2023-02-06 13:54:41,089 - [ recommender.py:147 - recommend_stocks_from_dataset() - INFO ] Getting info for VOC\n",
      "2023-02-06 13:54:50,912 - [ recommender.py:147 - recommend_stocks_from_dataset() - INFO ] Getting info for PVL\n",
      "2023-02-06 13:55:00,638 - [ recommender.py:147 - recommend_stocks_from_dataset() - INFO ] Getting info for ENLC\n",
      "2023-02-06 13:55:09,428 - [ recommender.py:147 - recommend_stocks_from_dataset() - INFO ] Getting info for NS\n",
      "2023-02-06 13:55:20,691 - [ recommender.py:147 - recommend_stocks_from_dataset() - INFO ] Getting info for CAPL\n",
      "2023-02-06 13:55:30,371 - [ recommender.py:147 - recommend_stocks_from_dataset() - INFO ] Getting info for FCNE\n"
     ]
    }
   ],
   "source": [
    "rec_stocks = recommend_stocks_from_dataset(filter_earnings_dt=False, target_yield=12)"
   ]
  },
  {
   "cell_type": "code",
   "execution_count": 8,
   "id": "34875676-104e-491c-84a2-5ad51699dd1e",
   "metadata": {},
   "outputs": [
    {
     "name": "stdout",
     "output_type": "stream",
     "text": [
      "68\n"
     ]
    }
   ],
   "source": [
    "print(len(rec_stocks))"
   ]
  },
  {
   "cell_type": "code",
   "execution_count": 9,
   "id": "edc94b63-3841-4554-a0b0-40527d7d49c6",
   "metadata": {},
   "outputs": [
    {
     "name": "stdout",
     "output_type": "stream",
     "text": [
      "ECTM, 18.5, 0\n",
      "KNOP, 12.75, 0.18578571428571428\n",
      "CLM, 20.58, nan\n",
      "CRF, 20.17, nan\n",
      "ORC, 18.7, 0.05073999999999999\n",
      "GECC, 17.5, -0.0516\n",
      "CHKR, 23.01, 0\n",
      "IVR, 19.65, 0.0\n",
      "ARR, 13.86, 0.10243333333333333\n",
      "MVO, 15.72, 0.765\n",
      "CIM, 12.83, 0.290675\n",
      "WMC, 15.76, 0.5719\n",
      "CHMI, 13.85, 0.0\n",
      "ACP, 12.93, 0.19095\n",
      "ICMB, 14.87, 0.3818\n",
      "VOC, 14.46, 0.5146999999999999\n",
      "IEP, 13.26, 0.09553636363636363\n",
      "TWO, 12.51, 0.002533333333333332\n",
      "MFA, 12.92, 0.059199999999999996\n",
      "OXLC, 18.44, 0.3996\n",
      "EARN, 12.45, 0.13935\n",
      "FSK, 13.3, -0.008887499999999986\n",
      "PVL, 13.84, 0.4464666666666666\n",
      "NYMT, 14.21, 0.422925\n",
      "USDP, 15.04, 0.0\n",
      "MITT, 15.37, 0.33861666666666673\n",
      "MRCC, 12.21, 0.296\n",
      "OXSQ, 14.7, 0.21230000000000002\n",
      "OFS, 12.97, 0.57375\n",
      "BKCC, 12.9, 0.21230000000000002\n",
      "USAC, 14.2, 0.0625\n",
      "CAPL, 12.1, 0.0\n",
      "FCRD, 14.01, nan\n",
      "ENLC, 12.45, 0.29792727272727276\n",
      "MMLP, 15.22, 0.38185\n",
      "GLOP, 13.92, 0.16053\n",
      "BVERS, 14.67, 0\n",
      "CWPS, 16.2, 0\n",
      "FMCCJ, 30.04, 0\n",
      "FMCCH, 28.68, 0\n",
      "FMCKP, 26.45, 0\n",
      "FNMAM, 25.74, 0\n",
      "FMCCP, 25.6, 0\n",
      "FMCCO, 24.86, 0\n",
      "CEN, 24.56, nan\n",
      "FMCCL, 24.59, 0\n",
      "FMCCK, 23.92, 0\n",
      "FMCCG, 23.19, 0\n",
      "FNMAN, 22.81, 0\n",
      "FNMAO, 22.79, 0\n",
      "FNMAK, 22.78, 0\n",
      "NTG, 20.39, 0.3612\n",
      "FMCCM, 19.76, 0\n",
      "FNMAL, 18.69, 0\n",
      "FNMAG, 18.61, 0\n",
      "FNMAP, 17.92, 0\n",
      "FMCCN, 17.85, 0\n",
      "FMCCI, 17.55, 0\n",
      "GER, 16.85, nan\n",
      "EDF, 16.88, -0.128\n",
      "EDI, 15.14, nan\n",
      "EMO, 13.42, 0.37370000000000003\n",
      "ACV, 13.31, 0.13502\n",
      "RIV, 13.52, nan\n",
      "OPP, 13.2, 0.32985\n",
      "TTYP, 15.8, 0\n",
      "NS, 12.08, 0.24704285714285712\n",
      "FCNE, 14.8, 0\n"
     ]
    }
   ],
   "source": [
    "for s in rec_stocks:\n",
    "    print(f\"{s.yf.symbol}, {s.yf.five_year_avg_dividend_yield}, {s.sentiment_score}\")\n",
    "    #print(s.yf.dividend_history)\n",
    "    #display(s.yf.to_df().head(11))\n",
    "    #print(\"\\n\\n\\n\")\n",
    "    #display(s.sa.to_df().head(11))\n",
    "    #print(\"\\n\\n\\n\")\n",
    "    #display(s.nas.to_df().head(11))\n",
    "    #print(\"\\n\\n\\n\")\n",
    "    "
   ]
  },
  {
   "cell_type": "code",
   "execution_count": null,
   "id": "94d92fd6-cb4e-446b-8d56-318e5ed8b780",
   "metadata": {},
   "outputs": [],
   "source": []
  },
  {
   "cell_type": "markdown",
   "id": "6cefed2c-c4b7-4196-a30e-eb61bdbc96ee",
   "metadata": {},
   "source": [
    "# Passive Investor"
   ]
  },
  {
   "cell_type": "code",
   "execution_count": 10,
   "id": "a32ed1db-45e9-4eef-ad58-b172e5029895",
   "metadata": {
    "tags": []
   },
   "outputs": [],
   "source": [
    "!pip install -Uq thepassiveinvestor"
   ]
  },
  {
   "cell_type": "code",
   "execution_count": 11,
   "id": "6d8c1b46-3a60-4332-8735-e0a43b5f8893",
   "metadata": {
    "tags": []
   },
   "outputs": [
    {
     "data": {
      "text/plain": [
       "{'long_name': 'Vanguard 500 Index Fund',\n",
       " 'summary': \"The fund employs an indexing investment approach designed to track the performance of the Standard & Poor's 500 Index, a widely recognized benchmark of U.S. stock market performance that is dominated by the stocks of large U.S. companies. The advisor attempts to replicate the target index by investing all, or substantially all, of its assets in the stocks that make up the index, holding each stock in approximately the same proportion as its weighting in the index.\",\n",
       " 'image_URL': 'https://s.yimg.com/lq/i/fi/3_0stylelargeeq2.gif',\n",
       " 'sector_holdings': {'realestate': '2.79%',\n",
       "  'consumer_cyclical': '9.54%',\n",
       "  'basic_materials': '2.45%',\n",
       "  'consumer_defensive': '7.59%',\n",
       "  'technology': '22.96%',\n",
       "  'communication_services': '7.26%',\n",
       "  'financial_services': '13.8%',\n",
       "  'utilities': '2.43%',\n",
       "  'industrials': '9.03%',\n",
       "  'energy': '5.22%',\n",
       "  'healthcare': '15.86%'},\n",
       " 'company_holdings': {'Apple Inc': '5.92%',\n",
       "  'Microsoft Corp': '5.62%',\n",
       "  'Amazon.com Inc': '4.06%',\n",
       "  'Facebook Inc Class A': '2.29%',\n",
       "  'Alphabet Inc Class A': '2.02%',\n",
       "  'Alphabet Inc Class C': '1.97%',\n",
       "  'Berkshire Hathaway Inc Class B': '1.44%',\n",
       "  'Tesla Inc': '1.44%',\n",
       "  'NVIDIA Corp': '1.37%',\n",
       "  'JPMorgan Chase & Co': '1.3%'},\n",
       " 'annual_returns': {'2022': '-18.15%',\n",
       "  '2021': '28.66%',\n",
       "  '2020': '18.35%',\n",
       "  '2019': '31.46%',\n",
       "  '2018': '-4.42%',\n",
       "  '2017': '21.78%'},\n",
       " 'risk_data': {'5y': {'year': '5y',\n",
       "   'alpha': -0.04,\n",
       "   'beta': 1,\n",
       "   'meanAnnualReturn': 0.89,\n",
       "   'rSquared': 100,\n",
       "   'stdDev': 18.69,\n",
       "   'sharpeRatio': -0.19,\n",
       "   'treynorRatio': 8.04},\n",
       "  '3y': {'year': '3y',\n",
       "   'alpha': -0.04,\n",
       "   'beta': 1,\n",
       "   'meanAnnualReturn': 0.8,\n",
       "   'rSquared': 100,\n",
       "   'stdDev': 21.17,\n",
       "   'sharpeRatio': -0.55,\n",
       "   'treynorRatio': 6.76},\n",
       "  '10y': {'year': '10y',\n",
       "   'alpha': -0.04,\n",
       "   'beta': 1,\n",
       "   'meanAnnualReturn': 1.08,\n",
       "   'rSquared': 100,\n",
       "   'stdDev': 14.78,\n",
       "   'sharpeRatio': 0.88,\n",
       "   'treynorRatio': 11.7}},\n",
       " 'key_characteristics': {'fundInceptionDate': '2010-09-07',\n",
       "  'category': 'Large Blend',\n",
       "  'totalAssets': 744769716224,\n",
       "  'currency': 'USD',\n",
       "  'navPrice': 379,\n",
       "  'previousClose': 382.94}}"
      ]
     },
     "execution_count": 11,
     "metadata": {},
     "output_type": "execute_result"
    }
   ],
   "source": [
    "import thepassiveinvestor as pi\n",
    "etf_comparison = pi.collect_data('VOO')\n",
    "etf_comparison"
   ]
  },
  {
   "cell_type": "code",
   "execution_count": null,
   "id": "5ae7b076-f15f-4203-a41c-7d5f476966a5",
   "metadata": {},
   "outputs": [],
   "source": []
  },
  {
   "cell_type": "code",
   "execution_count": null,
   "id": "49b8542c-5ff1-488d-86cb-ad4cf707a7a7",
   "metadata": {},
   "outputs": [],
   "source": []
  },
  {
   "cell_type": "code",
   "execution_count": 12,
   "id": "3a5f4079-f938-4706-8b73-df0aa227e726",
   "metadata": {},
   "outputs": [],
   "source": [
    "from __future__ import print_function\n",
    "from ipywidgets import interact, interactive, fixed, interact_manual\n",
    "import ipywidgets as widgets"
   ]
  },
  {
   "cell_type": "code",
   "execution_count": 13,
   "id": "a12ade48-f433-451e-ac3c-4aed7895ac2f",
   "metadata": {},
   "outputs": [],
   "source": [
    "def f(x):\n",
    "    return x"
   ]
  },
  {
   "cell_type": "code",
   "execution_count": 14,
   "id": "67d0adfe-d52c-40f2-bd0d-6cb587ac8ea1",
   "metadata": {},
   "outputs": [
    {
     "data": {
      "application/vnd.jupyter.widget-view+json": {
       "model_id": "82bc245ef2e04a69a9ab1ceb0b9a0251",
       "version_major": 2,
       "version_minor": 0
      },
      "text/plain": [
       "interactive(children=(IntSlider(value=10, description='x', max=30, min=-10), Output()), _dom_classes=('widget-…"
      ]
     },
     "metadata": {},
     "output_type": "display_data"
    },
    {
     "data": {
      "text/plain": [
       "<function __main__.f(x)>"
      ]
     },
     "execution_count": 14,
     "metadata": {},
     "output_type": "execute_result"
    }
   ],
   "source": [
    "interact(f, x=10)"
   ]
  },
  {
   "cell_type": "code",
   "execution_count": null,
   "id": "fa4b578e-abaa-49db-874f-249edfe51a73",
   "metadata": {},
   "outputs": [],
   "source": []
  },
  {
   "cell_type": "code",
   "execution_count": null,
   "id": "43fbfdd0-5a68-46f2-9ae8-265c9f7a9803",
   "metadata": {},
   "outputs": [],
   "source": []
  },
  {
   "cell_type": "code",
   "execution_count": null,
   "id": "b58f3bd2-2c28-4d85-aa00-a974a347ca8e",
   "metadata": {},
   "outputs": [],
   "source": []
  },
  {
   "cell_type": "code",
   "execution_count": null,
   "id": "2054db46-97d7-405a-976b-61c9a5940f37",
   "metadata": {},
   "outputs": [],
   "source": []
  },
  {
   "cell_type": "code",
   "execution_count": null,
   "id": "e4895b3d-87a1-4b78-ad3f-255d0c269423",
   "metadata": {},
   "outputs": [],
   "source": []
  },
  {
   "cell_type": "markdown",
   "id": "afbcd180-731f-4a63-b75f-23b245a9a083",
   "metadata": {},
   "source": [
    "Stocks to track\n",
    "- PBR-A\n",
    "- PBR\n",
    "- GOGL\n",
    "- ORC - monthly\n",
    "- OXLC - monthly"
   ]
  },
  {
   "cell_type": "code",
   "execution_count": null,
   "id": "182502a7-7d66-4801-acbd-3abe83b9b230",
   "metadata": {},
   "outputs": [],
   "source": []
  }
 ],
 "metadata": {
  "kernelspec": {
   "display_name": "Python 3 (ipykernel)",
   "language": "python",
   "name": "python3"
  },
  "language_info": {
   "codemirror_mode": {
    "name": "ipython",
    "version": 3
   },
   "file_extension": ".py",
   "mimetype": "text/x-python",
   "name": "python",
   "nbconvert_exporter": "python",
   "pygments_lexer": "ipython3",
   "version": "3.10.4"
  }
 },
 "nbformat": 4,
 "nbformat_minor": 5
}
