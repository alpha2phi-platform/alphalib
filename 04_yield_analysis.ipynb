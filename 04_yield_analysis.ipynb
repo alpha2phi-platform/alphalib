{
 "cells": [
  {
   "cell_type": "code",
   "execution_count": 1,
   "id": "88f1babb-b63c-44d2-960e-63ae3dc5ad34",
   "metadata": {},
   "outputs": [],
   "source": [
    "from IPython.core.interactiveshell import InteractiveShell\n",
    "from IPython.display import display\n",
    "InteractiveShell.ast_node_interactivity = \"all\""
   ]
  },
  {
   "cell_type": "code",
   "execution_count": 2,
   "id": "5304c576-c888-48da-8f17-4d798ef95e94",
   "metadata": {},
   "outputs": [],
   "source": [
    "%load_ext autoreload\n",
    "%autoreload 2"
   ]
  },
  {
   "cell_type": "code",
   "execution_count": 3,
   "id": "e9572171-1399-40c1-a80d-ccefb550ef54",
   "metadata": {},
   "outputs": [],
   "source": [
    "import pandas as pd\n",
    "import numpy as np\n",
    "import time\n",
    "from datetime import datetime, timezone"
   ]
  },
  {
   "cell_type": "code",
   "execution_count": 4,
   "id": "249f31d7-4422-4195-9505-d94e343a5ecc",
   "metadata": {},
   "outputs": [],
   "source": [
    "%matplotlib inline\n",
    "pd.set_option('display.max_rows', 500)\n",
    "pd.set_option('display.max_columns', 500)\n",
    "pd.set_option('display.max_seq_items', 500)"
   ]
  },
  {
   "cell_type": "code",
   "execution_count": null,
   "id": "881e6779-72dd-428a-b239-6673699254e5",
   "metadata": {},
   "outputs": [],
   "source": []
  },
  {
   "cell_type": "markdown",
   "id": "4757725c-b0d5-4179-a1c2-202b678425cf",
   "metadata": {},
   "source": [
    "# Analyse High-Yield Dividend Stocks "
   ]
  },
  {
   "cell_type": "code",
   "execution_count": 5,
   "id": "9150def1-8d69-46a8-bb86-186b13f2376e",
   "metadata": {},
   "outputs": [],
   "source": [
    "from alphalib.analysis.dividend_yield import recommend_stocks"
   ]
  },
  {
   "cell_type": "code",
   "execution_count": 6,
   "id": "3e65243a-c85b-4e6e-9e64-7236846d7afb",
   "metadata": {},
   "outputs": [
    {
     "name": "stderr",
     "output_type": "stream",
     "text": [
      "2022-10-23 17:08:46,664 - [ dividend_yield.py:34 - recommend_stocks() - INFO ] Analyze stocks by sector\n",
      "2022-10-23 17:08:48,323 - [ dividend_yield.py:58 - recommend_stocks() - INFO ] Getting info for SPH\n",
      "2022-10-23 17:08:56,577 - [ dividend_yield.py:58 - recommend_stocks() - INFO ] Getting info for GNE-PA\n"
     ]
    },
    {
     "ename": "NoSuchElementException",
     "evalue": "Message: no such element: Unable to locate element: {\"method\":\"css selector\",\"selector\":\"div.dividend-history.dividend-history--loaded\"}\n  (Session info: headless chrome=106.0.5249.103)\nStacktrace:\n#0 0x559bbc56d2c3 <unknown>\n#1 0x559bbc37683a <unknown>\n#2 0x559bbc3af985 <unknown>\n#3 0x559bbc3afb61 <unknown>\n#4 0x559bbc3e7d14 <unknown>\n#5 0x559bbc3cdf6d <unknown>\n#6 0x559bbc3e5a50 <unknown>\n#7 0x559bbc3cdd63 <unknown>\n#8 0x559bbc3a27e3 <unknown>\n#9 0x559bbc3a3a21 <unknown>\n#10 0x559bbc5bb18e <unknown>\n#11 0x559bbc5be622 <unknown>\n#12 0x559bbc5a1aae <unknown>\n#13 0x559bbc5bf2a3 <unknown>\n#14 0x559bbc595ecf <unknown>\n#15 0x559bbc5df588 <unknown>\n#16 0x559bbc5df706 <unknown>\n#17 0x559bbc5f98b2 <unknown>\n#18 0x7f87bf25e74d <unknown>\n",
     "output_type": "error",
     "traceback": [
      "\u001b[0;31m---------------------------------------------------------------------------\u001b[0m",
      "\u001b[0;31mNoSuchElementException\u001b[0m                    Traceback (most recent call last)",
      "Input \u001b[0;32mIn [6]\u001b[0m, in \u001b[0;36m<cell line: 1>\u001b[0;34m()\u001b[0m\n\u001b[0;32m----> 1\u001b[0m \u001b[43mrecommend_stocks\u001b[49m\u001b[43m(\u001b[49m\u001b[43m)\u001b[49m\n",
      "File \u001b[0;32m~/workspace/platform/alphalib/alphalib/analysis/dividend_yield.py:60\u001b[0m, in \u001b[0;36mrecommend_stocks\u001b[0;34m(by)\u001b[0m\n\u001b[1;32m     58\u001b[0m logger\u001b[38;5;241m.\u001b[39minfo(\u001b[38;5;124mf\u001b[39m\u001b[38;5;124m\"\u001b[39m\u001b[38;5;124mGetting info for \u001b[39m\u001b[38;5;132;01m{\u001b[39;00msymbol\u001b[38;5;132;01m}\u001b[39;00m\u001b[38;5;124m\"\u001b[39m)\n\u001b[1;32m     59\u001b[0m yf_stock_info \u001b[38;5;241m=\u001b[39m get_yfinance(symbol)\n\u001b[0;32m---> 60\u001b[0m nasdaq_stock_info \u001b[38;5;241m=\u001b[39m \u001b[43mget_nasdaq\u001b[49m\u001b[43m(\u001b[49m\u001b[43msymbol\u001b[49m\u001b[43m)\u001b[49m\n\u001b[1;32m     61\u001b[0m rec_stock \u001b[38;5;241m=\u001b[39m YieldAnalysis()\n\u001b[1;32m     62\u001b[0m set_fields(yf_stock_info, rec_stock)\n",
      "File \u001b[0;32m~/workspace/platform/alphalib/alphalib/data_sources/nasdaq.py:38\u001b[0m, in \u001b[0;36mget_stock_details\u001b[0;34m(symbol)\u001b[0m\n\u001b[1;32m     33\u001b[0m web_driver\u001b[38;5;241m.\u001b[39mget(download_url)\n\u001b[1;32m     34\u001b[0m \u001b[38;5;66;03m# WebDriverWait(web_driver, DEFAULT_HTTP_TIMEOUT).until(\u001b[39;00m\n\u001b[1;32m     35\u001b[0m \u001b[38;5;66;03m#     EC.presence_of_element_located(\u001b[39;00m\n\u001b[1;32m     36\u001b[0m \u001b[38;5;66;03m#         (By.CSS_SELECTOR, \"div > table > tbody > tr:nth-child(2) > td:nth-child(2)\")\u001b[39;00m\n\u001b[1;32m     37\u001b[0m \u001b[38;5;66;03m#     )\u001b[39;00m\n\u001b[0;32m---> 38\u001b[0m \u001b[43mweb_driver\u001b[49m\u001b[38;5;241;43m.\u001b[39;49m\u001b[43mfind_element\u001b[49m\u001b[43m(\u001b[49m\n\u001b[1;32m     39\u001b[0m \u001b[43m    \u001b[49m\u001b[43mBy\u001b[49m\u001b[38;5;241;43m.\u001b[39;49m\u001b[43mCSS_SELECTOR\u001b[49m\u001b[43m,\u001b[49m\u001b[43m \u001b[49m\u001b[38;5;124;43m\"\u001b[39;49m\u001b[38;5;124;43mdiv.dividend-history.dividend-history--loaded\u001b[39;49m\u001b[38;5;124;43m\"\u001b[39;49m\n\u001b[1;32m     40\u001b[0m \u001b[43m\u001b[49m\u001b[43m)\u001b[49m\n\u001b[1;32m     41\u001b[0m page_source \u001b[38;5;241m=\u001b[39m web_driver\u001b[38;5;241m.\u001b[39mpage_source\n\u001b[1;32m     42\u001b[0m soup \u001b[38;5;241m=\u001b[39m BeautifulSoup(page_source, \u001b[38;5;124m\"\u001b[39m\u001b[38;5;124mlxml\u001b[39m\u001b[38;5;124m\"\u001b[39m)\n",
      "File \u001b[0;32m~/miniconda3/lib/python3.10/site-packages/selenium/webdriver/remote/webdriver.py:856\u001b[0m, in \u001b[0;36mWebDriver.find_element\u001b[0;34m(self, by, value)\u001b[0m\n\u001b[1;32m    853\u001b[0m     by \u001b[38;5;241m=\u001b[39m By\u001b[38;5;241m.\u001b[39mCSS_SELECTOR\n\u001b[1;32m    854\u001b[0m     value \u001b[38;5;241m=\u001b[39m \u001b[38;5;124m'\u001b[39m\u001b[38;5;124m[name=\u001b[39m\u001b[38;5;124m\"\u001b[39m\u001b[38;5;132;01m%s\u001b[39;00m\u001b[38;5;124m\"\u001b[39m\u001b[38;5;124m]\u001b[39m\u001b[38;5;124m'\u001b[39m \u001b[38;5;241m%\u001b[39m value\n\u001b[0;32m--> 856\u001b[0m \u001b[38;5;28;01mreturn\u001b[39;00m \u001b[38;5;28;43mself\u001b[39;49m\u001b[38;5;241;43m.\u001b[39;49m\u001b[43mexecute\u001b[49m\u001b[43m(\u001b[49m\u001b[43mCommand\u001b[49m\u001b[38;5;241;43m.\u001b[39;49m\u001b[43mFIND_ELEMENT\u001b[49m\u001b[43m,\u001b[49m\u001b[43m \u001b[49m\u001b[43m{\u001b[49m\n\u001b[1;32m    857\u001b[0m \u001b[43m    \u001b[49m\u001b[38;5;124;43m'\u001b[39;49m\u001b[38;5;124;43musing\u001b[39;49m\u001b[38;5;124;43m'\u001b[39;49m\u001b[43m:\u001b[49m\u001b[43m \u001b[49m\u001b[43mby\u001b[49m\u001b[43m,\u001b[49m\n\u001b[1;32m    858\u001b[0m \u001b[43m    \u001b[49m\u001b[38;5;124;43m'\u001b[39;49m\u001b[38;5;124;43mvalue\u001b[39;49m\u001b[38;5;124;43m'\u001b[39;49m\u001b[43m:\u001b[49m\u001b[43m \u001b[49m\u001b[43mvalue\u001b[49m\u001b[43m}\u001b[49m\u001b[43m)\u001b[49m[\u001b[38;5;124m'\u001b[39m\u001b[38;5;124mvalue\u001b[39m\u001b[38;5;124m'\u001b[39m]\n",
      "File \u001b[0;32m~/miniconda3/lib/python3.10/site-packages/selenium/webdriver/remote/webdriver.py:429\u001b[0m, in \u001b[0;36mWebDriver.execute\u001b[0;34m(self, driver_command, params)\u001b[0m\n\u001b[1;32m    427\u001b[0m response \u001b[38;5;241m=\u001b[39m \u001b[38;5;28mself\u001b[39m\u001b[38;5;241m.\u001b[39mcommand_executor\u001b[38;5;241m.\u001b[39mexecute(driver_command, params)\n\u001b[1;32m    428\u001b[0m \u001b[38;5;28;01mif\u001b[39;00m response:\n\u001b[0;32m--> 429\u001b[0m     \u001b[38;5;28;43mself\u001b[39;49m\u001b[38;5;241;43m.\u001b[39;49m\u001b[43merror_handler\u001b[49m\u001b[38;5;241;43m.\u001b[39;49m\u001b[43mcheck_response\u001b[49m\u001b[43m(\u001b[49m\u001b[43mresponse\u001b[49m\u001b[43m)\u001b[49m\n\u001b[1;32m    430\u001b[0m     response[\u001b[38;5;124m'\u001b[39m\u001b[38;5;124mvalue\u001b[39m\u001b[38;5;124m'\u001b[39m] \u001b[38;5;241m=\u001b[39m \u001b[38;5;28mself\u001b[39m\u001b[38;5;241m.\u001b[39m_unwrap_value(\n\u001b[1;32m    431\u001b[0m         response\u001b[38;5;241m.\u001b[39mget(\u001b[38;5;124m'\u001b[39m\u001b[38;5;124mvalue\u001b[39m\u001b[38;5;124m'\u001b[39m, \u001b[38;5;28;01mNone\u001b[39;00m))\n\u001b[1;32m    432\u001b[0m     \u001b[38;5;28;01mreturn\u001b[39;00m response\n",
      "File \u001b[0;32m~/miniconda3/lib/python3.10/site-packages/selenium/webdriver/remote/errorhandler.py:243\u001b[0m, in \u001b[0;36mErrorHandler.check_response\u001b[0;34m(self, response)\u001b[0m\n\u001b[1;32m    241\u001b[0m         alert_text \u001b[38;5;241m=\u001b[39m value[\u001b[38;5;124m'\u001b[39m\u001b[38;5;124malert\u001b[39m\u001b[38;5;124m'\u001b[39m]\u001b[38;5;241m.\u001b[39mget(\u001b[38;5;124m'\u001b[39m\u001b[38;5;124mtext\u001b[39m\u001b[38;5;124m'\u001b[39m)\n\u001b[1;32m    242\u001b[0m     \u001b[38;5;28;01mraise\u001b[39;00m exception_class(message, screen, stacktrace, alert_text)  \u001b[38;5;66;03m# type: ignore[call-arg]  # mypy is not smart enough here\u001b[39;00m\n\u001b[0;32m--> 243\u001b[0m \u001b[38;5;28;01mraise\u001b[39;00m exception_class(message, screen, stacktrace)\n",
      "\u001b[0;31mNoSuchElementException\u001b[0m: Message: no such element: Unable to locate element: {\"method\":\"css selector\",\"selector\":\"div.dividend-history.dividend-history--loaded\"}\n  (Session info: headless chrome=106.0.5249.103)\nStacktrace:\n#0 0x559bbc56d2c3 <unknown>\n#1 0x559bbc37683a <unknown>\n#2 0x559bbc3af985 <unknown>\n#3 0x559bbc3afb61 <unknown>\n#4 0x559bbc3e7d14 <unknown>\n#5 0x559bbc3cdf6d <unknown>\n#6 0x559bbc3e5a50 <unknown>\n#7 0x559bbc3cdd63 <unknown>\n#8 0x559bbc3a27e3 <unknown>\n#9 0x559bbc3a3a21 <unknown>\n#10 0x559bbc5bb18e <unknown>\n#11 0x559bbc5be622 <unknown>\n#12 0x559bbc5a1aae <unknown>\n#13 0x559bbc5bf2a3 <unknown>\n#14 0x559bbc595ecf <unknown>\n#15 0x559bbc5df588 <unknown>\n#16 0x559bbc5df706 <unknown>\n#17 0x559bbc5f98b2 <unknown>\n#18 0x7f87bf25e74d <unknown>\n"
     ]
    }
   ],
   "source": [
    "recommend_stocks()"
   ]
  },
  {
   "cell_type": "code",
   "execution_count": null,
   "id": "00714f41-6db7-48f7-8c95-f72bf44eb0e5",
   "metadata": {},
   "outputs": [],
   "source": []
  },
  {
   "cell_type": "code",
   "execution_count": null,
   "id": "1ce469d2-b367-4e05-9b72-7af70bec9ef4",
   "metadata": {},
   "outputs": [],
   "source": []
  },
  {
   "cell_type": "code",
   "execution_count": null,
   "id": "4b1c343f-1ddc-43f7-a441-2722d49877fb",
   "metadata": {},
   "outputs": [],
   "source": []
  },
  {
   "cell_type": "code",
   "execution_count": null,
   "id": "a4bddfa2-2bda-473d-ad44-22a5578fb21f",
   "metadata": {},
   "outputs": [],
   "source": []
  },
  {
   "cell_type": "code",
   "execution_count": null,
   "id": "d5b6bf57-a820-4f4d-93b5-18b13ffdd001",
   "metadata": {},
   "outputs": [],
   "source": []
  },
  {
   "cell_type": "code",
   "execution_count": null,
   "id": "edc94b63-3841-4554-a0b0-40527d7d49c6",
   "metadata": {},
   "outputs": [],
   "source": []
  },
  {
   "cell_type": "code",
   "execution_count": null,
   "id": "3a5f4079-f938-4706-8b73-df0aa227e726",
   "metadata": {},
   "outputs": [],
   "source": []
  },
  {
   "cell_type": "code",
   "execution_count": null,
   "id": "a12ade48-f433-451e-ac3c-4aed7895ac2f",
   "metadata": {},
   "outputs": [],
   "source": []
  },
  {
   "cell_type": "code",
   "execution_count": null,
   "id": "67d0adfe-d52c-40f2-bd0d-6cb587ac8ea1",
   "metadata": {},
   "outputs": [],
   "source": []
  },
  {
   "cell_type": "markdown",
   "id": "afbcd180-731f-4a63-b75f-23b245a9a083",
   "metadata": {},
   "source": [
    "Stocks to track\n",
    "- PBR-A\n",
    "- PBR\n",
    "- GOGL\n",
    "- ORC - monthly\n",
    "- OXLC - monthly"
   ]
  },
  {
   "cell_type": "code",
   "execution_count": null,
   "id": "182502a7-7d66-4801-acbd-3abe83b9b230",
   "metadata": {},
   "outputs": [],
   "source": []
  }
 ],
 "metadata": {
  "kernelspec": {
   "display_name": "Python 3 (ipykernel)",
   "language": "python",
   "name": "python3"
  },
  "language_info": {
   "codemirror_mode": {
    "name": "ipython",
    "version": 3
   },
   "file_extension": ".py",
   "mimetype": "text/x-python",
   "name": "python",
   "nbconvert_exporter": "python",
   "pygments_lexer": "ipython3",
   "version": "3.10.4"
  }
 },
 "nbformat": 4,
 "nbformat_minor": 5
}
