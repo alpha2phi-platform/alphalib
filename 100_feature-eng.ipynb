{
 "cells": [
  {
   "cell_type": "code",
   "execution_count": 2,
   "id": "3d1aaf72-1a16-483a-a1ba-f7c4ff4aaa5b",
   "metadata": {},
   "outputs": [
    {
     "name": "stdout",
     "output_type": "stream",
     "text": [
      "   1990  01  06    4670    8971    6810  4244    2195    3137    1027  ...  \\\n",
      "0  1990   1   7  3455.0  3558.0  1691.0  6923  1566.0  6474.0  7666.0  ...   \n",
      "1  1990   1  13  4040.0  8784.0  8539.0  3151  9763.0  9258.0  7000.0  ...   \n",
      "2  1990   1  14  4556.0  1148.0  2672.0  5117  3379.0   504.0  6511.0  ...   \n",
      "3  1990   1  14     NaN     NaN     NaN  9823     NaN     NaN     NaN  ...   \n",
      "4  1990   1  20  6244.0  4776.0  8323.0  4902  8838.0  3316.0  3388.0  ...   \n",
      "5  1990   1  21  6113.0  3495.0    32.0  2525  2355.0  9693.0  3341.0  ...   \n",
      "6  1990   1  27  9146.0  3241.0  7741.0  2428  9835.0  2569.0  8351.0  ...   \n",
      "7  1990   1  28  9460.0  3491.0  4964.0  8233  9774.0  1248.0  9998.0  ...   \n",
      "8  1990   1  28     NaN     NaN     NaN  5863     NaN     NaN     NaN  ...   \n",
      "9  1990   2   3   229.0  5388.0  9279.0  4758  8977.0  8587.0  8132.0  ...   \n",
      "\n",
      "     5122    4971    4753    4475    7349    8817    6351    9422    4650  sat  \n",
      "0  1825.0  3158.0  1387.0  4179.0  9476.0   861.0  5972.0  9166.0  9263.0  sun  \n",
      "1  1164.0  6088.0  5130.0  6212.0  4382.0  2532.0  6163.0  3785.0  7776.0  sat  \n",
      "2  7205.0  2309.0   224.0  4574.0  8923.0  2467.0  6841.0  7890.0  2420.0  sun  \n",
      "3     NaN     NaN     NaN     NaN     NaN     NaN     NaN     NaN     NaN  sun  \n",
      "4  9589.0  2750.0  2065.0  8926.0  3858.0  6969.0  9874.0  8967.0  3674.0  sat  \n",
      "5  7488.0  4022.0   568.0   702.0  3134.0  9505.0  9483.0  4839.0  5010.0  sun  \n",
      "6  5289.0  5560.0  1793.0  7071.0  8311.0  3780.0  8462.0  9862.0  2917.0  sat  \n",
      "7  8016.0  2841.0  7721.0   512.0  5008.0  1519.0  4406.0  1708.0  3208.0  sun  \n",
      "8     NaN     NaN     NaN     NaN     NaN     NaN     NaN     NaN     NaN  sun  \n",
      "9  5156.0  9819.0  5823.0  1882.0  3757.0  6335.0  9425.0  8572.0  4809.0  sat  \n",
      "\n",
      "[10 rows x 27 columns]\n"
     ]
    }
   ],
   "source": [
    "import pandas as pd\n",
    "\n",
    "DATASET_FILE = \"data/MDTaug13.xlsx\"\n",
    "COLUMNS = [\"year\",\"month\", \"day\"]\n",
    "\n",
    "df_data = pd.read_excel(DATASET_FILE, sheet_name=\"Damacai\")\n",
    "print(df_data.head(10))"
   ]
  },
  {
   "cell_type": "code",
   "execution_count": null,
   "id": "a80774b7-0524-48b5-966b-869178928558",
   "metadata": {},
   "outputs": [],
   "source": [
    "\n"
   ]
  },
  {
   "cell_type": "markdown",
   "id": "d40fa395",
   "metadata": {},
   "source": [
    "Featuretools"
   ]
  },
  {
   "cell_type": "code",
   "execution_count": 3,
   "id": "12400b68",
   "metadata": {},
   "outputs": [],
   "source": [
    "import featuretools as ft"
   ]
  },
  {
   "cell_type": "code",
   "execution_count": null,
   "id": "3518d9a2-2915-4c0a-b8b9-dbcaf9d3b97f",
   "metadata": {},
   "outputs": [],
   "source": []
  },
  {
   "cell_type": "code",
   "execution_count": null,
   "id": "b91a768e",
   "metadata": {},
   "outputs": [],
   "source": []
  }
 ],
 "metadata": {
  "kernelspec": {
   "display_name": "Python 3 (ipykernel)",
   "language": "python",
   "name": "python3"
  },
  "language_info": {
   "codemirror_mode": {
    "name": "ipython",
    "version": 3
   },
   "file_extension": ".py",
   "mimetype": "text/x-python",
   "name": "python",
   "nbconvert_exporter": "python",
   "pygments_lexer": "ipython3",
   "version": "3.10.10"
  }
 },
 "nbformat": 4,
 "nbformat_minor": 5
}
