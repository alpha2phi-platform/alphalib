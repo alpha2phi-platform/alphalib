{
 "cells": [
  {
   "cell_type": "code",
   "execution_count": 10,
   "id": "357879b8-ffe5-47cf-854d-c3e8df73ef03",
   "metadata": {},
   "outputs": [],
   "source": [
    "from IPython.core.interactiveshell import InteractiveShell\n",
    "from IPython.display import display\n",
    "InteractiveShell.ast_node_interactivity = \"all\""
   ]
  },
  {
   "cell_type": "code",
   "execution_count": 11,
   "id": "8564ff9d-a106-4e9c-95c8-64dbe7489092",
   "metadata": {},
   "outputs": [],
   "source": [
    "%load_ext autoreload\n",
    "%autoreload 2"
   ]
  },
  {
   "cell_type": "code",
   "execution_count": 12,
   "id": "c76b3217-b43c-4fa7-9d6a-78303707ae14",
   "metadata": {},
   "outputs": [],
   "source": [
    "import pandas as pd"
   ]
  },
  {
   "cell_type": "code",
   "execution_count": 13,
   "id": "15dd0ed8-e265-4fea-8527-e4f40e0b5b27",
   "metadata": {},
   "outputs": [],
   "source": [
    "%matplotlib inline\n",
    "pd.set_option('display.max_rows', 500)\n",
    "pd.set_option('display.max_columns', 500)\n",
    "pd.set_option('display.max_seq_items', 500)"
   ]
  },
  {
   "cell_type": "code",
   "execution_count": 5,
   "id": "7c24eec9-a41c-43ce-95c3-86715941b10b",
   "metadata": {},
   "outputs": [],
   "source": [
    "API_KEY = \"<API Key>\""
   ]
  },
  {
   "cell_type": "markdown",
   "id": "9c21883b-a07d-4df4-bb33-a8c908c380a9",
   "metadata": {},
   "source": [
    "# Fundamental Analysis Library"
   ]
  },
  {
   "cell_type": "code",
   "execution_count": 4,
   "id": "9a41a3ed-b72c-44db-a0ab-5b6a5dfb3537",
   "metadata": {},
   "outputs": [],
   "source": [
    "from financetoolkit import Toolkit, Discovery\n",
    "import os\n",
    "\n",
    "FMP_API_KEY = os.getenv(\"FMP_API_KEY\")\n",
    "#print(FMP_API_KEY)"
   ]
  },
  {
   "cell_type": "code",
   "execution_count": 5,
   "id": "804cfafb-3e68-4539-a052-dde400d7af1f",
   "metadata": {},
   "outputs": [
    {
     "name": "stdout",
     "output_type": "stream",
     "text": [
      "<class 'pandas.core.frame.DataFrame'>\n",
      "Index: 60005 entries, 000001.SZ to ZZZOF\n",
      "Data columns (total 4 columns):\n",
      " #   Column         Non-Null Count  Dtype  \n",
      "---  ------         --------------  -----  \n",
      " 0   Name           59969 non-null  object \n",
      " 1   Price          59982 non-null  float64\n",
      " 2   Exchange       60004 non-null  object \n",
      " 3   Exchange Code  60004 non-null  object \n",
      "dtypes: float64(1), object(3)\n",
      "memory usage: 2.3+ MB\n"
     ]
    }
   ],
   "source": [
    "discovery = Discovery(api_key=FMP_API_KEY)\n",
    "\n",
    "stock_list = discovery.get_stock_list()\n",
    "\n",
    "stock_list.info()"
   ]
  },
  {
   "cell_type": "code",
   "execution_count": 6,
   "id": "ea931501-5945-4d2b-8a51-e185b50f40fb",
   "metadata": {},
   "outputs": [
    {
     "name": "stdout",
     "output_type": "stream",
     "text": [
      "60005\n"
     ]
    }
   ],
   "source": [
    "print(len(stock_list)) "
   ]
  },
  {
   "cell_type": "code",
   "execution_count": 8,
   "id": "cef48f00-e357-420a-9705-ea6d78e5657e",
   "metadata": {},
   "outputs": [
    {
     "data": {
      "text/plain": [
       "array(['Shenzhen', 'KSE', 'HKSE', 'Kuala Lumpur', 'KOSDAQ',\n",
       "       'Frankfurt Stock Exchange', 'Warsaw Stock Exchange',\n",
       "       'London Stock Exchange', 'International Order Book', 'Stuttgart',\n",
       "       'Swiss Exchange', 'IOB', 'Saudi', 'Taiwan', 'Tokyo',\n",
       "       'Australian Securities Exchange', 'Taipei Exchange', 'Milan',\n",
       "       'Stock Exchange of Singapore', 'Vienna', 'Oslo Stock Exchange',\n",
       "       'Bombay Stock Exchange', 'National Stock Exchange of India',\n",
       "       'Thailand', 'Stockholm Stock Exchange', 'Paris', 'Berlin',\n",
       "       'Madrid Stock Exchange', 'Dusseldorf', 'Budapest', 'Johannesburg',\n",
       "       'Munich', 'Shanghai', 'Irish', 'New York Stock Exchange', 'Athens',\n",
       "       'Other OTC', 'Copenhagen', 'Toronto Stock Exchange',\n",
       "       'NASDAQ Global Market', 'NASDAQ Global Select',\n",
       "       'NASDAQ Capital Market', 'Toronto Stock Exchange Ventures',\n",
       "       'Amsterdam', 'Jakarta Stock Exchange', 'Helsinki', 'São Paulo',\n",
       "       'American Stock Exchange', 'Mexico', 'NEO', 'NASDAQ',\n",
       "       'Buenos Aires', 'Brussels', 'Tel Aviv', 'Moscow Stock Exchange',\n",
       "       'Canadian Securities Exchange', 'TSXV', 'NZSE',\n",
       "       'Istanbul Stock Exchange', 'Santiago', 'Nasdaq', 'Qatar', 'Dubai',\n",
       "       'Lisbon', 'XETRA', 'Cboe Europe', 'Iceland',\n",
       "       'New York Stock Exchange Arca', 'CBOE BZX', 'Cboe CA', 'Prague',\n",
       "       'EGX', 'Canadian Sec', 'Hamburg', 'BATS', 'Aquis AQSE', 'Kuwait',\n",
       "       'Riga', None], dtype=object)"
      ]
     },
     "execution_count": 8,
     "metadata": {},
     "output_type": "execute_result"
    }
   ],
   "source": [
    "stock_list[\"Exchange\"].unique()"
   ]
  },
  {
   "cell_type": "code",
   "execution_count": 18,
   "id": "854ca64c-f84e-45c9-8899-62d7d17cf7e4",
   "metadata": {
    "tags": []
   },
   "outputs": [
    {
     "data": {
      "text/html": [
       "<div>\n",
       "<style scoped>\n",
       "    .dataframe tbody tr th:only-of-type {\n",
       "        vertical-align: middle;\n",
       "    }\n",
       "\n",
       "    .dataframe tbody tr th {\n",
       "        vertical-align: top;\n",
       "    }\n",
       "\n",
       "    .dataframe thead th {\n",
       "        text-align: right;\n",
       "    }\n",
       "</style>\n",
       "<table border=\"1\" class=\"dataframe\">\n",
       "  <thead>\n",
       "    <tr style=\"text-align: right;\">\n",
       "      <th></th>\n",
       "      <th>Name</th>\n",
       "      <th>Price</th>\n",
       "      <th>Exchange</th>\n",
       "      <th>Exchange Code</th>\n",
       "    </tr>\n",
       "    <tr>\n",
       "      <th>Symbol</th>\n",
       "      <th></th>\n",
       "      <th></th>\n",
       "      <th></th>\n",
       "      <th></th>\n",
       "    </tr>\n",
       "  </thead>\n",
       "  <tbody>\n",
       "    <tr>\n",
       "      <th>000001.SZ</th>\n",
       "      <td>Ping An Bank Co., Ltd.</td>\n",
       "      <td>9.46</td>\n",
       "      <td>Shenzhen</td>\n",
       "      <td>SHZ</td>\n",
       "    </tr>\n",
       "    <tr>\n",
       "      <th>000002.SZ</th>\n",
       "      <td>China Vanke Co., Ltd.</td>\n",
       "      <td>9.60</td>\n",
       "      <td>Shenzhen</td>\n",
       "      <td>SHZ</td>\n",
       "    </tr>\n",
       "    <tr>\n",
       "      <th>000004.SZ</th>\n",
       "      <td>Shenzhen GuoHua Network Security Technology Co...</td>\n",
       "      <td>12.35</td>\n",
       "      <td>Shenzhen</td>\n",
       "      <td>SHZ</td>\n",
       "    </tr>\n",
       "    <tr>\n",
       "      <th>000005.SZ</th>\n",
       "      <td>Shenzhen Fountain Corporation</td>\n",
       "      <td>0.94</td>\n",
       "      <td>Shenzhen</td>\n",
       "      <td>SHZ</td>\n",
       "    </tr>\n",
       "    <tr>\n",
       "      <th>000006.SZ</th>\n",
       "      <td>Shenzhen Zhenye (Group) Co.,Ltd.</td>\n",
       "      <td>4.17</td>\n",
       "      <td>Shenzhen</td>\n",
       "      <td>SHZ</td>\n",
       "    </tr>\n",
       "  </tbody>\n",
       "</table>\n",
       "</div>"
      ],
      "text/plain": [
       "                                                        Name  Price  Exchange  \\\n",
       "Symbol                                                                          \n",
       "000001.SZ                             Ping An Bank Co., Ltd.   9.46  Shenzhen   \n",
       "000002.SZ                              China Vanke Co., Ltd.   9.60  Shenzhen   \n",
       "000004.SZ  Shenzhen GuoHua Network Security Technology Co...  12.35  Shenzhen   \n",
       "000005.SZ                      Shenzhen Fountain Corporation   0.94  Shenzhen   \n",
       "000006.SZ                   Shenzhen Zhenye (Group) Co.,Ltd.   4.17  Shenzhen   \n",
       "\n",
       "          Exchange Code  \n",
       "Symbol                   \n",
       "000001.SZ           SHZ  \n",
       "000002.SZ           SHZ  \n",
       "000004.SZ           SHZ  \n",
       "000005.SZ           SHZ  \n",
       "000006.SZ           SHZ  "
      ]
     },
     "execution_count": 18,
     "metadata": {},
     "output_type": "execute_result"
    }
   ],
   "source": [
    "stock_list.head()"
   ]
  },
  {
   "cell_type": "code",
   "execution_count": 23,
   "id": "f8aaae9c-c29f-4db1-8dbe-d79d722f1f59",
   "metadata": {},
   "outputs": [
    {
     "name": "stdout",
     "output_type": "stream",
     "text": [
      "10248\n"
     ]
    }
   ],
   "source": [
    "# New York Stock Exchange (NYSE)\n",
    "# NASDAQ Stock Market (NASDAQ)\n",
    "# Chicago Board Options Exchange (CBOE)\n",
    "# Chicago Mercantile Exchange (CME)\n",
    "# Intercontinental Exchange (ICE)\n",
    "# BATS Global Markets (BATS)\n",
    "# Miami International Securities Exchange (MIAX)\n",
    "# Philadelphia Stock Exchange (PHLX)\n",
    "# BOX Options Exchange (BOX)\n",
    "# NYSE American (formerly known as American Stock Exchange or AMEX)\n",
    "\n",
    "us_stocks = stock_list[stock_list[\"Exchange Code\"].isin([\"AMEX\", \"NASDAQ\", \"NYSE\",\"CBOE\", \"CME\", \"ICE\", \"BATS\", \"MIAX\", \"PHLX\", \"BOX\", \"NSX\", \"CHX\"])]\n",
    "print(len(us_stocks))"
   ]
  },
  {
   "cell_type": "code",
   "execution_count": 24,
   "id": "385b035f-d4a4-43e4-ac10-df720ec84c18",
   "metadata": {},
   "outputs": [
    {
     "data": {
      "text/html": [
       "<div>\n",
       "<style scoped>\n",
       "    .dataframe tbody tr th:only-of-type {\n",
       "        vertical-align: middle;\n",
       "    }\n",
       "\n",
       "    .dataframe tbody tr th {\n",
       "        vertical-align: top;\n",
       "    }\n",
       "\n",
       "    .dataframe thead th {\n",
       "        text-align: right;\n",
       "    }\n",
       "</style>\n",
       "<table border=\"1\" class=\"dataframe\">\n",
       "  <thead>\n",
       "    <tr style=\"text-align: right;\">\n",
       "      <th></th>\n",
       "      <th>Name</th>\n",
       "      <th>Price</th>\n",
       "      <th>Exchange</th>\n",
       "      <th>Exchange Code</th>\n",
       "    </tr>\n",
       "    <tr>\n",
       "      <th>Symbol</th>\n",
       "      <th></th>\n",
       "      <th></th>\n",
       "      <th></th>\n",
       "      <th></th>\n",
       "    </tr>\n",
       "  </thead>\n",
       "  <tbody>\n",
       "    <tr>\n",
       "      <th>A</th>\n",
       "      <td>Agilent Technologies, Inc.</td>\n",
       "      <td>134.2800</td>\n",
       "      <td>New York Stock Exchange</td>\n",
       "      <td>NYSE</td>\n",
       "    </tr>\n",
       "    <tr>\n",
       "      <th>AA</th>\n",
       "      <td>Alcoa Corporation</td>\n",
       "      <td>30.6100</td>\n",
       "      <td>New York Stock Exchange</td>\n",
       "      <td>NYSE</td>\n",
       "    </tr>\n",
       "    <tr>\n",
       "      <th>AAC</th>\n",
       "      <td>Ares Acquisition Corporation</td>\n",
       "      <td>10.7900</td>\n",
       "      <td>New York Stock Exchange</td>\n",
       "      <td>NYSE</td>\n",
       "    </tr>\n",
       "    <tr>\n",
       "      <th>AAC-UN</th>\n",
       "      <td>Ares Acquisition Corporation</td>\n",
       "      <td>10.8100</td>\n",
       "      <td>New York Stock Exchange</td>\n",
       "      <td>NYSE</td>\n",
       "    </tr>\n",
       "    <tr>\n",
       "      <th>AAC-WT</th>\n",
       "      <td>Ares Acquisition Corporation Re</td>\n",
       "      <td>0.6300</td>\n",
       "      <td>New York Stock Exchange</td>\n",
       "      <td>NYSE</td>\n",
       "    </tr>\n",
       "    <tr>\n",
       "      <th>AACG</th>\n",
       "      <td>ATA Creativity Global</td>\n",
       "      <td>1.0800</td>\n",
       "      <td>NASDAQ Global Market</td>\n",
       "      <td>NASDAQ</td>\n",
       "    </tr>\n",
       "    <tr>\n",
       "      <th>AACI</th>\n",
       "      <td>Armada Acquisition Corp. I</td>\n",
       "      <td>10.8900</td>\n",
       "      <td>NASDAQ Global Market</td>\n",
       "      <td>NASDAQ</td>\n",
       "    </tr>\n",
       "    <tr>\n",
       "      <th>AACIU</th>\n",
       "      <td>Armada Acquisition Corp. I</td>\n",
       "      <td>10.8900</td>\n",
       "      <td>NASDAQ Global Market</td>\n",
       "      <td>NASDAQ</td>\n",
       "    </tr>\n",
       "    <tr>\n",
       "      <th>AACIW</th>\n",
       "      <td>Armada Acquisition Corp. I</td>\n",
       "      <td>0.0256</td>\n",
       "      <td>NASDAQ Global Market</td>\n",
       "      <td>NASDAQ</td>\n",
       "    </tr>\n",
       "    <tr>\n",
       "      <th>AACQU</th>\n",
       "      <td>Artius Acquisition Inc.</td>\n",
       "      <td>11.0500</td>\n",
       "      <td>NASDAQ Global Select</td>\n",
       "      <td>NASDAQ</td>\n",
       "    </tr>\n",
       "  </tbody>\n",
       "</table>\n",
       "</div>"
      ],
      "text/plain": [
       "                                   Name     Price                 Exchange  \\\n",
       "Symbol                                                                       \n",
       "A            Agilent Technologies, Inc.  134.2800  New York Stock Exchange   \n",
       "AA                    Alcoa Corporation   30.6100  New York Stock Exchange   \n",
       "AAC        Ares Acquisition Corporation   10.7900  New York Stock Exchange   \n",
       "AAC-UN     Ares Acquisition Corporation   10.8100  New York Stock Exchange   \n",
       "AAC-WT  Ares Acquisition Corporation Re    0.6300  New York Stock Exchange   \n",
       "AACG              ATA Creativity Global    1.0800     NASDAQ Global Market   \n",
       "AACI         Armada Acquisition Corp. I   10.8900     NASDAQ Global Market   \n",
       "AACIU        Armada Acquisition Corp. I   10.8900     NASDAQ Global Market   \n",
       "AACIW        Armada Acquisition Corp. I    0.0256     NASDAQ Global Market   \n",
       "AACQU           Artius Acquisition Inc.   11.0500     NASDAQ Global Select   \n",
       "\n",
       "       Exchange Code  \n",
       "Symbol                \n",
       "A               NYSE  \n",
       "AA              NYSE  \n",
       "AAC             NYSE  \n",
       "AAC-UN          NYSE  \n",
       "AAC-WT          NYSE  \n",
       "AACG          NASDAQ  \n",
       "AACI          NASDAQ  \n",
       "AACIU         NASDAQ  \n",
       "AACIW         NASDAQ  \n",
       "AACQU         NASDAQ  "
      ]
     },
     "execution_count": 24,
     "metadata": {},
     "output_type": "execute_result"
    }
   ],
   "source": [
    "us_stocks.head(10)"
   ]
  },
  {
   "cell_type": "code",
   "execution_count": 21,
   "id": "7f192c0f-3244-419f-926c-df330b80ec78",
   "metadata": {},
   "outputs": [
    {
     "data": {
      "text/html": [
       "<div>\n",
       "<style scoped>\n",
       "    .dataframe tbody tr th:only-of-type {\n",
       "        vertical-align: middle;\n",
       "    }\n",
       "\n",
       "    .dataframe tbody tr th {\n",
       "        vertical-align: top;\n",
       "    }\n",
       "\n",
       "    .dataframe thead th {\n",
       "        text-align: right;\n",
       "    }\n",
       "</style>\n",
       "<table border=\"1\" class=\"dataframe\">\n",
       "  <thead>\n",
       "    <tr style=\"text-align: right;\">\n",
       "      <th></th>\n",
       "      <th>Symbol</th>\n",
       "      <th>Name</th>\n",
       "      <th>Price</th>\n",
       "      <th>Exchange</th>\n",
       "      <th>Exchange Code</th>\n",
       "    </tr>\n",
       "  </thead>\n",
       "  <tbody>\n",
       "    <tr>\n",
       "      <th>0</th>\n",
       "      <td>20MICRONS.BO</td>\n",
       "      <td>20 Microns Limited</td>\n",
       "      <td>169.30</td>\n",
       "      <td>Bombay Stock Exchange</td>\n",
       "      <td>BSE</td>\n",
       "    </tr>\n",
       "    <tr>\n",
       "      <th>1</th>\n",
       "      <td>21STCENMGM.BO</td>\n",
       "      <td>Twentyfirst Century Management Services Limited</td>\n",
       "      <td>43.13</td>\n",
       "      <td>Bombay Stock Exchange</td>\n",
       "      <td>BSE</td>\n",
       "    </tr>\n",
       "    <tr>\n",
       "      <th>2</th>\n",
       "      <td>360ONE.BO</td>\n",
       "      <td>360 One Wam Limited</td>\n",
       "      <td>620.50</td>\n",
       "      <td>Bombay Stock Exchange</td>\n",
       "      <td>BSE</td>\n",
       "    </tr>\n",
       "    <tr>\n",
       "      <th>3</th>\n",
       "      <td>3IINFOTECH.BO</td>\n",
       "      <td>3i Infotech Limited</td>\n",
       "      <td>54.83</td>\n",
       "      <td>Bombay Stock Exchange</td>\n",
       "      <td>BSE</td>\n",
       "    </tr>\n",
       "    <tr>\n",
       "      <th>4</th>\n",
       "      <td>3MINDIA.BO</td>\n",
       "      <td>3M India Limited</td>\n",
       "      <td>34447.20</td>\n",
       "      <td>Bombay Stock Exchange</td>\n",
       "      <td>BSE</td>\n",
       "    </tr>\n",
       "    <tr>\n",
       "      <th>5</th>\n",
       "      <td>3PLAND.BO</td>\n",
       "      <td>3P Land Holdings Limited</td>\n",
       "      <td>37.95</td>\n",
       "      <td>Bombay Stock Exchange</td>\n",
       "      <td>BSE</td>\n",
       "    </tr>\n",
       "    <tr>\n",
       "      <th>6</th>\n",
       "      <td>5PAISA.BO</td>\n",
       "      <td>5paisa Capital Limited</td>\n",
       "      <td>602.10</td>\n",
       "      <td>Bombay Stock Exchange</td>\n",
       "      <td>BSE</td>\n",
       "    </tr>\n",
       "    <tr>\n",
       "      <th>7</th>\n",
       "      <td>63MOONS.BO</td>\n",
       "      <td>63 moons technologies limited</td>\n",
       "      <td>423.95</td>\n",
       "      <td>Bombay Stock Exchange</td>\n",
       "      <td>BSE</td>\n",
       "    </tr>\n",
       "    <tr>\n",
       "      <th>8</th>\n",
       "      <td>7NR.BO</td>\n",
       "      <td>JPY/KMF</td>\n",
       "      <td>6.46</td>\n",
       "      <td>Bombay Stock Exchange</td>\n",
       "      <td>BSE</td>\n",
       "    </tr>\n",
       "    <tr>\n",
       "      <th>9</th>\n",
       "      <td>7SEASL.BO</td>\n",
       "      <td>7SEAS ENTERTAINMENT LIMITED</td>\n",
       "      <td>39.89</td>\n",
       "      <td>Bombay Stock Exchange</td>\n",
       "      <td>BSE</td>\n",
       "    </tr>\n",
       "  </tbody>\n",
       "</table>\n",
       "</div>"
      ],
      "text/plain": [
       "          Symbol                                             Name     Price  \\\n",
       "0   20MICRONS.BO                               20 Microns Limited    169.30   \n",
       "1  21STCENMGM.BO  Twentyfirst Century Management Services Limited     43.13   \n",
       "2      360ONE.BO                              360 One Wam Limited    620.50   \n",
       "3  3IINFOTECH.BO                              3i Infotech Limited     54.83   \n",
       "4     3MINDIA.BO                                 3M India Limited  34447.20   \n",
       "5      3PLAND.BO                         3P Land Holdings Limited     37.95   \n",
       "6      5PAISA.BO                           5paisa Capital Limited    602.10   \n",
       "7     63MOONS.BO                    63 moons technologies limited    423.95   \n",
       "8         7NR.BO                                          JPY/KMF      6.46   \n",
       "9      7SEASL.BO                      7SEAS ENTERTAINMENT LIMITED     39.89   \n",
       "\n",
       "                Exchange Exchange Code  \n",
       "0  Bombay Stock Exchange           BSE  \n",
       "1  Bombay Stock Exchange           BSE  \n",
       "2  Bombay Stock Exchange           BSE  \n",
       "3  Bombay Stock Exchange           BSE  \n",
       "4  Bombay Stock Exchange           BSE  \n",
       "5  Bombay Stock Exchange           BSE  \n",
       "6  Bombay Stock Exchange           BSE  \n",
       "7  Bombay Stock Exchange           BSE  \n",
       "8  Bombay Stock Exchange           BSE  \n",
       "9  Bombay Stock Exchange           BSE  "
      ]
     },
     "execution_count": 21,
     "metadata": {},
     "output_type": "execute_result"
    }
   ],
   "source": [
    "df = us_stocks.reset_index()\n",
    "df.head(10)\n",
    "df.to_excel(\"stock_all.xlsx\", index=False, header=True, engine=\"openpyxl\", sheet_name=\"stock\")"
   ]
  },
  {
   "cell_type": "code",
   "execution_count": null,
   "id": "1f9c7eb5-47d8-4e25-afcb-275a2d4dc82e",
   "metadata": {},
   "outputs": [],
   "source": [
    "!ls stock_all.xlsx"
   ]
  },
  {
   "cell_type": "markdown",
   "id": "cf71e46a-3be9-4052-aa0c-57390b010eef",
   "metadata": {},
   "source": [
    "# Finance Database"
   ]
  },
  {
   "cell_type": "code",
   "execution_count": null,
   "id": "df9bf03b-e56e-4611-bf38-c49cb16b47f4",
   "metadata": {},
   "outputs": [],
   "source": [
    "import financedatabase as fd"
   ]
  },
  {
   "cell_type": "markdown",
   "id": "940190a7-9edf-439d-973c-174f12f20c73",
   "metadata": {},
   "source": [
    "## Countries"
   ]
  },
  {
   "cell_type": "code",
   "execution_count": null,
   "id": "6dac8805-9eb5-4186-bf36-c0fb9f28b337",
   "metadata": {},
   "outputs": [],
   "source": [
    "import financedatabase as fd\n",
    "\n",
    "# Initialize the Equities database\n",
    "equities = fd.Equities()\n",
    "\n",
    "# Obtain all countries from the database\n",
    "equities_countries = equities.options('country')\n",
    "\n",
    "equities_countries"
   ]
  },
  {
   "cell_type": "markdown",
   "id": "8d3accf4-2806-403a-9498-82506bf1606a",
   "metadata": {},
   "source": [
    "## Sectors"
   ]
  },
  {
   "cell_type": "code",
   "execution_count": null,
   "id": "8f91fe08-f638-4d6e-875b-ef20bf1bfa2e",
   "metadata": {},
   "outputs": [],
   "source": [
    "# Obtain all sectors from the database\n",
    "equities_sectors = equities.options('sector')\n",
    "equities_sectors"
   ]
  },
  {
   "cell_type": "markdown",
   "id": "21938bbd-584c-44ce-8fc9-80dd55a15d39",
   "metadata": {},
   "source": [
    "## Industries"
   ]
  },
  {
   "cell_type": "code",
   "execution_count": null,
   "id": "c1042182-be45-48fd-be97-e390ea66b66a",
   "metadata": {},
   "outputs": [],
   "source": [
    "# Obtain all industry groups from the database\n",
    "equities_industry_groups = equities.options('industry_group')\n",
    "equities_industry_groups"
   ]
  },
  {
   "cell_type": "code",
   "execution_count": null,
   "id": "ca6967b4-c26b-45ac-97bf-675c6385cf29",
   "metadata": {
    "tags": []
   },
   "outputs": [],
   "source": [
    "# Obtain a selection from the database\n",
    "equities_united_states = equities.select(country=\"United States\")\n",
    "print(len(equities_united_states))"
   ]
  },
  {
   "cell_type": "code",
   "execution_count": null,
   "id": "6c8f599d-ff11-4598-8ff1-aea0d708f697",
   "metadata": {
    "tags": []
   },
   "outputs": [],
   "source": [
    "# Obtain all industries from a country from the database\n",
    "equities_germany_industries = equities.options('industry', country='United States')\n",
    "equities_germany_industries"
   ]
  },
  {
   "cell_type": "code",
   "execution_count": null,
   "id": "69eff5f6-3160-4148-9d53-ba5cc30a853c",
   "metadata": {
    "tags": []
   },
   "outputs": [],
   "source": [
    "equities_industries = equities.options('industry')\n",
    "equities_industries"
   ]
  },
  {
   "cell_type": "code",
   "execution_count": null,
   "id": "f0e28c32-9705-4377-ae60-1449f208c85a",
   "metadata": {
    "tags": []
   },
   "outputs": [],
   "source": [
    "# Obtain a detailed selection from the database\n",
    "equities_usa_consumer_electronics = equities.select(country=\"United States\", industry=\"Insurance\")\n",
    "print(len(equities_usa_consumer_electronics))"
   ]
  },
  {
   "cell_type": "code",
   "execution_count": null,
   "id": "0a80a75e-ed2e-4d9d-83b2-1f30ec256348",
   "metadata": {
    "tags": []
   },
   "outputs": [],
   "source": [
    "# Search specific fields from the database\n",
    "equities_uk_biotech = equities.search(country='United Kingdom', summary='biotech', exchange='LSE')\n",
    "print(len(equities_uk_biotech))"
   ]
  },
  {
   "cell_type": "markdown",
   "id": "ee477c40-55e6-403b-b062-504699050f2a",
   "metadata": {},
   "source": [
    "## All Options"
   ]
  },
  {
   "cell_type": "code",
   "execution_count": null,
   "id": "a89ac9af-4aa6-40be-b78a-24104735a388",
   "metadata": {},
   "outputs": [],
   "source": [
    "# Obtain all countries + sectors + industries from the database\n",
    "#equities_all_categories = fd.show_options('equities')\n",
    "#equities_all_categories"
   ]
  },
  {
   "cell_type": "markdown",
   "id": "d42df952-5c62-4824-a201-65b963b97af3",
   "metadata": {},
   "source": [
    "## Equities for US"
   ]
  },
  {
   "cell_type": "markdown",
   "id": "00fdc5e8-bfb7-4c29-b57a-5c0143d19808",
   "metadata": {},
   "source": [
    "### By Country and Stock Exchanges"
   ]
  },
  {
   "cell_type": "code",
   "execution_count": null,
   "id": "60bafa16-4e2c-4ff5-bd77-c13f3ebe8bcb",
   "metadata": {},
   "outputs": [],
   "source": [
    "all_equities = equities.select()\n",
    "df_all_equities = pd.DataFrame(all_equities)"
   ]
  },
  {
   "cell_type": "code",
   "execution_count": null,
   "id": "3d7fa384-0c17-437d-a958-313c05d3fb1a",
   "metadata": {},
   "outputs": [],
   "source": [
    "#df_all_equities = df_all_equities.T\n",
    "#df_all_equities.index.name = \"symbol\"\n",
    "df_all_equities.reset_index(inplace=True)"
   ]
  },
  {
   "cell_type": "code",
   "execution_count": null,
   "id": "c9eafc46-17e3-48d6-8704-fbb0fab5304f",
   "metadata": {},
   "outputs": [],
   "source": [
    "print(len(df_all_equities))\n",
    "df_all_equities[df_all_equities[\"symbol\"] == \"AMKBY\"].head(10)"
   ]
  },
  {
   "cell_type": "code",
   "execution_count": null,
   "id": "4d57b9b9-4db8-477a-b007-65ca2fb71ad4",
   "metadata": {},
   "outputs": [],
   "source": [
    "df_us_market = df_all_equities[ (df_all_equities[\"country\"] == \"United States\") | \n",
    "                               ( (df_all_equities[\"exchange\"].isin([\"NMS\",\"NYQ\"])) & (df_all_equities[\"market\"] == \"us_market\") ) ]"
   ]
  },
  {
   "cell_type": "code",
   "execution_count": null,
   "id": "44fddbf9-8d77-4b83-b5f3-a8a8b490522b",
   "metadata": {},
   "outputs": [],
   "source": [
    "print(len(df_us_market))"
   ]
  },
  {
   "cell_type": "code",
   "execution_count": null,
   "id": "3e9869b9-bf2f-4e20-8dd1-7abbc0bafcbd",
   "metadata": {},
   "outputs": [],
   "source": [
    "df_us_market.head(10)"
   ]
  },
  {
   "cell_type": "code",
   "execution_count": null,
   "id": "fe21eaef-18c6-4ed7-8b87-c5eb5c620bd6",
   "metadata": {},
   "outputs": [],
   "source": [
    "df_us_market.groupby(by=[\"exchange\"])[[\"symbol\"]].count()"
   ]
  },
  {
   "cell_type": "code",
   "execution_count": null,
   "id": "b199e708-8b2b-42e5-a41a-1cec7b853cd7",
   "metadata": {},
   "outputs": [],
   "source": [
    "df_us_market[df_us_market[\"symbol\"].isin([\"PBR\", \"GOGL\", \"ELY\", \"SNPTY\",\"BAK\", \"CLM\",\"SBLK\", \"OXLC\", \"CCU\", \"ORC\", \"HIMX\"])].head(20)"
   ]
  },
  {
   "cell_type": "code",
   "execution_count": null,
   "id": "8d631233-d12e-41f7-85a3-557d86951c8e",
   "metadata": {},
   "outputs": [],
   "source": []
  },
  {
   "cell_type": "markdown",
   "id": "17a0df84-46b7-41dc-8566-d496c7f83275",
   "metadata": {},
   "source": [
    "### By Country"
   ]
  },
  {
   "cell_type": "code",
   "execution_count": null,
   "id": "34e59661-2b4b-4181-abab-820810fa8d51",
   "metadata": {},
   "outputs": [],
   "source": [
    "us_equities = equities.select(country='United States')\n",
    "df_us_equities = pd.DataFrame(us_equities)\n",
    "#df_us_equities = df_us_equities.T\n",
    "#df_us_equities.index.name = \"symbol\"\n",
    "df_us_equities.reset_index(inplace=True)\n",
    "print(len(df_us_equities))\n",
    "df_us_equities.head(3)"
   ]
  },
  {
   "cell_type": "code",
   "execution_count": null,
   "id": "00496075-e199-48b8-859b-cd72729369d4",
   "metadata": {},
   "outputs": [],
   "source": []
  },
  {
   "cell_type": "markdown",
   "id": "2327a3a9-6e39-42e5-a773-841f0c57c2d6",
   "metadata": {},
   "source": [
    "## Equities by Sectors"
   ]
  },
  {
   "cell_type": "code",
   "execution_count": null,
   "id": "dcab4070-f109-4788-af61-c8eaac271650",
   "metadata": {},
   "outputs": [],
   "source": [
    "df_us_sector = df_us_equities.groupby(by=[\"sector\"], axis=0)[\"symbol\"].count()\n",
    "df_us_sector"
   ]
  },
  {
   "cell_type": "code",
   "execution_count": null,
   "id": "a7d2d9a2-cd6a-4286-979f-dc80a2c00707",
   "metadata": {},
   "outputs": [],
   "source": [
    "df_us_sector.plot.pie(subplots=True,figsize=(7, 7))"
   ]
  },
  {
   "cell_type": "markdown",
   "id": "9b55eea7-d0cd-42b3-beda-2070db2dfe6a",
   "metadata": {},
   "source": [
    "## Stocks with High Dividend Value"
   ]
  },
  {
   "cell_type": "code",
   "execution_count": null,
   "id": "2355f573-eedf-4156-9185-f370047625dd",
   "metadata": {},
   "outputs": [],
   "source": [
    "df_us_utilities = df_us_equities[df_us_equities[\"sector\"] == \"Utilities\"]\n",
    "print(f\"Count of utilities equities : {len(df_us_utilities)}\")"
   ]
  },
  {
   "cell_type": "code",
   "execution_count": null,
   "id": "50d4a10a-bb70-45e5-93b2-f04046cc47c9",
   "metadata": {},
   "outputs": [],
   "source": [
    "import yfinance as yf\n",
    "import time"
   ]
  },
  {
   "cell_type": "code",
   "execution_count": null,
   "id": "13d077c4-fa80-4b74-9411-c9fac4618ced",
   "metadata": {},
   "outputs": [],
   "source": [
    "equities_stats = []\n",
    "for equity in df_us_utilities.itertuples(index=False, name=\"Equity\"):\n",
    "    ticker = yf.Ticker(equity.symbol)\n",
    "    stats = ticker.stats()\n",
    "    if \"defaultKeyStatistics\" in stats.keys():\n",
    "        print(f\"Getting stats for {equity.symbol}-{equity.short_name}\")\n",
    "        key_stats = stats[\"defaultKeyStatistics\"]\n",
    "        if key_stats is not None:\n",
    "            key_stats[\"symbol\"] = equity.symbol\n",
    "            key_stats[\"name\"] = equity.short_name\n",
    "            equities_stats.append(key_stats)\n",
    "            time.sleep(2)"
   ]
  },
  {
   "cell_type": "code",
   "execution_count": null,
   "id": "fd5e34b5-a1f4-4f17-be8f-d3dfbbd53e6b",
   "metadata": {},
   "outputs": [],
   "source": [
    "df_utilities_stats = pd.DataFrame(equities_stats)"
   ]
  },
  {
   "cell_type": "code",
   "execution_count": null,
   "id": "c9f8ec35-8fcd-4d9e-ba25-77895760efc9",
   "metadata": {},
   "outputs": [],
   "source": [
    "df_utilities_stats.info()"
   ]
  },
  {
   "cell_type": "code",
   "execution_count": null,
   "id": "ad5a6d01-53cd-493e-89d9-8fa082f68ce1",
   "metadata": {},
   "outputs": [],
   "source": [
    "df_utilities_stats.sort_values(by=[\"lastDividendValue\"], ascending=False)[[\"symbol\", \"name\", \"lastDividendValue\" ]]"
   ]
  },
  {
   "cell_type": "code",
   "execution_count": null,
   "id": "81df5fb0-e02b-413d-b150-40843eef115a",
   "metadata": {},
   "outputs": [],
   "source": []
  },
  {
   "cell_type": "markdown",
   "id": "1dde26f1-485a-40e6-b437-928fdbce6437",
   "metadata": {},
   "source": [
    "## Save the Dataset"
   ]
  },
  {
   "cell_type": "code",
   "execution_count": null,
   "id": "033c9cb8-0ead-4447-b16c-ddfadfc1c823",
   "metadata": {},
   "outputs": [],
   "source": [
    "#df_us_equities.to_excel(\"stock.xlsx\", index=False, header=True, engine=\"openpyxl\", sheet_name=\"stock\")"
   ]
  },
  {
   "cell_type": "code",
   "execution_count": null,
   "id": "7c141568-128c-416f-8a5a-91889bdd7027",
   "metadata": {},
   "outputs": [],
   "source": [
    "#df_excel = pd.read_excel(\"stock.xlsx\", sheet_name=\"stock\")"
   ]
  },
  {
   "cell_type": "code",
   "execution_count": null,
   "id": "76579d51-27c2-4758-9eb6-9f4c0ab14e17",
   "metadata": {},
   "outputs": [],
   "source": [
    "#df_excel.head(3)"
   ]
  },
  {
   "cell_type": "code",
   "execution_count": null,
   "id": "af4fd92a-ef9e-4cbe-bfb7-fe7440597d01",
   "metadata": {},
   "outputs": [],
   "source": [
    "#print(len(df_excel))"
   ]
  },
  {
   "cell_type": "code",
   "execution_count": null,
   "id": "9a5d4bc4-61b3-4555-8e4e-cf3c2cbd6330",
   "metadata": {},
   "outputs": [],
   "source": [
    "df_us_equities.to_excel(\"stock_usa.xlsx\", index=False, header=True, engine=\"openpyxl\", sheet_name=\"stock\")"
   ]
  },
  {
   "cell_type": "code",
   "execution_count": null,
   "id": "30c2d316-cb8d-47c5-963f-ae2725e48b23",
   "metadata": {},
   "outputs": [],
   "source": [
    "df_excel = pd.read_excel(\"stock_usa.xlsx\", sheet_name=\"stock\")"
   ]
  },
  {
   "cell_type": "code",
   "execution_count": null,
   "id": "c6345b9e-0fc7-4ca5-a6fd-9badef52310f",
   "metadata": {},
   "outputs": [],
   "source": [
    "print(len(df_excel))"
   ]
  },
  {
   "cell_type": "code",
   "execution_count": null,
   "id": "db049187-3c70-4f1b-ac40-1320b5458bc3",
   "metadata": {},
   "outputs": [],
   "source": [
    "# All equities"
   ]
  },
  {
   "cell_type": "code",
   "execution_count": null,
   "id": "95330093-fe96-4a38-8091-4f7244e1f775",
   "metadata": {},
   "outputs": [],
   "source": [
    "print(len(df_all_equities))"
   ]
  },
  {
   "cell_type": "code",
   "execution_count": null,
   "id": "94163bfa-2aef-4d25-a6a2-1e5cbbd40284",
   "metadata": {
    "tags": []
   },
   "outputs": [],
   "source": [
    "df_all_equities.to_excel(\"stock_all.xlsx\", index=False, header=True, engine=\"openpyxl\", sheet_name=\"stock\")"
   ]
  },
  {
   "cell_type": "code",
   "execution_count": null,
   "id": "a576ad15-54a1-4d81-b375-2ddcc72d3a08",
   "metadata": {
    "tags": []
   },
   "outputs": [],
   "source": [
    "df_excel = pd.read_excel(\"stock_all.xlsx\", sheet_name=\"stock\")"
   ]
  },
  {
   "cell_type": "code",
   "execution_count": null,
   "id": "75f846e8-f0a7-423c-b010-059bce1d07f6",
   "metadata": {
    "tags": []
   },
   "outputs": [],
   "source": [
    "print(len(df_excel))"
   ]
  },
  {
   "cell_type": "code",
   "execution_count": null,
   "id": "bce09c8c-95eb-41fe-a03e-22af9945f937",
   "metadata": {},
   "outputs": [],
   "source": []
  }
 ],
 "metadata": {
  "kernelspec": {
   "display_name": "Python 3 (ipykernel)",
   "language": "python",
   "name": "python3"
  },
  "language_info": {
   "codemirror_mode": {
    "name": "ipython",
    "version": 3
   },
   "file_extension": ".py",
   "mimetype": "text/x-python",
   "name": "python",
   "nbconvert_exporter": "python",
   "pygments_lexer": "ipython3",
   "version": "3.11.5"
  }
 },
 "nbformat": 4,
 "nbformat_minor": 5
}
