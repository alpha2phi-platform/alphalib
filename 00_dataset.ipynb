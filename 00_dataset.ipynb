{
 "cells": [
  {
   "cell_type": "code",
   "execution_count": 1,
   "id": "357879b8-ffe5-47cf-854d-c3e8df73ef03",
   "metadata": {},
   "outputs": [],
   "source": [
    "from IPython.core.interactiveshell import InteractiveShell\n",
    "from IPython.display import display\n",
    "InteractiveShell.ast_node_interactivity = \"all\""
   ]
  },
  {
   "cell_type": "code",
   "execution_count": 2,
   "id": "8564ff9d-a106-4e9c-95c8-64dbe7489092",
   "metadata": {},
   "outputs": [],
   "source": [
    "%load_ext autoreload\n",
    "%autoreload 2"
   ]
  },
  {
   "cell_type": "code",
   "execution_count": 3,
   "id": "c76b3217-b43c-4fa7-9d6a-78303707ae14",
   "metadata": {},
   "outputs": [],
   "source": [
    "import pandas as pd"
   ]
  },
  {
   "cell_type": "code",
   "execution_count": 4,
   "id": "15dd0ed8-e265-4fea-8527-e4f40e0b5b27",
   "metadata": {},
   "outputs": [],
   "source": [
    "%matplotlib inline\n",
    "pd.set_option('display.max_rows', 500)\n",
    "pd.set_option('display.max_columns', 500)\n",
    "pd.set_option('display.max_seq_items', 500)"
   ]
  },
  {
   "cell_type": "code",
   "execution_count": 5,
   "id": "7c24eec9-a41c-43ce-95c3-86715941b10b",
   "metadata": {},
   "outputs": [],
   "source": [
    "API_KEY = \"<API Key>\""
   ]
  },
  {
   "cell_type": "markdown",
   "id": "9c21883b-a07d-4df4-bb33-a8c908c380a9",
   "metadata": {},
   "source": [
    "# Fundamental Analysis Library"
   ]
  },
  {
   "cell_type": "code",
   "execution_count": 6,
   "id": "9a41a3ed-b72c-44db-a0ab-5b6a5dfb3537",
   "metadata": {},
   "outputs": [],
   "source": [
    "import fundamentalanalysis as fa"
   ]
  },
  {
   "cell_type": "code",
   "execution_count": 7,
   "id": "804cfafb-3e68-4539-a052-dde400d7af1f",
   "metadata": {},
   "outputs": [
    {
     "name": "stdout",
     "output_type": "stream",
     "text": [
      "<class 'pandas.core.frame.DataFrame'>\n",
      "Index: 70589 entries, KZMS.ME to ESP.AS\n",
      "Data columns (total 5 columns):\n",
      " #   Column             Non-Null Count  Dtype  \n",
      "---  ------             --------------  -----  \n",
      " 0   name               70589 non-null  object \n",
      " 1   price              69876 non-null  float64\n",
      " 2   exchange           70589 non-null  object \n",
      " 3   exchangeShortName  70589 non-null  object \n",
      " 4   type               70589 non-null  object \n",
      "dtypes: float64(1), object(4)\n",
      "memory usage: 3.2+ MB\n"
     ]
    }
   ],
   "source": [
    "companies = fa.available_companies(API_KEY)\n",
    "companies.info()"
   ]
  },
  {
   "cell_type": "code",
   "execution_count": 8,
   "id": "ea931501-5945-4d2b-8a51-e185b50f40fb",
   "metadata": {},
   "outputs": [
    {
     "name": "stdout",
     "output_type": "stream",
     "text": [
      "70589\n"
     ]
    }
   ],
   "source": [
    "print(len(companies)) "
   ]
  },
  {
   "cell_type": "code",
   "execution_count": 9,
   "id": "cef48f00-e357-420a-9705-ea6d78e5657e",
   "metadata": {},
   "outputs": [
    {
     "data": {
      "text/plain": [
       "array(['MCX', 'Stockholm Stock Exchange', 'Helsinki', 'Copenhagen',\n",
       "       'Iceland', 'Tallinn', 'CBOT', 'Istanbul Stock Exchange',\n",
       "       'Warsaw Stock Exchange', 'London Stock Exchange', 'Tel Aviv',\n",
       "       'Vienna', 'Milan', 'Athens', 'Frankfurt Stock Exchange',\n",
       "       'Amsterdam', 'Oslo Stock Exchange', 'Madrid Stock Exchange',\n",
       "       'Johannesburg', 'Swiss Exchange', 'Brussels', 'Paris', 'Frankfurt',\n",
       "       'Lisbon', 'Prague', 'Stuttgart', 'OSE', 'Saudi', 'XETRA',\n",
       "       'EURONEXT', 'Hamburg', 'Berlin', 'Irish', 'IOB', 'Nasdaq',\n",
       "       'Nasdaq Capital Market', 'Other OTC', 'NAS',\n",
       "       'NASDAQ Global Market', 'Budapest', 'EGX', 'Munich', 'Dusseldorf',\n",
       "       'Dubai', 'BSE', 'Qatar', 'National Stock Exchange of India',\n",
       "       'NASDAQ Global Select', 'Kuwait', 'Thailand', 'SES',\n",
       "       'Jakarta Stock Exchange', 'Kuala Lumpur', 'HKSE',\n",
       "       'New York Stock Exchange', 'Shenzhen', 'FTSE Index', 'Shanghai',\n",
       "       'Taipei Exchange', 'Fukuoka', 'KOSDAQ', 'KSE', 'Tokyo',\n",
       "       'Australian Securities Exchange', 'Taiwan', 'NZSE', 'Buenos Aires',\n",
       "       'São Paulo', 'Toronto Stock Exchange', 'NEO', 'Santiago',\n",
       "       'NASDAQ Capital Market', 'American Stock Exchange',\n",
       "       'New York Stock Exchange Arca', 'BATS', 'TSXV', 'Mexico',\n",
       "       'Canadian Sec', 'YHD', 'NGM', 'Cboe US', 'Aquis AQSE',\n",
       "       'Nasdaq Global Select', 'Nasdaq Global Market', 'Toronto',\n",
       "       'Stockholm', 'NSE', 'Warsaw', 'MCE', 'Oslo', 'NCM',\n",
       "       'BATS Exchange', 'SIX', 'NASDAQ', ''], dtype=object)"
      ]
     },
     "execution_count": 9,
     "metadata": {},
     "output_type": "execute_result"
    }
   ],
   "source": [
    "companies[\"exchange\"].unique()"
   ]
  },
  {
   "cell_type": "code",
   "execution_count": 10,
   "id": "854ca64c-f84e-45c9-8899-62d7d17cf7e4",
   "metadata": {
    "tags": []
   },
   "outputs": [
    {
     "data": {
      "text/plain": [
       "array(['MCX', 'Stockholm Stock Exchange', 'Helsinki', 'Copenhagen',\n",
       "       'Iceland', 'Tallinn', 'CBOT', 'Istanbul Stock Exchange',\n",
       "       'Warsaw Stock Exchange', 'London Stock Exchange', 'Tel Aviv',\n",
       "       'Vienna', 'Milan', 'Athens', 'Frankfurt Stock Exchange',\n",
       "       'Amsterdam', 'Oslo Stock Exchange', 'Madrid Stock Exchange',\n",
       "       'Johannesburg', 'Swiss Exchange', 'Brussels', 'Paris', 'Frankfurt',\n",
       "       'Lisbon', 'Prague', 'Stuttgart', 'OSE', 'Saudi', 'XETRA',\n",
       "       'EURONEXT', 'Hamburg', 'Berlin', 'Irish', 'IOB', 'Nasdaq',\n",
       "       'Nasdaq Capital Market', 'Other OTC', 'NAS',\n",
       "       'NASDAQ Global Market', 'Budapest', 'EGX', 'Munich', 'Dusseldorf',\n",
       "       'Dubai', 'BSE', 'Qatar', 'National Stock Exchange of India',\n",
       "       'NASDAQ Global Select', 'Kuwait', 'Thailand', 'SES',\n",
       "       'Jakarta Stock Exchange', 'Kuala Lumpur', 'HKSE',\n",
       "       'New York Stock Exchange', 'Shenzhen', 'FTSE Index', 'Shanghai',\n",
       "       'Taipei Exchange', 'Fukuoka', 'KOSDAQ', 'KSE', 'Tokyo',\n",
       "       'Australian Securities Exchange', 'Taiwan', 'NZSE', 'Buenos Aires',\n",
       "       'São Paulo', 'Toronto Stock Exchange', 'NEO', 'Santiago',\n",
       "       'NASDAQ Capital Market', 'American Stock Exchange',\n",
       "       'New York Stock Exchange Arca', 'BATS', 'TSXV', 'Mexico',\n",
       "       'Canadian Sec', 'YHD', 'NGM', 'Cboe US', 'Aquis AQSE',\n",
       "       'Nasdaq Global Select', 'Nasdaq Global Market', 'Toronto',\n",
       "       'Stockholm', 'NSE', 'Warsaw', 'MCE', 'Oslo', 'NCM',\n",
       "       'BATS Exchange', 'SIX', 'NASDAQ', '', 'STO', 'HEL', 'CPH', 'ICE',\n",
       "       'TAL', 'CBT', 'IST', 'WSE', 'LSE', 'TLV', 'VIE', 'MIL', 'ATH',\n",
       "       'AMS', 'JNB', 'LIS', 'PRA', 'STU', 'SAU', 'HAM', 'BER', 'ISE',\n",
       "       'PNK', 'BUD', 'CAI', 'MUN', 'DUS', 'BRU', 'DFM', 'DOH', 'KUW',\n",
       "       'SET', 'JKT', 'KLS', 'NYSE', 'SHZ', 'FGI', 'SHH', 'TWO', 'FKA',\n",
       "       'KOE', 'KSC', 'JPX', 'ASX', 'TAI', 'NZE', 'BUE', 'SAO', 'TSX',\n",
       "       'SGO', 'AMEX', 'ETF', 'OTC', 'ASE', 'MEX', 'CNQ', 'AQS'],\n",
       "      dtype=object)"
      ]
     },
     "execution_count": 10,
     "metadata": {},
     "output_type": "execute_result"
    }
   ],
   "source": [
    "values = pd.concat([companies['exchange'], companies['exchangeShortName']]).unique()\n",
    "values\n",
    "#exchanges = pd.DataFrame(values)\n",
    "#exchanges"
   ]
  },
  {
   "cell_type": "code",
   "execution_count": 11,
   "id": "35ca910d-877f-451e-8a02-632c878915d8",
   "metadata": {},
   "outputs": [
    {
     "data": {
      "text/html": [
       "<div>\n",
       "<style scoped>\n",
       "    .dataframe tbody tr th:only-of-type {\n",
       "        vertical-align: middle;\n",
       "    }\n",
       "\n",
       "    .dataframe tbody tr th {\n",
       "        vertical-align: top;\n",
       "    }\n",
       "\n",
       "    .dataframe thead th {\n",
       "        text-align: right;\n",
       "    }\n",
       "</style>\n",
       "<table border=\"1\" class=\"dataframe\">\n",
       "  <thead>\n",
       "    <tr style=\"text-align: right;\">\n",
       "      <th></th>\n",
       "      <th>name</th>\n",
       "      <th>price</th>\n",
       "      <th>exchange</th>\n",
       "      <th>exchangeShortName</th>\n",
       "      <th>type</th>\n",
       "    </tr>\n",
       "    <tr>\n",
       "      <th>symbol</th>\n",
       "      <th></th>\n",
       "      <th></th>\n",
       "      <th></th>\n",
       "      <th></th>\n",
       "      <th></th>\n",
       "    </tr>\n",
       "  </thead>\n",
       "  <tbody>\n",
       "    <tr>\n",
       "      <th>KZMS.ME</th>\n",
       "      <td>The Open Joint Stock Company Krasnokamsk Metal...</td>\n",
       "      <td>226.000</td>\n",
       "      <td>MCX</td>\n",
       "      <td>MCX</td>\n",
       "      <td>stock</td>\n",
       "    </tr>\n",
       "    <tr>\n",
       "      <th>NORB-B.ST</th>\n",
       "      <td>Nordisk Bergteknik AB (publ)</td>\n",
       "      <td>31.050</td>\n",
       "      <td>Stockholm Stock Exchange</td>\n",
       "      <td>STO</td>\n",
       "      <td>stock</td>\n",
       "    </tr>\n",
       "    <tr>\n",
       "      <th>EMBRAC-B.ST</th>\n",
       "      <td>Embracer Group AB (publ)</td>\n",
       "      <td>52.350</td>\n",
       "      <td>Stockholm Stock Exchange</td>\n",
       "      <td>STO</td>\n",
       "      <td>stock</td>\n",
       "    </tr>\n",
       "    <tr>\n",
       "      <th>CANTA.ST</th>\n",
       "      <td>Cantargia AB (publ)</td>\n",
       "      <td>5.585</td>\n",
       "      <td>Stockholm Stock Exchange</td>\n",
       "      <td>STO</td>\n",
       "      <td>stock</td>\n",
       "    </tr>\n",
       "    <tr>\n",
       "      <th>CAST.ST</th>\n",
       "      <td>Castellum AB (publ)</td>\n",
       "      <td>98.960</td>\n",
       "      <td>Stockholm Stock Exchange</td>\n",
       "      <td>STO</td>\n",
       "      <td>stock</td>\n",
       "    </tr>\n",
       "    <tr>\n",
       "      <th>HUMBLE.ST</th>\n",
       "      <td>Humble Group AB (publ)</td>\n",
       "      <td>8.000</td>\n",
       "      <td>Stockholm Stock Exchange</td>\n",
       "      <td>STO</td>\n",
       "      <td>stock</td>\n",
       "    </tr>\n",
       "    <tr>\n",
       "      <th>ELUX-B.ST</th>\n",
       "      <td>AB Electrolux (publ)</td>\n",
       "      <td>163.800</td>\n",
       "      <td>Stockholm Stock Exchange</td>\n",
       "      <td>STO</td>\n",
       "      <td>stock</td>\n",
       "    </tr>\n",
       "    <tr>\n",
       "      <th>CTEK.ST</th>\n",
       "      <td>CTEK AB (publ)</td>\n",
       "      <td>17.470</td>\n",
       "      <td>Stockholm Stock Exchange</td>\n",
       "      <td>STO</td>\n",
       "      <td>stock</td>\n",
       "    </tr>\n",
       "    <tr>\n",
       "      <th>ATCO-A.ST</th>\n",
       "      <td>Atlas Copco AB</td>\n",
       "      <td>150.000</td>\n",
       "      <td>Stockholm Stock Exchange</td>\n",
       "      <td>STO</td>\n",
       "      <td>stock</td>\n",
       "    </tr>\n",
       "    <tr>\n",
       "      <th>UPM.HE</th>\n",
       "      <td>UPM-Kymmene Oyj</td>\n",
       "      <td>29.400</td>\n",
       "      <td>Helsinki</td>\n",
       "      <td>HEL</td>\n",
       "      <td>stock</td>\n",
       "    </tr>\n",
       "  </tbody>\n",
       "</table>\n",
       "</div>"
      ],
      "text/plain": [
       "                                                          name    price   \n",
       "symbol                                                                    \n",
       "KZMS.ME      The Open Joint Stock Company Krasnokamsk Metal...  226.000  \\\n",
       "NORB-B.ST                         Nordisk Bergteknik AB (publ)   31.050   \n",
       "EMBRAC-B.ST                           Embracer Group AB (publ)   52.350   \n",
       "CANTA.ST                                   Cantargia AB (publ)    5.585   \n",
       "CAST.ST                                    Castellum AB (publ)   98.960   \n",
       "HUMBLE.ST                               Humble Group AB (publ)    8.000   \n",
       "ELUX-B.ST                                 AB Electrolux (publ)  163.800   \n",
       "CTEK.ST                                         CTEK AB (publ)   17.470   \n",
       "ATCO-A.ST                                       Atlas Copco AB  150.000   \n",
       "UPM.HE                                         UPM-Kymmene Oyj   29.400   \n",
       "\n",
       "                             exchange exchangeShortName   type  \n",
       "symbol                                                          \n",
       "KZMS.ME                           MCX               MCX  stock  \n",
       "NORB-B.ST    Stockholm Stock Exchange               STO  stock  \n",
       "EMBRAC-B.ST  Stockholm Stock Exchange               STO  stock  \n",
       "CANTA.ST     Stockholm Stock Exchange               STO  stock  \n",
       "CAST.ST      Stockholm Stock Exchange               STO  stock  \n",
       "HUMBLE.ST    Stockholm Stock Exchange               STO  stock  \n",
       "ELUX-B.ST    Stockholm Stock Exchange               STO  stock  \n",
       "CTEK.ST      Stockholm Stock Exchange               STO  stock  \n",
       "ATCO-A.ST    Stockholm Stock Exchange               STO  stock  \n",
       "UPM.HE                       Helsinki               HEL  stock  "
      ]
     },
     "execution_count": 11,
     "metadata": {},
     "output_type": "execute_result"
    }
   ],
   "source": [
    "companies.head(10)"
   ]
  },
  {
   "cell_type": "code",
   "execution_count": 12,
   "id": "f8aaae9c-c29f-4db1-8dbe-d79d722f1f59",
   "metadata": {},
   "outputs": [
    {
     "name": "stdout",
     "output_type": "stream",
     "text": [
      "17596\n"
     ]
    }
   ],
   "source": [
    "# New York Stock Exchange (NYSE)\n",
    "# NASDAQ Stock Market (NASDAQ)\n",
    "# Chicago Board Options Exchange (CBOE)\n",
    "# Chicago Mercantile Exchange (CME)\n",
    "# Intercontinental Exchange (ICE)\n",
    "# BATS Global Markets (BATS)\n",
    "# Miami International Securities Exchange (MIAX)\n",
    "# Philadelphia Stock Exchange (PHLX)\n",
    "# BOX Options Exchange (BOX)\n",
    "# NYSE American (formerly known as American Stock Exchange or AMEX)\n",
    "\n",
    "us_stocks = companies[companies[\"exchangeShortName\"].isin([\"AMEX\", \"NASDAQ\", \"NYSE\",\"CBOE\", \"CME\", \"ICE\", \"BATS\", \"MIAX\", \"PHLX\", \"BOX\", \"BSE\", \"NSX\", \"CHX\"])]\n",
    "print(len(us_stocks))"
   ]
  },
  {
   "cell_type": "code",
   "execution_count": 13,
   "id": "385b035f-d4a4-43e4-ac10-df720ec84c18",
   "metadata": {},
   "outputs": [
    {
     "data": {
      "text/html": [
       "<div>\n",
       "<style scoped>\n",
       "    .dataframe tbody tr th:only-of-type {\n",
       "        vertical-align: middle;\n",
       "    }\n",
       "\n",
       "    .dataframe tbody tr th {\n",
       "        vertical-align: top;\n",
       "    }\n",
       "\n",
       "    .dataframe thead th {\n",
       "        text-align: right;\n",
       "    }\n",
       "</style>\n",
       "<table border=\"1\" class=\"dataframe\">\n",
       "  <thead>\n",
       "    <tr style=\"text-align: right;\">\n",
       "      <th></th>\n",
       "      <th>name</th>\n",
       "      <th>price</th>\n",
       "      <th>exchange</th>\n",
       "      <th>exchangeShortName</th>\n",
       "      <th>type</th>\n",
       "    </tr>\n",
       "    <tr>\n",
       "      <th>symbol</th>\n",
       "      <th></th>\n",
       "      <th></th>\n",
       "      <th></th>\n",
       "      <th></th>\n",
       "      <th></th>\n",
       "    </tr>\n",
       "  </thead>\n",
       "  <tbody>\n",
       "    <tr>\n",
       "      <th>HAGA.IC</th>\n",
       "      <td>Hagar hf</td>\n",
       "      <td>65.00</td>\n",
       "      <td>Iceland</td>\n",
       "      <td>ICE</td>\n",
       "      <td>stock</td>\n",
       "    </tr>\n",
       "    <tr>\n",
       "      <th>SYN.IC</th>\n",
       "      <td>Sýn hf.</td>\n",
       "      <td>49.00</td>\n",
       "      <td>Iceland</td>\n",
       "      <td>ICE</td>\n",
       "      <td>stock</td>\n",
       "    </tr>\n",
       "    <tr>\n",
       "      <th>YAFIX</th>\n",
       "      <td>AMG Funds - AMG Yacktman Focused Fund</td>\n",
       "      <td>18.78</td>\n",
       "      <td>Nasdaq</td>\n",
       "      <td>NASDAQ</td>\n",
       "      <td>trust</td>\n",
       "    </tr>\n",
       "    <tr>\n",
       "      <th>YAFFX</th>\n",
       "      <td>AMG Yacktman Focused Fund</td>\n",
       "      <td>18.84</td>\n",
       "      <td>Nasdaq</td>\n",
       "      <td>NASDAQ</td>\n",
       "      <td>trust</td>\n",
       "    </tr>\n",
       "    <tr>\n",
       "      <th>ZDIVX</th>\n",
       "      <td>Zacks Dividend Fund Investor Class</td>\n",
       "      <td>22.27</td>\n",
       "      <td>Nasdaq</td>\n",
       "      <td>NASDAQ</td>\n",
       "      <td>trust</td>\n",
       "    </tr>\n",
       "    <tr>\n",
       "      <th>ZSCIX</th>\n",
       "      <td>Zacks Small-Cap Core Fund Institutional Class</td>\n",
       "      <td>30.34</td>\n",
       "      <td>Nasdaq</td>\n",
       "      <td>NASDAQ</td>\n",
       "      <td>trust</td>\n",
       "    </tr>\n",
       "    <tr>\n",
       "      <th>YACKX</th>\n",
       "      <td>AMG Yacktman Fund Class I</td>\n",
       "      <td>21.75</td>\n",
       "      <td>Nasdaq</td>\n",
       "      <td>NASDAQ</td>\n",
       "      <td>trust</td>\n",
       "    </tr>\n",
       "    <tr>\n",
       "      <th>ZSCCX</th>\n",
       "      <td>Zacks Small-Cap Core Fund</td>\n",
       "      <td>29.81</td>\n",
       "      <td>Nasdaq</td>\n",
       "      <td>NASDAQ</td>\n",
       "      <td>trust</td>\n",
       "    </tr>\n",
       "    <tr>\n",
       "      <th>WWWFX</th>\n",
       "      <td>Kinetics Funds, The Internet Fund</td>\n",
       "      <td>43.66</td>\n",
       "      <td>Nasdaq</td>\n",
       "      <td>NASDAQ</td>\n",
       "      <td>trust</td>\n",
       "    </tr>\n",
       "    <tr>\n",
       "      <th>VMGMX</th>\n",
       "      <td>Vanguard Mid-Cap Growth Index Fund</td>\n",
       "      <td>81.46</td>\n",
       "      <td>Nasdaq</td>\n",
       "      <td>NASDAQ</td>\n",
       "      <td>trust</td>\n",
       "    </tr>\n",
       "  </tbody>\n",
       "</table>\n",
       "</div>"
      ],
      "text/plain": [
       "                                                  name  price exchange   \n",
       "symbol                                                                   \n",
       "HAGA.IC                                       Hagar hf  65.00  Iceland  \\\n",
       "SYN.IC                                         Sýn hf.  49.00  Iceland   \n",
       "YAFIX            AMG Funds - AMG Yacktman Focused Fund  18.78   Nasdaq   \n",
       "YAFFX                        AMG Yacktman Focused Fund  18.84   Nasdaq   \n",
       "ZDIVX               Zacks Dividend Fund Investor Class  22.27   Nasdaq   \n",
       "ZSCIX    Zacks Small-Cap Core Fund Institutional Class  30.34   Nasdaq   \n",
       "YACKX                        AMG Yacktman Fund Class I  21.75   Nasdaq   \n",
       "ZSCCX                        Zacks Small-Cap Core Fund  29.81   Nasdaq   \n",
       "WWWFX                Kinetics Funds, The Internet Fund  43.66   Nasdaq   \n",
       "VMGMX               Vanguard Mid-Cap Growth Index Fund  81.46   Nasdaq   \n",
       "\n",
       "        exchangeShortName   type  \n",
       "symbol                            \n",
       "HAGA.IC               ICE  stock  \n",
       "SYN.IC                ICE  stock  \n",
       "YAFIX              NASDAQ  trust  \n",
       "YAFFX              NASDAQ  trust  \n",
       "ZDIVX              NASDAQ  trust  \n",
       "ZSCIX              NASDAQ  trust  \n",
       "YACKX              NASDAQ  trust  \n",
       "ZSCCX              NASDAQ  trust  \n",
       "WWWFX              NASDAQ  trust  \n",
       "VMGMX              NASDAQ  trust  "
      ]
     },
     "execution_count": 13,
     "metadata": {},
     "output_type": "execute_result"
    }
   ],
   "source": [
    "us_stocks.head(10)"
   ]
  },
  {
   "cell_type": "code",
   "execution_count": 17,
   "id": "7f192c0f-3244-419f-926c-df330b80ec78",
   "metadata": {},
   "outputs": [
    {
     "data": {
      "text/html": [
       "<div>\n",
       "<style scoped>\n",
       "    .dataframe tbody tr th:only-of-type {\n",
       "        vertical-align: middle;\n",
       "    }\n",
       "\n",
       "    .dataframe tbody tr th {\n",
       "        vertical-align: top;\n",
       "    }\n",
       "\n",
       "    .dataframe thead th {\n",
       "        text-align: right;\n",
       "    }\n",
       "</style>\n",
       "<table border=\"1\" class=\"dataframe\">\n",
       "  <thead>\n",
       "    <tr style=\"text-align: right;\">\n",
       "      <th></th>\n",
       "      <th>symbol</th>\n",
       "      <th>name</th>\n",
       "      <th>price</th>\n",
       "      <th>exchange</th>\n",
       "      <th>exchangeShortName</th>\n",
       "      <th>type</th>\n",
       "    </tr>\n",
       "  </thead>\n",
       "  <tbody>\n",
       "    <tr>\n",
       "      <th>0</th>\n",
       "      <td>HAGA.IC</td>\n",
       "      <td>Hagar hf</td>\n",
       "      <td>65.00</td>\n",
       "      <td>Iceland</td>\n",
       "      <td>ICE</td>\n",
       "      <td>stock</td>\n",
       "    </tr>\n",
       "    <tr>\n",
       "      <th>1</th>\n",
       "      <td>SYN.IC</td>\n",
       "      <td>Sýn hf.</td>\n",
       "      <td>49.00</td>\n",
       "      <td>Iceland</td>\n",
       "      <td>ICE</td>\n",
       "      <td>stock</td>\n",
       "    </tr>\n",
       "    <tr>\n",
       "      <th>2</th>\n",
       "      <td>YAFIX</td>\n",
       "      <td>AMG Funds - AMG Yacktman Focused Fund</td>\n",
       "      <td>18.78</td>\n",
       "      <td>Nasdaq</td>\n",
       "      <td>NASDAQ</td>\n",
       "      <td>trust</td>\n",
       "    </tr>\n",
       "    <tr>\n",
       "      <th>3</th>\n",
       "      <td>YAFFX</td>\n",
       "      <td>AMG Yacktman Focused Fund</td>\n",
       "      <td>18.84</td>\n",
       "      <td>Nasdaq</td>\n",
       "      <td>NASDAQ</td>\n",
       "      <td>trust</td>\n",
       "    </tr>\n",
       "    <tr>\n",
       "      <th>4</th>\n",
       "      <td>ZDIVX</td>\n",
       "      <td>Zacks Dividend Fund Investor Class</td>\n",
       "      <td>22.27</td>\n",
       "      <td>Nasdaq</td>\n",
       "      <td>NASDAQ</td>\n",
       "      <td>trust</td>\n",
       "    </tr>\n",
       "    <tr>\n",
       "      <th>5</th>\n",
       "      <td>ZSCIX</td>\n",
       "      <td>Zacks Small-Cap Core Fund Institutional Class</td>\n",
       "      <td>30.34</td>\n",
       "      <td>Nasdaq</td>\n",
       "      <td>NASDAQ</td>\n",
       "      <td>trust</td>\n",
       "    </tr>\n",
       "    <tr>\n",
       "      <th>6</th>\n",
       "      <td>YACKX</td>\n",
       "      <td>AMG Yacktman Fund Class I</td>\n",
       "      <td>21.75</td>\n",
       "      <td>Nasdaq</td>\n",
       "      <td>NASDAQ</td>\n",
       "      <td>trust</td>\n",
       "    </tr>\n",
       "    <tr>\n",
       "      <th>7</th>\n",
       "      <td>ZSCCX</td>\n",
       "      <td>Zacks Small-Cap Core Fund</td>\n",
       "      <td>29.81</td>\n",
       "      <td>Nasdaq</td>\n",
       "      <td>NASDAQ</td>\n",
       "      <td>trust</td>\n",
       "    </tr>\n",
       "    <tr>\n",
       "      <th>8</th>\n",
       "      <td>WWWFX</td>\n",
       "      <td>Kinetics Funds, The Internet Fund</td>\n",
       "      <td>43.66</td>\n",
       "      <td>Nasdaq</td>\n",
       "      <td>NASDAQ</td>\n",
       "      <td>trust</td>\n",
       "    </tr>\n",
       "    <tr>\n",
       "      <th>9</th>\n",
       "      <td>VMGMX</td>\n",
       "      <td>Vanguard Mid-Cap Growth Index Fund</td>\n",
       "      <td>81.46</td>\n",
       "      <td>Nasdaq</td>\n",
       "      <td>NASDAQ</td>\n",
       "      <td>trust</td>\n",
       "    </tr>\n",
       "  </tbody>\n",
       "</table>\n",
       "</div>"
      ],
      "text/plain": [
       "    symbol                                           name  price exchange   \n",
       "0  HAGA.IC                                       Hagar hf  65.00  Iceland  \\\n",
       "1   SYN.IC                                        Sýn hf.  49.00  Iceland   \n",
       "2    YAFIX          AMG Funds - AMG Yacktman Focused Fund  18.78   Nasdaq   \n",
       "3    YAFFX                      AMG Yacktman Focused Fund  18.84   Nasdaq   \n",
       "4    ZDIVX             Zacks Dividend Fund Investor Class  22.27   Nasdaq   \n",
       "5    ZSCIX  Zacks Small-Cap Core Fund Institutional Class  30.34   Nasdaq   \n",
       "6    YACKX                      AMG Yacktman Fund Class I  21.75   Nasdaq   \n",
       "7    ZSCCX                      Zacks Small-Cap Core Fund  29.81   Nasdaq   \n",
       "8    WWWFX              Kinetics Funds, The Internet Fund  43.66   Nasdaq   \n",
       "9    VMGMX             Vanguard Mid-Cap Growth Index Fund  81.46   Nasdaq   \n",
       "\n",
       "  exchangeShortName   type  \n",
       "0               ICE  stock  \n",
       "1               ICE  stock  \n",
       "2            NASDAQ  trust  \n",
       "3            NASDAQ  trust  \n",
       "4            NASDAQ  trust  \n",
       "5            NASDAQ  trust  \n",
       "6            NASDAQ  trust  \n",
       "7            NASDAQ  trust  \n",
       "8            NASDAQ  trust  \n",
       "9            NASDAQ  trust  "
      ]
     },
     "execution_count": 17,
     "metadata": {},
     "output_type": "execute_result"
    }
   ],
   "source": [
    "df = us_stocks.reset_index()\n",
    "df.head(10)\n",
    "df.to_excel(\"stock_all.xlsx\", index=False, header=True, engine=\"openpyxl\", sheet_name=\"stock\")"
   ]
  },
  {
   "cell_type": "code",
   "execution_count": 18,
   "id": "1f9c7eb5-47d8-4e25-afcb-275a2d4dc82e",
   "metadata": {},
   "outputs": [
    {
     "name": "stdout",
     "output_type": "stream",
     "text": [
      "stock_all.xlsx\n"
     ]
    }
   ],
   "source": [
    "!ls stock_all.xlsx"
   ]
  },
  {
   "cell_type": "markdown",
   "id": "cf71e46a-3be9-4052-aa0c-57390b010eef",
   "metadata": {},
   "source": [
    "# Finance Database"
   ]
  },
  {
   "cell_type": "code",
   "execution_count": 5,
   "id": "df9bf03b-e56e-4611-bf38-c49cb16b47f4",
   "metadata": {},
   "outputs": [],
   "source": [
    "import financedatabase as fd"
   ]
  },
  {
   "cell_type": "markdown",
   "id": "940190a7-9edf-439d-973c-174f12f20c73",
   "metadata": {},
   "source": [
    "## Countries"
   ]
  },
  {
   "cell_type": "code",
   "execution_count": 6,
   "id": "6dac8805-9eb5-4186-bf36-c0fb9f28b337",
   "metadata": {},
   "outputs": [
    {
     "data": {
      "text/plain": [
       "array(['Afghanistan', 'Anguilla', 'Argentina', 'Australia', 'Austria',\n",
       "       'Azerbaijan', 'Bahamas', 'Bangladesh', 'Barbados', 'Belgium',\n",
       "       'Belize', 'Bermuda', 'Botswana', 'Brazil',\n",
       "       'British Virgin Islands', 'Cambodia', 'Canada', 'Cayman Islands',\n",
       "       'Chile', 'China', 'Colombia', 'Costa Rica', 'Cyprus',\n",
       "       'Czech Republic', 'Denmark', 'Dominican Republic', 'Egypt',\n",
       "       'Estonia', 'Falkland Islands', 'Finland', 'France',\n",
       "       'French Guiana', 'Gabon', 'Georgia', 'Germany', 'Ghana',\n",
       "       'Gibraltar', 'Greece', 'Greenland', 'Guernsey', 'Hong Kong',\n",
       "       'Hungary', 'Iceland', 'India', 'Indonesia', 'Ireland',\n",
       "       'Isle of Man', 'Israel', 'Italy', 'Ivory Coast', 'Japan', 'Jersey',\n",
       "       'Jordan', 'Kazakhstan', 'Kenya', 'Kyrgyzstan', 'Latvia',\n",
       "       'Liechtenstein', 'Lithuania', 'Luxembourg', 'Macau', 'Macedonia',\n",
       "       'Malaysia', 'Malta', 'Mauritius', 'Mexico', 'Monaco', 'Mongolia',\n",
       "       'Montenegro', 'Morocco', 'Mozambique', 'Myanmar', 'Namibia',\n",
       "       'Netherlands', 'Netherlands Antilles', 'New Zealand', 'Nigeria',\n",
       "       'Norway', 'Panama', 'Papua New Guinea', 'Peru', 'Philippines',\n",
       "       'Poland', 'Portugal', 'Qatar', 'Reunion', 'Romania', 'Russia',\n",
       "       'Saudi Arabia', 'Senegal', 'Singapore', 'Slovakia', 'Slovenia',\n",
       "       'South Africa', 'South Korea', 'Spain', 'Suriname', 'Sweden',\n",
       "       'Switzerland', 'Taiwan', 'Tanzania', 'Thailand', 'Turkey',\n",
       "       'Ukraine', 'United Arab Emirates', 'United Kingdom',\n",
       "       'United States', 'Uruguay', 'Vietnam', 'Zambia'], dtype=object)"
      ]
     },
     "execution_count": 6,
     "metadata": {},
     "output_type": "execute_result"
    }
   ],
   "source": [
    "import financedatabase as fd\n",
    "\n",
    "# Initialize the Equities database\n",
    "equities = fd.Equities()\n",
    "\n",
    "# Obtain all countries from the database\n",
    "equities_countries = equities.options('country')\n",
    "\n",
    "equities_countries"
   ]
  },
  {
   "cell_type": "markdown",
   "id": "8d3accf4-2806-403a-9498-82506bf1606a",
   "metadata": {},
   "source": [
    "## Sectors"
   ]
  },
  {
   "cell_type": "code",
   "execution_count": 7,
   "id": "8f91fe08-f638-4d6e-875b-ef20bf1bfa2e",
   "metadata": {},
   "outputs": [
    {
     "data": {
      "text/plain": [
       "array(['Communication Services', 'Consumer Discretionary',\n",
       "       'Consumer Staples', 'Energy', 'Financials', 'Health Care',\n",
       "       'Industrials', 'Information Technology', 'Materials',\n",
       "       'Real Estate', 'Utilities'], dtype=object)"
      ]
     },
     "execution_count": 7,
     "metadata": {},
     "output_type": "execute_result"
    }
   ],
   "source": [
    "# Obtain all sectors from the database\n",
    "equities_sectors = equities.options('sector')\n",
    "equities_sectors"
   ]
  },
  {
   "cell_type": "markdown",
   "id": "21938bbd-584c-44ce-8fc9-80dd55a15d39",
   "metadata": {},
   "source": [
    "## Industries"
   ]
  },
  {
   "cell_type": "code",
   "execution_count": 10,
   "id": "c1042182-be45-48fd-be97-e390ea66b66a",
   "metadata": {},
   "outputs": [
    {
     "data": {
      "text/plain": [
       "array(['Automobiles & Components', 'Banks', 'Capital Goods',\n",
       "       'Commercial & Professional Services',\n",
       "       'Consumer Durables & Apparel', 'Consumer Services',\n",
       "       'Diversified Financials', 'Energy', 'Food & Staples Retailing',\n",
       "       'Food, Beverage & Tobacco', 'Health Care Equipment & Services',\n",
       "       'Household & Personal Products', 'Insurance', 'Materials',\n",
       "       'Media & Entertainment',\n",
       "       'Pharmaceuticals, Biotechnology & Life Sciences', 'Real Estate',\n",
       "       'Retailing', 'Semiconductors & Semiconductor Equipment',\n",
       "       'Software & Services', 'Technology Hardware & Equipment',\n",
       "       'Telecommunication Services', 'Transportation', 'Utilities'],\n",
       "      dtype=object)"
      ]
     },
     "execution_count": 10,
     "metadata": {},
     "output_type": "execute_result"
    }
   ],
   "source": [
    "# Obtain all industry groups from the database\n",
    "equities_industry_groups = equities.options('industry_group')\n",
    "equities_industry_groups"
   ]
  },
  {
   "cell_type": "code",
   "execution_count": 11,
   "id": "ca6967b4-c26b-45ac-97bf-675c6385cf29",
   "metadata": {
    "tags": []
   },
   "outputs": [
    {
     "name": "stdout",
     "output_type": "stream",
     "text": [
      "13159\n"
     ]
    }
   ],
   "source": [
    "# Obtain a selection from the database\n",
    "equities_united_states = equities.select(country=\"United States\")\n",
    "print(len(equities_united_states))"
   ]
  },
  {
   "cell_type": "code",
   "execution_count": 12,
   "id": "6c8f599d-ff11-4598-8ff1-aea0d708f697",
   "metadata": {
    "tags": []
   },
   "outputs": [
    {
     "data": {
      "text/plain": [
       "array(['Aerospace & Defense', 'Air Freight & Logistics', 'Airlines',\n",
       "       'Auto Components', 'Automobiles', 'Banks', 'Beverages',\n",
       "       'Biotechnology', 'Building Products', 'Capital Markets',\n",
       "       'Chemicals', 'Commercial Services & Supplies',\n",
       "       'Communications Equipment', 'Construction & Engineering',\n",
       "       'Construction Materials', 'Consumer Finance', 'Distributors',\n",
       "       'Diversified Consumer Services', 'Diversified Financial Services',\n",
       "       'Diversified Telecommunication Services', 'Electric Utilities',\n",
       "       'Electrical Equipment',\n",
       "       'Electronic Equipment, Instruments & Components',\n",
       "       'Energy Equipment & Services', 'Entertainment',\n",
       "       'Equity Real Estate Investment Trusts (REITs)',\n",
       "       'Food & Staples Retailing', 'Gas Utilities',\n",
       "       'Health Care Equipment & Supplies',\n",
       "       'Health Care Providers & Services', 'Health Care Technology',\n",
       "       'Hotels, Restaurants & Leisure', 'Household Durables',\n",
       "       'Household Products', 'IT Services',\n",
       "       'Independent Power and Renewable Electricity Producers',\n",
       "       'Industrial Conglomerates', 'Insurance',\n",
       "       'Interactive Media & Services',\n",
       "       'Internet & Direct Marketing Retail', 'Machinery', 'Marine',\n",
       "       'Media', 'Metals & Mining', 'Multi-Utilities',\n",
       "       'Oil, Gas & Consumable Fuels', 'Paper & Forest Products',\n",
       "       'Pharmaceuticals', 'Professional Services',\n",
       "       'Real Estate Management & Development', 'Road & Rail',\n",
       "       'Semiconductors & Semiconductor Equipment', 'Software',\n",
       "       'Specialty Retail', 'Technology Hardware, Storage & Peripherals',\n",
       "       'Textiles, Apparel & Luxury Goods', 'Thrifts & Mortgage Finance',\n",
       "       'Tobacco', 'Trading Companies & Distributors',\n",
       "       'Transportation Infrastructure', 'Water Utilities'], dtype=object)"
      ]
     },
     "execution_count": 12,
     "metadata": {},
     "output_type": "execute_result"
    }
   ],
   "source": [
    "# Obtain all industries from a country from the database\n",
    "equities_germany_industries = equities.options('industry', country='United States')\n",
    "equities_germany_industries"
   ]
  },
  {
   "cell_type": "code",
   "execution_count": 13,
   "id": "69eff5f6-3160-4148-9d53-ba5cc30a853c",
   "metadata": {
    "tags": []
   },
   "outputs": [
    {
     "data": {
      "text/plain": [
       "array(['Aerospace & Defense', 'Air Freight & Logistics', 'Airlines',\n",
       "       'Auto Components', 'Automobiles', 'Banks', 'Beverages',\n",
       "       'Biotechnology', 'Building Products', 'Capital Markets',\n",
       "       'Chemicals', 'Commercial Services & Supplies',\n",
       "       'Communications Equipment', 'Construction & Engineering',\n",
       "       'Construction Materials', 'Consumer Finance', 'Distributors',\n",
       "       'Diversified Consumer Services', 'Diversified Financial Services',\n",
       "       'Diversified Telecommunication Services', 'Electric Utilities',\n",
       "       'Electrical Equipment',\n",
       "       'Electronic Equipment, Instruments & Components',\n",
       "       'Energy Equipment & Services', 'Entertainment',\n",
       "       'Equity Real Estate Investment Trusts (REITs)',\n",
       "       'Food & Staples Retailing', 'Food Products', 'Gas Utilities',\n",
       "       'Health Care Equipment & Supplies',\n",
       "       'Health Care Providers & Services', 'Health Care Technology',\n",
       "       'Hotels, Restaurants & Leisure', 'Household Durables',\n",
       "       'Household Products', 'IT Services',\n",
       "       'Independent Power and Renewable Electricity Producers',\n",
       "       'Industrial Conglomerates', 'Insurance',\n",
       "       'Interactive Media & Services',\n",
       "       'Internet & Direct Marketing Retail', 'Machinery', 'Marine',\n",
       "       'Media', 'Metals & Mining', 'Multi-Utilities',\n",
       "       'Oil, Gas & Consumable Fuels', 'Paper & Forest Products',\n",
       "       'Pharmaceuticals', 'Professional Services',\n",
       "       'Real Estate Management & Development', 'Road & Rail',\n",
       "       'Semiconductors & Semiconductor Equipment', 'Software',\n",
       "       'Specialty Retail', 'Technology Hardware, Storage & Peripherals',\n",
       "       'Textiles, Apparel & Luxury Goods', 'Thrifts & Mortgage Finance',\n",
       "       'Tobacco', 'Trading Companies & Distributors',\n",
       "       'Transportation Infrastructure', 'Water Utilities'], dtype=object)"
      ]
     },
     "execution_count": 13,
     "metadata": {},
     "output_type": "execute_result"
    }
   ],
   "source": [
    "equities_industries = equities.options('industry')\n",
    "equities_industries"
   ]
  },
  {
   "cell_type": "code",
   "execution_count": 14,
   "id": "f0e28c32-9705-4377-ae60-1449f208c85a",
   "metadata": {
    "tags": []
   },
   "outputs": [
    {
     "name": "stdout",
     "output_type": "stream",
     "text": [
      "164\n"
     ]
    }
   ],
   "source": [
    "# Obtain a detailed selection from the database\n",
    "equities_usa_consumer_electronics = equities.select(country=\"United States\", industry=\"Insurance\")\n",
    "print(len(equities_usa_consumer_electronics))"
   ]
  },
  {
   "cell_type": "code",
   "execution_count": 15,
   "id": "0a80a75e-ed2e-4d9d-83b2-1f30ec256348",
   "metadata": {
    "tags": []
   },
   "outputs": [
    {
     "name": "stdout",
     "output_type": "stream",
     "text": [
      "26\n"
     ]
    }
   ],
   "source": [
    "# Search specific fields from the database\n",
    "equities_uk_biotech = equities.search(country='United Kingdom', summary='biotech', exchange='LSE')\n",
    "print(len(equities_uk_biotech))"
   ]
  },
  {
   "cell_type": "markdown",
   "id": "ee477c40-55e6-403b-b062-504699050f2a",
   "metadata": {},
   "source": [
    "## All Options"
   ]
  },
  {
   "cell_type": "code",
   "execution_count": 16,
   "id": "a89ac9af-4aa6-40be-b78a-24104735a388",
   "metadata": {},
   "outputs": [],
   "source": [
    "# Obtain all countries + sectors + industries from the database\n",
    "#equities_all_categories = fd.show_options('equities')\n",
    "#equities_all_categories"
   ]
  },
  {
   "cell_type": "markdown",
   "id": "d42df952-5c62-4824-a201-65b963b97af3",
   "metadata": {},
   "source": [
    "## Equities for US"
   ]
  },
  {
   "cell_type": "markdown",
   "id": "00fdc5e8-bfb7-4c29-b57a-5c0143d19808",
   "metadata": {},
   "source": [
    "### By Country and Stock Exchanges"
   ]
  },
  {
   "cell_type": "code",
   "execution_count": 17,
   "id": "60bafa16-4e2c-4ff5-bd77-c13f3ebe8bcb",
   "metadata": {},
   "outputs": [],
   "source": [
    "all_equities = equities.select()\n",
    "df_all_equities = pd.DataFrame(all_equities)"
   ]
  },
  {
   "cell_type": "code",
   "execution_count": 18,
   "id": "3d7fa384-0c17-437d-a958-313c05d3fb1a",
   "metadata": {},
   "outputs": [],
   "source": [
    "#df_all_equities = df_all_equities.T\n",
    "#df_all_equities.index.name = \"symbol\"\n",
    "df_all_equities.reset_index(inplace=True)"
   ]
  },
  {
   "cell_type": "code",
   "execution_count": 19,
   "id": "c9eafc46-17e3-48d6-8704-fbb0fab5304f",
   "metadata": {},
   "outputs": [
    {
     "name": "stdout",
     "output_type": "stream",
     "text": [
      "22846\n"
     ]
    },
    {
     "data": {
      "text/html": [
       "<div>\n",
       "<style scoped>\n",
       "    .dataframe tbody tr th:only-of-type {\n",
       "        vertical-align: middle;\n",
       "    }\n",
       "\n",
       "    .dataframe tbody tr th {\n",
       "        vertical-align: top;\n",
       "    }\n",
       "\n",
       "    .dataframe thead th {\n",
       "        text-align: right;\n",
       "    }\n",
       "</style>\n",
       "<table border=\"1\" class=\"dataframe\">\n",
       "  <thead>\n",
       "    <tr style=\"text-align: right;\">\n",
       "      <th></th>\n",
       "      <th>symbol</th>\n",
       "      <th>name</th>\n",
       "      <th>summary</th>\n",
       "      <th>currency</th>\n",
       "      <th>sector</th>\n",
       "      <th>industry_group</th>\n",
       "      <th>industry</th>\n",
       "      <th>exchange</th>\n",
       "      <th>market</th>\n",
       "      <th>country</th>\n",
       "      <th>state</th>\n",
       "      <th>city</th>\n",
       "      <th>zipcode</th>\n",
       "      <th>website</th>\n",
       "      <th>market_cap</th>\n",
       "      <th>isin</th>\n",
       "      <th>cusip</th>\n",
       "      <th>figi</th>\n",
       "      <th>composite_figi</th>\n",
       "      <th>shareclass_figi</th>\n",
       "    </tr>\n",
       "  </thead>\n",
       "  <tbody>\n",
       "    <tr>\n",
       "      <th>1089</th>\n",
       "      <td>AMKBY</td>\n",
       "      <td>A.P. M√∏ller - M√¶rsk A/S</td>\n",
       "      <td>A.P. M√É¬∏ller - M√É¬¶rsk A/S operates as an i...</td>\n",
       "      <td>USD</td>\n",
       "      <td>Industrials</td>\n",
       "      <td>Transportation</td>\n",
       "      <td>Marine</td>\n",
       "      <td>PNK</td>\n",
       "      <td>OTC Bulletin Board</td>\n",
       "      <td>Denmark</td>\n",
       "      <td>NaN</td>\n",
       "      <td>Copenhagen</td>\n",
       "      <td>1098</td>\n",
       "      <td>http://www.maersk.com</td>\n",
       "      <td>Large Cap</td>\n",
       "      <td>NaN</td>\n",
       "      <td>NaN</td>\n",
       "      <td>NaN</td>\n",
       "      <td>NaN</td>\n",
       "      <td>NaN</td>\n",
       "    </tr>\n",
       "  </tbody>\n",
       "</table>\n",
       "</div>"
      ],
      "text/plain": [
       "     symbol                       name   \n",
       "1089  AMKBY  A.P. M√∏ller - M√¶rsk A/S  \\\n",
       "\n",
       "                                                summary currency       sector   \n",
       "1089  A.P. M√É¬∏ller - M√É¬¶rsk A/S operates as an i...      USD  Industrials  \\\n",
       "\n",
       "      industry_group industry exchange              market  country state   \n",
       "1089  Transportation   Marine      PNK  OTC Bulletin Board  Denmark   NaN  \\\n",
       "\n",
       "            city zipcode                website market_cap isin cusip figi   \n",
       "1089  Copenhagen    1098  http://www.maersk.com  Large Cap  NaN   NaN  NaN  \\\n",
       "\n",
       "     composite_figi shareclass_figi  \n",
       "1089            NaN             NaN  "
      ]
     },
     "execution_count": 19,
     "metadata": {},
     "output_type": "execute_result"
    }
   ],
   "source": [
    "print(len(df_all_equities))\n",
    "df_all_equities[df_all_equities[\"symbol\"] == \"AMKBY\"].head(10)"
   ]
  },
  {
   "cell_type": "code",
   "execution_count": 20,
   "id": "4d57b9b9-4db8-477a-b007-65ca2fb71ad4",
   "metadata": {},
   "outputs": [],
   "source": [
    "df_us_market = df_all_equities[ (df_all_equities[\"country\"] == \"United States\") | \n",
    "                               ( (df_all_equities[\"exchange\"].isin([\"NMS\",\"NYQ\"])) & (df_all_equities[\"market\"] == \"us_market\") ) ]"
   ]
  },
  {
   "cell_type": "code",
   "execution_count": 21,
   "id": "44fddbf9-8d77-4b83-b5f3-a8a8b490522b",
   "metadata": {},
   "outputs": [
    {
     "name": "stdout",
     "output_type": "stream",
     "text": [
      "13159\n"
     ]
    }
   ],
   "source": [
    "print(len(df_us_market))"
   ]
  },
  {
   "cell_type": "code",
   "execution_count": 22,
   "id": "3e9869b9-bf2f-4e20-8dd1-7abbc0bafcbd",
   "metadata": {},
   "outputs": [
    {
     "data": {
      "text/html": [
       "<div>\n",
       "<style scoped>\n",
       "    .dataframe tbody tr th:only-of-type {\n",
       "        vertical-align: middle;\n",
       "    }\n",
       "\n",
       "    .dataframe tbody tr th {\n",
       "        vertical-align: top;\n",
       "    }\n",
       "\n",
       "    .dataframe thead th {\n",
       "        text-align: right;\n",
       "    }\n",
       "</style>\n",
       "<table border=\"1\" class=\"dataframe\">\n",
       "  <thead>\n",
       "    <tr style=\"text-align: right;\">\n",
       "      <th></th>\n",
       "      <th>symbol</th>\n",
       "      <th>name</th>\n",
       "      <th>summary</th>\n",
       "      <th>currency</th>\n",
       "      <th>sector</th>\n",
       "      <th>industry_group</th>\n",
       "      <th>industry</th>\n",
       "      <th>exchange</th>\n",
       "      <th>market</th>\n",
       "      <th>country</th>\n",
       "      <th>state</th>\n",
       "      <th>city</th>\n",
       "      <th>zipcode</th>\n",
       "      <th>website</th>\n",
       "      <th>market_cap</th>\n",
       "      <th>isin</th>\n",
       "      <th>cusip</th>\n",
       "      <th>figi</th>\n",
       "      <th>composite_figi</th>\n",
       "      <th>shareclass_figi</th>\n",
       "    </tr>\n",
       "  </thead>\n",
       "  <tbody>\n",
       "    <tr>\n",
       "      <th>0</th>\n",
       "      <td>A</td>\n",
       "      <td>Agilent Technologies, Inc.</td>\n",
       "      <td>Agilent Technologies, Inc. provides applicatio...</td>\n",
       "      <td>USD</td>\n",
       "      <td>Health Care</td>\n",
       "      <td>Pharmaceuticals, Biotechnology &amp; Life Sciences</td>\n",
       "      <td>Biotechnology</td>\n",
       "      <td>NYQ</td>\n",
       "      <td>New York Stock Exchange</td>\n",
       "      <td>United States</td>\n",
       "      <td>CA</td>\n",
       "      <td>Santa Clara</td>\n",
       "      <td>95051</td>\n",
       "      <td>http://www.agilent.com</td>\n",
       "      <td>Large Cap</td>\n",
       "      <td>US00846U1016</td>\n",
       "      <td>00846U101</td>\n",
       "      <td>BBG000C2V541</td>\n",
       "      <td>BBG000C2V3D6</td>\n",
       "      <td>BBG001SCTQY4</td>\n",
       "    </tr>\n",
       "    <tr>\n",
       "      <th>1</th>\n",
       "      <td>AA</td>\n",
       "      <td>Alcoa Corporation</td>\n",
       "      <td>Alcoa Corporation, together with its subsidiar...</td>\n",
       "      <td>USD</td>\n",
       "      <td>Materials</td>\n",
       "      <td>Materials</td>\n",
       "      <td>Metals &amp; Mining</td>\n",
       "      <td>NYQ</td>\n",
       "      <td>New York Stock Exchange</td>\n",
       "      <td>United States</td>\n",
       "      <td>PA</td>\n",
       "      <td>Pittsburgh</td>\n",
       "      <td>15212-5858</td>\n",
       "      <td>http://www.alcoa.com</td>\n",
       "      <td>Mid Cap</td>\n",
       "      <td>US0138721065</td>\n",
       "      <td>13872106</td>\n",
       "      <td>BBG00B3T3HK5</td>\n",
       "      <td>BBG00B3T3HD3</td>\n",
       "      <td>BBG00B3T3HF1</td>\n",
       "    </tr>\n",
       "    <tr>\n",
       "      <th>4</th>\n",
       "      <td>AABB</td>\n",
       "      <td>Asia Broadband, Inc.</td>\n",
       "      <td>Asia Broadband Inc., through its subsidiary, A...</td>\n",
       "      <td>USD</td>\n",
       "      <td>Materials</td>\n",
       "      <td>Materials</td>\n",
       "      <td>Metals &amp; Mining</td>\n",
       "      <td>PNK</td>\n",
       "      <td>OTC Bulletin Board</td>\n",
       "      <td>United States</td>\n",
       "      <td>NV</td>\n",
       "      <td>Las Vegas</td>\n",
       "      <td>89135</td>\n",
       "      <td>http://www.asiabroadbandinc.com</td>\n",
       "      <td>Micro Cap</td>\n",
       "      <td>NaN</td>\n",
       "      <td>NaN</td>\n",
       "      <td>NaN</td>\n",
       "      <td>NaN</td>\n",
       "      <td>NaN</td>\n",
       "    </tr>\n",
       "    <tr>\n",
       "      <th>6</th>\n",
       "      <td>AAC</td>\n",
       "      <td>Ares Acquisition Corporation</td>\n",
       "      <td>Ares Acquisition Corporation focuses on effect...</td>\n",
       "      <td>USD</td>\n",
       "      <td>Financials</td>\n",
       "      <td>Diversified Financials</td>\n",
       "      <td>Diversified Financial Services</td>\n",
       "      <td>NYQ</td>\n",
       "      <td>New York Stock Exchange</td>\n",
       "      <td>United States</td>\n",
       "      <td>NY</td>\n",
       "      <td>New York</td>\n",
       "      <td>10167</td>\n",
       "      <td>NaN</td>\n",
       "      <td>Small Cap</td>\n",
       "      <td>AU000000AAC9</td>\n",
       "      <td>NaN</td>\n",
       "      <td>NaN</td>\n",
       "      <td>NaN</td>\n",
       "      <td>NaN</td>\n",
       "    </tr>\n",
       "    <tr>\n",
       "      <th>10</th>\n",
       "      <td>AACI</td>\n",
       "      <td>Armada Acquisition Corp. I Common Stock</td>\n",
       "      <td>NaN</td>\n",
       "      <td>USD</td>\n",
       "      <td>Financials</td>\n",
       "      <td>Diversified Financials</td>\n",
       "      <td>Diversified Financial Services</td>\n",
       "      <td>NMS</td>\n",
       "      <td>NASDAQ Global Select</td>\n",
       "      <td>United States</td>\n",
       "      <td>NaN</td>\n",
       "      <td>NaN</td>\n",
       "      <td>NaN</td>\n",
       "      <td>NaN</td>\n",
       "      <td>Nano Cap</td>\n",
       "      <td>NaN</td>\n",
       "      <td>NaN</td>\n",
       "      <td>NaN</td>\n",
       "      <td>NaN</td>\n",
       "      <td>NaN</td>\n",
       "    </tr>\n",
       "    <tr>\n",
       "      <th>11</th>\n",
       "      <td>AACIU</td>\n",
       "      <td>Armada Acquisition Corp. I Unit</td>\n",
       "      <td>NaN</td>\n",
       "      <td>USD</td>\n",
       "      <td>Financials</td>\n",
       "      <td>Diversified Financials</td>\n",
       "      <td>Diversified Financial Services</td>\n",
       "      <td>NMS</td>\n",
       "      <td>NASDAQ Global Select</td>\n",
       "      <td>United States</td>\n",
       "      <td>NaN</td>\n",
       "      <td>NaN</td>\n",
       "      <td>NaN</td>\n",
       "      <td>NaN</td>\n",
       "      <td>Nano Cap</td>\n",
       "      <td>NaN</td>\n",
       "      <td>NaN</td>\n",
       "      <td>NaN</td>\n",
       "      <td>NaN</td>\n",
       "      <td>NaN</td>\n",
       "    </tr>\n",
       "    <tr>\n",
       "      <th>12</th>\n",
       "      <td>AACIW</td>\n",
       "      <td>Armada Acquisition Corp. I Warrant</td>\n",
       "      <td>NaN</td>\n",
       "      <td>USD</td>\n",
       "      <td>Financials</td>\n",
       "      <td>Diversified Financials</td>\n",
       "      <td>Diversified Financial Services</td>\n",
       "      <td>NMS</td>\n",
       "      <td>NASDAQ Global Select</td>\n",
       "      <td>United States</td>\n",
       "      <td>NaN</td>\n",
       "      <td>NaN</td>\n",
       "      <td>NaN</td>\n",
       "      <td>NaN</td>\n",
       "      <td>Nano Cap</td>\n",
       "      <td>NaN</td>\n",
       "      <td>NaN</td>\n",
       "      <td>NaN</td>\n",
       "      <td>NaN</td>\n",
       "      <td>NaN</td>\n",
       "    </tr>\n",
       "    <tr>\n",
       "      <th>16</th>\n",
       "      <td>AACS</td>\n",
       "      <td>American Commerce Solutions, Inc.</td>\n",
       "      <td>American Commerce Solutions, Inc., through its...</td>\n",
       "      <td>USD</td>\n",
       "      <td>Industrials</td>\n",
       "      <td>Capital Goods</td>\n",
       "      <td>Machinery</td>\n",
       "      <td>PNK</td>\n",
       "      <td>OTC Bulletin Board</td>\n",
       "      <td>United States</td>\n",
       "      <td>FL</td>\n",
       "      <td>Bartow</td>\n",
       "      <td>33830</td>\n",
       "      <td>http://www.aacssymbol.com</td>\n",
       "      <td>Nano Cap</td>\n",
       "      <td>NaN</td>\n",
       "      <td>NaN</td>\n",
       "      <td>NaN</td>\n",
       "      <td>NaN</td>\n",
       "      <td>NaN</td>\n",
       "    </tr>\n",
       "    <tr>\n",
       "      <th>19</th>\n",
       "      <td>AADI</td>\n",
       "      <td>Aadi Bioscience Inc. Common Stock</td>\n",
       "      <td>NaN</td>\n",
       "      <td>USD</td>\n",
       "      <td>Health Care</td>\n",
       "      <td>Pharmaceuticals, Biotechnology &amp; Life Sciences</td>\n",
       "      <td>Biotechnology</td>\n",
       "      <td>NMS</td>\n",
       "      <td>NASDAQ Global Select</td>\n",
       "      <td>United States</td>\n",
       "      <td>NaN</td>\n",
       "      <td>NaN</td>\n",
       "      <td>NaN</td>\n",
       "      <td>NaN</td>\n",
       "      <td>Micro Cap</td>\n",
       "      <td>NaN</td>\n",
       "      <td>NaN</td>\n",
       "      <td>NaN</td>\n",
       "      <td>NaN</td>\n",
       "      <td>NaN</td>\n",
       "    </tr>\n",
       "    <tr>\n",
       "      <th>21</th>\n",
       "      <td>AAGC</td>\n",
       "      <td>All American Gold Corp.</td>\n",
       "      <td>All American Gold Corp. acquires, explores, an...</td>\n",
       "      <td>USD</td>\n",
       "      <td>Materials</td>\n",
       "      <td>Materials</td>\n",
       "      <td>Metals &amp; Mining</td>\n",
       "      <td>PNK</td>\n",
       "      <td>OTC Bulletin Board</td>\n",
       "      <td>United States</td>\n",
       "      <td>WY</td>\n",
       "      <td>Cheyenne</td>\n",
       "      <td>82001</td>\n",
       "      <td>http://www.allamericangoldcorp.com</td>\n",
       "      <td>Nano Cap</td>\n",
       "      <td>NaN</td>\n",
       "      <td>NaN</td>\n",
       "      <td>NaN</td>\n",
       "      <td>NaN</td>\n",
       "      <td>NaN</td>\n",
       "    </tr>\n",
       "  </tbody>\n",
       "</table>\n",
       "</div>"
      ],
      "text/plain": [
       "   symbol                                     name   \n",
       "0       A               Agilent Technologies, Inc.  \\\n",
       "1      AA                        Alcoa Corporation   \n",
       "4    AABB                     Asia Broadband, Inc.   \n",
       "6     AAC             Ares Acquisition Corporation   \n",
       "10   AACI  Armada Acquisition Corp. I Common Stock   \n",
       "11  AACIU          Armada Acquisition Corp. I Unit   \n",
       "12  AACIW       Armada Acquisition Corp. I Warrant   \n",
       "16   AACS        American Commerce Solutions, Inc.   \n",
       "19   AADI        Aadi Bioscience Inc. Common Stock   \n",
       "21   AAGC                  All American Gold Corp.   \n",
       "\n",
       "                                              summary currency       sector   \n",
       "0   Agilent Technologies, Inc. provides applicatio...      USD  Health Care  \\\n",
       "1   Alcoa Corporation, together with its subsidiar...      USD    Materials   \n",
       "4   Asia Broadband Inc., through its subsidiary, A...      USD    Materials   \n",
       "6   Ares Acquisition Corporation focuses on effect...      USD   Financials   \n",
       "10                                                NaN      USD   Financials   \n",
       "11                                                NaN      USD   Financials   \n",
       "12                                                NaN      USD   Financials   \n",
       "16  American Commerce Solutions, Inc., through its...      USD  Industrials   \n",
       "19                                                NaN      USD  Health Care   \n",
       "21  All American Gold Corp. acquires, explores, an...      USD    Materials   \n",
       "\n",
       "                                    industry_group   \n",
       "0   Pharmaceuticals, Biotechnology & Life Sciences  \\\n",
       "1                                        Materials   \n",
       "4                                        Materials   \n",
       "6                           Diversified Financials   \n",
       "10                          Diversified Financials   \n",
       "11                          Diversified Financials   \n",
       "12                          Diversified Financials   \n",
       "16                                   Capital Goods   \n",
       "19  Pharmaceuticals, Biotechnology & Life Sciences   \n",
       "21                                       Materials   \n",
       "\n",
       "                          industry exchange                   market   \n",
       "0                    Biotechnology      NYQ  New York Stock Exchange  \\\n",
       "1                  Metals & Mining      NYQ  New York Stock Exchange   \n",
       "4                  Metals & Mining      PNK       OTC Bulletin Board   \n",
       "6   Diversified Financial Services      NYQ  New York Stock Exchange   \n",
       "10  Diversified Financial Services      NMS     NASDAQ Global Select   \n",
       "11  Diversified Financial Services      NMS     NASDAQ Global Select   \n",
       "12  Diversified Financial Services      NMS     NASDAQ Global Select   \n",
       "16                       Machinery      PNK       OTC Bulletin Board   \n",
       "19                   Biotechnology      NMS     NASDAQ Global Select   \n",
       "21                 Metals & Mining      PNK       OTC Bulletin Board   \n",
       "\n",
       "          country state         city     zipcode   \n",
       "0   United States    CA  Santa Clara       95051  \\\n",
       "1   United States    PA   Pittsburgh  15212-5858   \n",
       "4   United States    NV    Las Vegas       89135   \n",
       "6   United States    NY     New York       10167   \n",
       "10  United States   NaN          NaN         NaN   \n",
       "11  United States   NaN          NaN         NaN   \n",
       "12  United States   NaN          NaN         NaN   \n",
       "16  United States    FL       Bartow       33830   \n",
       "19  United States   NaN          NaN         NaN   \n",
       "21  United States    WY     Cheyenne       82001   \n",
       "\n",
       "                               website market_cap          isin      cusip   \n",
       "0               http://www.agilent.com  Large Cap  US00846U1016  00846U101  \\\n",
       "1                 http://www.alcoa.com    Mid Cap  US0138721065   13872106   \n",
       "4      http://www.asiabroadbandinc.com  Micro Cap           NaN        NaN   \n",
       "6                                  NaN  Small Cap  AU000000AAC9        NaN   \n",
       "10                                 NaN   Nano Cap           NaN        NaN   \n",
       "11                                 NaN   Nano Cap           NaN        NaN   \n",
       "12                                 NaN   Nano Cap           NaN        NaN   \n",
       "16           http://www.aacssymbol.com   Nano Cap           NaN        NaN   \n",
       "19                                 NaN  Micro Cap           NaN        NaN   \n",
       "21  http://www.allamericangoldcorp.com   Nano Cap           NaN        NaN   \n",
       "\n",
       "            figi composite_figi shareclass_figi  \n",
       "0   BBG000C2V541   BBG000C2V3D6    BBG001SCTQY4  \n",
       "1   BBG00B3T3HK5   BBG00B3T3HD3    BBG00B3T3HF1  \n",
       "4            NaN            NaN             NaN  \n",
       "6            NaN            NaN             NaN  \n",
       "10           NaN            NaN             NaN  \n",
       "11           NaN            NaN             NaN  \n",
       "12           NaN            NaN             NaN  \n",
       "16           NaN            NaN             NaN  \n",
       "19           NaN            NaN             NaN  \n",
       "21           NaN            NaN             NaN  "
      ]
     },
     "execution_count": 22,
     "metadata": {},
     "output_type": "execute_result"
    }
   ],
   "source": [
    "df_us_market.head(10)"
   ]
  },
  {
   "cell_type": "code",
   "execution_count": 23,
   "id": "fe21eaef-18c6-4ed7-8b87-c5eb5c620bd6",
   "metadata": {},
   "outputs": [
    {
     "data": {
      "text/html": [
       "<div>\n",
       "<style scoped>\n",
       "    .dataframe tbody tr th:only-of-type {\n",
       "        vertical-align: middle;\n",
       "    }\n",
       "\n",
       "    .dataframe tbody tr th {\n",
       "        vertical-align: top;\n",
       "    }\n",
       "\n",
       "    .dataframe thead th {\n",
       "        text-align: right;\n",
       "    }\n",
       "</style>\n",
       "<table border=\"1\" class=\"dataframe\">\n",
       "  <thead>\n",
       "    <tr style=\"text-align: right;\">\n",
       "      <th></th>\n",
       "      <th>symbol</th>\n",
       "    </tr>\n",
       "    <tr>\n",
       "      <th>exchange</th>\n",
       "      <th></th>\n",
       "    </tr>\n",
       "  </thead>\n",
       "  <tbody>\n",
       "    <tr>\n",
       "      <th>ASE</th>\n",
       "      <td>691</td>\n",
       "    </tr>\n",
       "    <tr>\n",
       "      <th>BTS</th>\n",
       "      <td>1</td>\n",
       "    </tr>\n",
       "    <tr>\n",
       "      <th>NAS</th>\n",
       "      <td>11</td>\n",
       "    </tr>\n",
       "    <tr>\n",
       "      <th>NCM</th>\n",
       "      <td>789</td>\n",
       "    </tr>\n",
       "    <tr>\n",
       "      <th>NGM</th>\n",
       "      <td>210</td>\n",
       "    </tr>\n",
       "    <tr>\n",
       "      <th>NMS</th>\n",
       "      <td>3955</td>\n",
       "    </tr>\n",
       "    <tr>\n",
       "      <th>NYQ</th>\n",
       "      <td>2817</td>\n",
       "    </tr>\n",
       "    <tr>\n",
       "      <th>NYS</th>\n",
       "      <td>62</td>\n",
       "    </tr>\n",
       "    <tr>\n",
       "      <th>PCX</th>\n",
       "      <td>3</td>\n",
       "    </tr>\n",
       "    <tr>\n",
       "      <th>PNK</th>\n",
       "      <td>4620</td>\n",
       "    </tr>\n",
       "  </tbody>\n",
       "</table>\n",
       "</div>"
      ],
      "text/plain": [
       "          symbol\n",
       "exchange        \n",
       "ASE          691\n",
       "BTS            1\n",
       "NAS           11\n",
       "NCM          789\n",
       "NGM          210\n",
       "NMS         3955\n",
       "NYQ         2817\n",
       "NYS           62\n",
       "PCX            3\n",
       "PNK         4620"
      ]
     },
     "execution_count": 23,
     "metadata": {},
     "output_type": "execute_result"
    }
   ],
   "source": [
    "df_us_market.groupby(by=[\"exchange\"])[[\"symbol\"]].count()"
   ]
  },
  {
   "cell_type": "code",
   "execution_count": 24,
   "id": "b199e708-8b2b-42e5-a41a-1cec7b853cd7",
   "metadata": {},
   "outputs": [
    {
     "data": {
      "text/html": [
       "<div>\n",
       "<style scoped>\n",
       "    .dataframe tbody tr th:only-of-type {\n",
       "        vertical-align: middle;\n",
       "    }\n",
       "\n",
       "    .dataframe tbody tr th {\n",
       "        vertical-align: top;\n",
       "    }\n",
       "\n",
       "    .dataframe thead th {\n",
       "        text-align: right;\n",
       "    }\n",
       "</style>\n",
       "<table border=\"1\" class=\"dataframe\">\n",
       "  <thead>\n",
       "    <tr style=\"text-align: right;\">\n",
       "      <th></th>\n",
       "      <th>symbol</th>\n",
       "      <th>name</th>\n",
       "      <th>summary</th>\n",
       "      <th>currency</th>\n",
       "      <th>sector</th>\n",
       "      <th>industry_group</th>\n",
       "      <th>industry</th>\n",
       "      <th>exchange</th>\n",
       "      <th>market</th>\n",
       "      <th>country</th>\n",
       "      <th>state</th>\n",
       "      <th>city</th>\n",
       "      <th>zipcode</th>\n",
       "      <th>website</th>\n",
       "      <th>market_cap</th>\n",
       "      <th>isin</th>\n",
       "      <th>cusip</th>\n",
       "      <th>figi</th>\n",
       "      <th>composite_figi</th>\n",
       "      <th>shareclass_figi</th>\n",
       "    </tr>\n",
       "  </thead>\n",
       "  <tbody>\n",
       "    <tr>\n",
       "      <th>4442</th>\n",
       "      <td>CLM</td>\n",
       "      <td>one</td>\n",
       "      <td>one does not have significant operations. It i...</td>\n",
       "      <td>USD</td>\n",
       "      <td>Financials</td>\n",
       "      <td>Diversified Financials</td>\n",
       "      <td>Diversified Financial Services</td>\n",
       "      <td>NYQ</td>\n",
       "      <td>New York Stock Exchange</td>\n",
       "      <td>United States</td>\n",
       "      <td>CA</td>\n",
       "      <td>San Francisco</td>\n",
       "      <td>94129</td>\n",
       "      <td>http://www.a-star.co</td>\n",
       "      <td>Nano Cap</td>\n",
       "      <td>NaN</td>\n",
       "      <td>NaN</td>\n",
       "      <td>NaN</td>\n",
       "      <td>NaN</td>\n",
       "      <td>NaN</td>\n",
       "    </tr>\n",
       "    <tr>\n",
       "      <th>6663</th>\n",
       "      <td>ELY</td>\n",
       "      <td>Callaway Golf Company</td>\n",
       "      <td>Callaway Golf Company, together with its subsi...</td>\n",
       "      <td>USD</td>\n",
       "      <td>Consumer Discretionary</td>\n",
       "      <td>Consumer Services</td>\n",
       "      <td>Hotels, Restaurants &amp; Leisure</td>\n",
       "      <td>NYQ</td>\n",
       "      <td>New York Stock Exchange</td>\n",
       "      <td>United States</td>\n",
       "      <td>CA</td>\n",
       "      <td>Carlsbad</td>\n",
       "      <td>92008</td>\n",
       "      <td>http://www.callawaygolf.com</td>\n",
       "      <td>Mid Cap</td>\n",
       "      <td>NaN</td>\n",
       "      <td>NaN</td>\n",
       "      <td>NaN</td>\n",
       "      <td>NaN</td>\n",
       "      <td>NaN</td>\n",
       "    </tr>\n",
       "    <tr>\n",
       "      <th>15296</th>\n",
       "      <td>ORC</td>\n",
       "      <td>Orchid Island Capital, Inc.</td>\n",
       "      <td>Orchid Island Capital, Inc., a specialty finan...</td>\n",
       "      <td>USD</td>\n",
       "      <td>Real Estate</td>\n",
       "      <td>Real Estate</td>\n",
       "      <td>Equity Real Estate Investment Trusts (REITs)</td>\n",
       "      <td>NYQ</td>\n",
       "      <td>New York Stock Exchange</td>\n",
       "      <td>United States</td>\n",
       "      <td>FL</td>\n",
       "      <td>Vero Beach</td>\n",
       "      <td>32963</td>\n",
       "      <td>http://www.orchidislandcapital.com</td>\n",
       "      <td>Small Cap</td>\n",
       "      <td>US68571X3017</td>\n",
       "      <td>68571X301</td>\n",
       "      <td>BBG001P2KSH3</td>\n",
       "      <td>BBG001P2KSC8</td>\n",
       "      <td>BBG001V18CW0</td>\n",
       "    </tr>\n",
       "    <tr>\n",
       "      <th>15447</th>\n",
       "      <td>OXLC</td>\n",
       "      <td>Oxford Lane Capital Corp.</td>\n",
       "      <td>Oxford Lane Capital Corp. is a close ended fun...</td>\n",
       "      <td>USD</td>\n",
       "      <td>Financials</td>\n",
       "      <td>Diversified Financials</td>\n",
       "      <td>Capital Markets</td>\n",
       "      <td>NMS</td>\n",
       "      <td>NASDAQ Global Select</td>\n",
       "      <td>United States</td>\n",
       "      <td>CT</td>\n",
       "      <td>Greenwich</td>\n",
       "      <td>NaN</td>\n",
       "      <td>http://www.oxfordlanecapital.com</td>\n",
       "      <td>Small Cap</td>\n",
       "      <td>NaN</td>\n",
       "      <td>NaN</td>\n",
       "      <td>BBG0019RL380</td>\n",
       "      <td>BBG000R41XY0</td>\n",
       "      <td>BBG001T93HP8</td>\n",
       "    </tr>\n",
       "  </tbody>\n",
       "</table>\n",
       "</div>"
      ],
      "text/plain": [
       "      symbol                         name   \n",
       "4442     CLM                          one  \\\n",
       "6663     ELY        Callaway Golf Company   \n",
       "15296    ORC  Orchid Island Capital, Inc.   \n",
       "15447   OXLC    Oxford Lane Capital Corp.   \n",
       "\n",
       "                                                 summary currency   \n",
       "4442   one does not have significant operations. It i...      USD  \\\n",
       "6663   Callaway Golf Company, together with its subsi...      USD   \n",
       "15296  Orchid Island Capital, Inc., a specialty finan...      USD   \n",
       "15447  Oxford Lane Capital Corp. is a close ended fun...      USD   \n",
       "\n",
       "                       sector          industry_group   \n",
       "4442               Financials  Diversified Financials  \\\n",
       "6663   Consumer Discretionary       Consumer Services   \n",
       "15296             Real Estate             Real Estate   \n",
       "15447              Financials  Diversified Financials   \n",
       "\n",
       "                                           industry exchange   \n",
       "4442                 Diversified Financial Services      NYQ  \\\n",
       "6663                  Hotels, Restaurants & Leisure      NYQ   \n",
       "15296  Equity Real Estate Investment Trusts (REITs)      NYQ   \n",
       "15447                               Capital Markets      NMS   \n",
       "\n",
       "                        market        country state           city zipcode   \n",
       "4442   New York Stock Exchange  United States    CA  San Francisco   94129  \\\n",
       "6663   New York Stock Exchange  United States    CA       Carlsbad   92008   \n",
       "15296  New York Stock Exchange  United States    FL     Vero Beach   32963   \n",
       "15447     NASDAQ Global Select  United States    CT      Greenwich     NaN   \n",
       "\n",
       "                                  website market_cap          isin      cusip   \n",
       "4442                 http://www.a-star.co   Nano Cap           NaN        NaN  \\\n",
       "6663          http://www.callawaygolf.com    Mid Cap           NaN        NaN   \n",
       "15296  http://www.orchidislandcapital.com  Small Cap  US68571X3017  68571X301   \n",
       "15447    http://www.oxfordlanecapital.com  Small Cap           NaN        NaN   \n",
       "\n",
       "               figi composite_figi shareclass_figi  \n",
       "4442            NaN            NaN             NaN  \n",
       "6663            NaN            NaN             NaN  \n",
       "15296  BBG001P2KSH3   BBG001P2KSC8    BBG001V18CW0  \n",
       "15447  BBG0019RL380   BBG000R41XY0    BBG001T93HP8  "
      ]
     },
     "execution_count": 24,
     "metadata": {},
     "output_type": "execute_result"
    }
   ],
   "source": [
    "df_us_market[df_us_market[\"symbol\"].isin([\"PBR\", \"GOGL\", \"ELY\", \"SNPTY\",\"BAK\", \"CLM\",\"SBLK\", \"OXLC\", \"CCU\", \"ORC\", \"HIMX\"])].head(20)"
   ]
  },
  {
   "cell_type": "code",
   "execution_count": null,
   "id": "8d631233-d12e-41f7-85a3-557d86951c8e",
   "metadata": {},
   "outputs": [],
   "source": []
  },
  {
   "cell_type": "markdown",
   "id": "17a0df84-46b7-41dc-8566-d496c7f83275",
   "metadata": {},
   "source": [
    "### By Country"
   ]
  },
  {
   "cell_type": "code",
   "execution_count": 25,
   "id": "34e59661-2b4b-4181-abab-820810fa8d51",
   "metadata": {},
   "outputs": [
    {
     "name": "stdout",
     "output_type": "stream",
     "text": [
      "13159\n"
     ]
    },
    {
     "data": {
      "text/html": [
       "<div>\n",
       "<style scoped>\n",
       "    .dataframe tbody tr th:only-of-type {\n",
       "        vertical-align: middle;\n",
       "    }\n",
       "\n",
       "    .dataframe tbody tr th {\n",
       "        vertical-align: top;\n",
       "    }\n",
       "\n",
       "    .dataframe thead th {\n",
       "        text-align: right;\n",
       "    }\n",
       "</style>\n",
       "<table border=\"1\" class=\"dataframe\">\n",
       "  <thead>\n",
       "    <tr style=\"text-align: right;\">\n",
       "      <th></th>\n",
       "      <th>symbol</th>\n",
       "      <th>name</th>\n",
       "      <th>summary</th>\n",
       "      <th>currency</th>\n",
       "      <th>sector</th>\n",
       "      <th>industry_group</th>\n",
       "      <th>industry</th>\n",
       "      <th>exchange</th>\n",
       "      <th>market</th>\n",
       "      <th>country</th>\n",
       "      <th>state</th>\n",
       "      <th>city</th>\n",
       "      <th>zipcode</th>\n",
       "      <th>website</th>\n",
       "      <th>market_cap</th>\n",
       "      <th>isin</th>\n",
       "      <th>cusip</th>\n",
       "      <th>figi</th>\n",
       "      <th>composite_figi</th>\n",
       "      <th>shareclass_figi</th>\n",
       "    </tr>\n",
       "  </thead>\n",
       "  <tbody>\n",
       "    <tr>\n",
       "      <th>0</th>\n",
       "      <td>A</td>\n",
       "      <td>Agilent Technologies, Inc.</td>\n",
       "      <td>Agilent Technologies, Inc. provides applicatio...</td>\n",
       "      <td>USD</td>\n",
       "      <td>Health Care</td>\n",
       "      <td>Pharmaceuticals, Biotechnology &amp; Life Sciences</td>\n",
       "      <td>Biotechnology</td>\n",
       "      <td>NYQ</td>\n",
       "      <td>New York Stock Exchange</td>\n",
       "      <td>United States</td>\n",
       "      <td>CA</td>\n",
       "      <td>Santa Clara</td>\n",
       "      <td>95051</td>\n",
       "      <td>http://www.agilent.com</td>\n",
       "      <td>Large Cap</td>\n",
       "      <td>US00846U1016</td>\n",
       "      <td>00846U101</td>\n",
       "      <td>BBG000C2V541</td>\n",
       "      <td>BBG000C2V3D6</td>\n",
       "      <td>BBG001SCTQY4</td>\n",
       "    </tr>\n",
       "    <tr>\n",
       "      <th>1</th>\n",
       "      <td>AA</td>\n",
       "      <td>Alcoa Corporation</td>\n",
       "      <td>Alcoa Corporation, together with its subsidiar...</td>\n",
       "      <td>USD</td>\n",
       "      <td>Materials</td>\n",
       "      <td>Materials</td>\n",
       "      <td>Metals &amp; Mining</td>\n",
       "      <td>NYQ</td>\n",
       "      <td>New York Stock Exchange</td>\n",
       "      <td>United States</td>\n",
       "      <td>PA</td>\n",
       "      <td>Pittsburgh</td>\n",
       "      <td>15212-5858</td>\n",
       "      <td>http://www.alcoa.com</td>\n",
       "      <td>Mid Cap</td>\n",
       "      <td>US0138721065</td>\n",
       "      <td>13872106</td>\n",
       "      <td>BBG00B3T3HK5</td>\n",
       "      <td>BBG00B3T3HD3</td>\n",
       "      <td>BBG00B3T3HF1</td>\n",
       "    </tr>\n",
       "    <tr>\n",
       "      <th>2</th>\n",
       "      <td>AABB</td>\n",
       "      <td>Asia Broadband, Inc.</td>\n",
       "      <td>Asia Broadband Inc., through its subsidiary, A...</td>\n",
       "      <td>USD</td>\n",
       "      <td>Materials</td>\n",
       "      <td>Materials</td>\n",
       "      <td>Metals &amp; Mining</td>\n",
       "      <td>PNK</td>\n",
       "      <td>OTC Bulletin Board</td>\n",
       "      <td>United States</td>\n",
       "      <td>NV</td>\n",
       "      <td>Las Vegas</td>\n",
       "      <td>89135</td>\n",
       "      <td>http://www.asiabroadbandinc.com</td>\n",
       "      <td>Micro Cap</td>\n",
       "      <td>NaN</td>\n",
       "      <td>NaN</td>\n",
       "      <td>NaN</td>\n",
       "      <td>NaN</td>\n",
       "      <td>NaN</td>\n",
       "    </tr>\n",
       "  </tbody>\n",
       "</table>\n",
       "</div>"
      ],
      "text/plain": [
       "  symbol                        name   \n",
       "0      A  Agilent Technologies, Inc.  \\\n",
       "1     AA           Alcoa Corporation   \n",
       "2   AABB        Asia Broadband, Inc.   \n",
       "\n",
       "                                             summary currency       sector   \n",
       "0  Agilent Technologies, Inc. provides applicatio...      USD  Health Care  \\\n",
       "1  Alcoa Corporation, together with its subsidiar...      USD    Materials   \n",
       "2  Asia Broadband Inc., through its subsidiary, A...      USD    Materials   \n",
       "\n",
       "                                   industry_group         industry exchange   \n",
       "0  Pharmaceuticals, Biotechnology & Life Sciences    Biotechnology      NYQ  \\\n",
       "1                                       Materials  Metals & Mining      NYQ   \n",
       "2                                       Materials  Metals & Mining      PNK   \n",
       "\n",
       "                    market        country state         city     zipcode   \n",
       "0  New York Stock Exchange  United States    CA  Santa Clara       95051  \\\n",
       "1  New York Stock Exchange  United States    PA   Pittsburgh  15212-5858   \n",
       "2       OTC Bulletin Board  United States    NV    Las Vegas       89135   \n",
       "\n",
       "                           website market_cap          isin      cusip   \n",
       "0           http://www.agilent.com  Large Cap  US00846U1016  00846U101  \\\n",
       "1             http://www.alcoa.com    Mid Cap  US0138721065   13872106   \n",
       "2  http://www.asiabroadbandinc.com  Micro Cap           NaN        NaN   \n",
       "\n",
       "           figi composite_figi shareclass_figi  \n",
       "0  BBG000C2V541   BBG000C2V3D6    BBG001SCTQY4  \n",
       "1  BBG00B3T3HK5   BBG00B3T3HD3    BBG00B3T3HF1  \n",
       "2           NaN            NaN             NaN  "
      ]
     },
     "execution_count": 25,
     "metadata": {},
     "output_type": "execute_result"
    }
   ],
   "source": [
    "us_equities = equities.select(country='United States')\n",
    "df_us_equities = pd.DataFrame(us_equities)\n",
    "#df_us_equities = df_us_equities.T\n",
    "#df_us_equities.index.name = \"symbol\"\n",
    "df_us_equities.reset_index(inplace=True)\n",
    "print(len(df_us_equities))\n",
    "df_us_equities.head(3)"
   ]
  },
  {
   "cell_type": "code",
   "execution_count": null,
   "id": "00496075-e199-48b8-859b-cd72729369d4",
   "metadata": {},
   "outputs": [],
   "source": []
  },
  {
   "cell_type": "markdown",
   "id": "2327a3a9-6e39-42e5-a773-841f0c57c2d6",
   "metadata": {},
   "source": [
    "## Equities by Sectors"
   ]
  },
  {
   "cell_type": "code",
   "execution_count": 26,
   "id": "dcab4070-f109-4788-af61-c8eaac271650",
   "metadata": {},
   "outputs": [
    {
     "data": {
      "text/plain": [
       "sector\n",
       "Communication Services     479\n",
       "Consumer Discretionary     804\n",
       "Consumer Staples           425\n",
       "Energy                     497\n",
       "Financials                4650\n",
       "Health Care               1808\n",
       "Industrials               1102\n",
       "Information Technology    1232\n",
       "Materials                  444\n",
       "Real Estate                548\n",
       "Utilities                  190\n",
       "Name: symbol, dtype: int64"
      ]
     },
     "execution_count": 26,
     "metadata": {},
     "output_type": "execute_result"
    }
   ],
   "source": [
    "df_us_sector = df_us_equities.groupby(by=[\"sector\"], axis=0)[\"symbol\"].count()\n",
    "df_us_sector"
   ]
  },
  {
   "cell_type": "code",
   "execution_count": 27,
   "id": "a7d2d9a2-cd6a-4286-979f-dc80a2c00707",
   "metadata": {},
   "outputs": [
    {
     "data": {
      "text/plain": [
       "array([<Axes: ylabel='symbol'>], dtype=object)"
      ]
     },
     "execution_count": 27,
     "metadata": {},
     "output_type": "execute_result"
    },
    {
     "data": {
      "image/png": "[encoded data removed]",
      "text/plain": [
       "<Figure size 700x700 with 1 Axes>"
      ]
     },
     "metadata": {},
     "output_type": "display_data"
    }
   ],
   "source": [
    "df_us_sector.plot.pie(subplots=True,figsize=(7, 7))"
   ]
  },
  {
   "cell_type": "markdown",
   "id": "9b55eea7-d0cd-42b3-beda-2070db2dfe6a",
   "metadata": {},
   "source": [
    "## Stocks with High Dividend Value"
   ]
  },
  {
   "cell_type": "code",
   "execution_count": 34,
   "id": "2355f573-eedf-4156-9185-f370047625dd",
   "metadata": {},
   "outputs": [
    {
     "name": "stdout",
     "output_type": "stream",
     "text": [
      "Count of utilities equities : 190\n"
     ]
    }
   ],
   "source": [
    "df_us_utilities = df_us_equities[df_us_equities[\"sector\"] == \"Utilities\"]\n",
    "print(f\"Count of utilities equities : {len(df_us_utilities)}\")"
   ]
  },
  {
   "cell_type": "code",
   "execution_count": 35,
   "id": "50d4a10a-bb70-45e5-93b2-f04046cc47c9",
   "metadata": {},
   "outputs": [],
   "source": [
    "import yfinance as yf\n",
    "import time"
   ]
  },
  {
   "cell_type": "code",
   "execution_count": 36,
   "id": "13d077c4-fa80-4b74-9411-c9fac4618ced",
   "metadata": {},
   "outputs": [
    {
     "ename": "AttributeError",
     "evalue": "'Ticker' object has no attribute 'stats'",
     "output_type": "error",
     "traceback": [
      "\u001b[0;31m---------------------------------------------------------------------------\u001b[0m",
      "\u001b[0;31mAttributeError\u001b[0m                            Traceback (most recent call last)",
      "Cell \u001b[0;32mIn[36], line 4\u001b[0m\n\u001b[1;32m      2\u001b[0m \u001b[38;5;28;01mfor\u001b[39;00m equity \u001b[38;5;129;01min\u001b[39;00m df_us_utilities\u001b[38;5;241m.\u001b[39mitertuples(index\u001b[38;5;241m=\u001b[39m\u001b[38;5;28;01mFalse\u001b[39;00m, name\u001b[38;5;241m=\u001b[39m\u001b[38;5;124m\"\u001b[39m\u001b[38;5;124mEquity\u001b[39m\u001b[38;5;124m\"\u001b[39m):\n\u001b[1;32m      3\u001b[0m     ticker \u001b[38;5;241m=\u001b[39m yf\u001b[38;5;241m.\u001b[39mTicker(equity\u001b[38;5;241m.\u001b[39msymbol)\n\u001b[0;32m----> 4\u001b[0m     stats \u001b[38;5;241m=\u001b[39m \u001b[43mticker\u001b[49m\u001b[38;5;241;43m.\u001b[39;49m\u001b[43mstats\u001b[49m()\n\u001b[1;32m      5\u001b[0m     \u001b[38;5;28;01mif\u001b[39;00m \u001b[38;5;124m\"\u001b[39m\u001b[38;5;124mdefaultKeyStatistics\u001b[39m\u001b[38;5;124m\"\u001b[39m \u001b[38;5;129;01min\u001b[39;00m stats\u001b[38;5;241m.\u001b[39mkeys():\n\u001b[1;32m      6\u001b[0m         \u001b[38;5;28mprint\u001b[39m(\u001b[38;5;124mf\u001b[39m\u001b[38;5;124m\"\u001b[39m\u001b[38;5;124mGetting stats for \u001b[39m\u001b[38;5;132;01m{\u001b[39;00mequity\u001b[38;5;241m.\u001b[39msymbol\u001b[38;5;132;01m}\u001b[39;00m\u001b[38;5;124m-\u001b[39m\u001b[38;5;132;01m{\u001b[39;00mequity\u001b[38;5;241m.\u001b[39mshort_name\u001b[38;5;132;01m}\u001b[39;00m\u001b[38;5;124m\"\u001b[39m)\n",
      "\u001b[0;31mAttributeError\u001b[0m: 'Ticker' object has no attribute 'stats'"
     ]
    }
   ],
   "source": [
    "equities_stats = []\n",
    "for equity in df_us_utilities.itertuples(index=False, name=\"Equity\"):\n",
    "    ticker = yf.Ticker(equity.symbol)\n",
    "    stats = ticker.stats()\n",
    "    if \"defaultKeyStatistics\" in stats.keys():\n",
    "        print(f\"Getting stats for {equity.symbol}-{equity.short_name}\")\n",
    "        key_stats = stats[\"defaultKeyStatistics\"]\n",
    "        if key_stats is not None:\n",
    "            key_stats[\"symbol\"] = equity.symbol\n",
    "            key_stats[\"name\"] = equity.short_name\n",
    "            equities_stats.append(key_stats)\n",
    "            time.sleep(2)"
   ]
  },
  {
   "cell_type": "code",
   "execution_count": 37,
   "id": "fd5e34b5-a1f4-4f17-be8f-d3dfbbd53e6b",
   "metadata": {},
   "outputs": [],
   "source": [
    "df_utilities_stats = pd.DataFrame(equities_stats)"
   ]
  },
  {
   "cell_type": "code",
   "execution_count": 38,
   "id": "c9f8ec35-8fcd-4d9e-ba25-77895760efc9",
   "metadata": {},
   "outputs": [
    {
     "name": "stdout",
     "output_type": "stream",
     "text": [
      "<class 'pandas.core.frame.DataFrame'>\n",
      "RangeIndex: 0 entries\n",
      "Empty DataFrame\n"
     ]
    }
   ],
   "source": [
    "df_utilities_stats.info()"
   ]
  },
  {
   "cell_type": "code",
   "execution_count": 39,
   "id": "ad5a6d01-53cd-493e-89d9-8fa082f68ce1",
   "metadata": {},
   "outputs": [
    {
     "ename": "KeyError",
     "evalue": "'lastDividendValue'",
     "output_type": "error",
     "traceback": [
      "\u001b[0;31m---------------------------------------------------------------------------\u001b[0m",
      "\u001b[0;31mKeyError\u001b[0m                                  Traceback (most recent call last)",
      "\u001b[0;32m/tmp/ipykernel_57277/4272689419.py\u001b[0m in \u001b[0;36m?\u001b[0;34m()\u001b[0m\n\u001b[0;32m----> 1\u001b[0;31m \u001b[0mdf_utilities_stats\u001b[0m\u001b[0;34m.\u001b[0m\u001b[0msort_values\u001b[0m\u001b[0;34m(\u001b[0m\u001b[0mby\u001b[0m\u001b[0;34m=\u001b[0m\u001b[0;34m[\u001b[0m\u001b[0;34m\"lastDividendValue\"\u001b[0m\u001b[0;34m]\u001b[0m\u001b[0;34m,\u001b[0m \u001b[0mascending\u001b[0m\u001b[0;34m=\u001b[0m\u001b[0;32mFalse\u001b[0m\u001b[0;34m)\u001b[0m\u001b[0;34m[\u001b[0m\u001b[0;34m[\u001b[0m\u001b[0;34m\"symbol\"\u001b[0m\u001b[0;34m,\u001b[0m \u001b[0;34m\"name\"\u001b[0m\u001b[0;34m,\u001b[0m \u001b[0;34m\"lastDividendValue\"\u001b[0m \u001b[0;34m]\u001b[0m\u001b[0;34m]\u001b[0m\u001b[0;34m\u001b[0m\u001b[0;34m\u001b[0m\u001b[0m\n\u001b[0m",
      "\u001b[0;32m~/miniconda3/lib/python3.10/site-packages/pandas/core/frame.py\u001b[0m in \u001b[0;36m?\u001b[0;34m(self, by, axis, ascending, inplace, kind, na_position, ignore_index, key)\u001b[0m\n\u001b[1;32m   6764\u001b[0m         \u001b[0;32melif\u001b[0m \u001b[0mlen\u001b[0m\u001b[0;34m(\u001b[0m\u001b[0mby\u001b[0m\u001b[0;34m)\u001b[0m\u001b[0;34m:\u001b[0m\u001b[0;34m\u001b[0m\u001b[0;34m\u001b[0m\u001b[0m\n\u001b[1;32m   6765\u001b[0m             \u001b[0;31m# len(by) == 1\u001b[0m\u001b[0;34m\u001b[0m\u001b[0;34m\u001b[0m\u001b[0m\n\u001b[1;32m   6766\u001b[0m \u001b[0;34m\u001b[0m\u001b[0m\n\u001b[1;32m   6767\u001b[0m             \u001b[0mby\u001b[0m \u001b[0;34m=\u001b[0m \u001b[0mby\u001b[0m\u001b[0;34m[\u001b[0m\u001b[0;36m0\u001b[0m\u001b[0;34m]\u001b[0m\u001b[0;34m\u001b[0m\u001b[0;34m\u001b[0m\u001b[0m\n\u001b[0;32m-> 6768\u001b[0;31m             \u001b[0mk\u001b[0m \u001b[0;34m=\u001b[0m \u001b[0mself\u001b[0m\u001b[0;34m.\u001b[0m\u001b[0m_get_label_or_level_values\u001b[0m\u001b[0;34m(\u001b[0m\u001b[0mby\u001b[0m\u001b[0;34m,\u001b[0m \u001b[0maxis\u001b[0m\u001b[0;34m=\u001b[0m\u001b[0maxis\u001b[0m\u001b[0;34m)\u001b[0m\u001b[0;34m\u001b[0m\u001b[0;34m\u001b[0m\u001b[0m\n\u001b[0m\u001b[1;32m   6769\u001b[0m \u001b[0;34m\u001b[0m\u001b[0m\n\u001b[1;32m   6770\u001b[0m             \u001b[0;31m# need to rewrap column in Series to apply key function\u001b[0m\u001b[0;34m\u001b[0m\u001b[0;34m\u001b[0m\u001b[0m\n\u001b[1;32m   6771\u001b[0m             \u001b[0;32mif\u001b[0m \u001b[0mkey\u001b[0m \u001b[0;32mis\u001b[0m \u001b[0;32mnot\u001b[0m \u001b[0;32mNone\u001b[0m\u001b[0;34m:\u001b[0m\u001b[0;34m\u001b[0m\u001b[0;34m\u001b[0m\u001b[0m\n",
      "\u001b[0;32m~/miniconda3/lib/python3.10/site-packages/pandas/core/generic.py\u001b[0m in \u001b[0;36m?\u001b[0;34m(self, key, axis)\u001b[0m\n\u001b[1;32m   1774\u001b[0m             \u001b[0mvalues\u001b[0m \u001b[0;34m=\u001b[0m \u001b[0mself\u001b[0m\u001b[0;34m.\u001b[0m\u001b[0mxs\u001b[0m\u001b[0;34m(\u001b[0m\u001b[0mkey\u001b[0m\u001b[0;34m,\u001b[0m \u001b[0maxis\u001b[0m\u001b[0;34m=\u001b[0m\u001b[0mother_axes\u001b[0m\u001b[0;34m[\u001b[0m\u001b[0;36m0\u001b[0m\u001b[0;34m]\u001b[0m\u001b[0;34m)\u001b[0m\u001b[0;34m.\u001b[0m\u001b[0m_values\u001b[0m\u001b[0;34m\u001b[0m\u001b[0;34m\u001b[0m\u001b[0m\n\u001b[1;32m   1775\u001b[0m         \u001b[0;32melif\u001b[0m \u001b[0mself\u001b[0m\u001b[0;34m.\u001b[0m\u001b[0m_is_level_reference\u001b[0m\u001b[0;34m(\u001b[0m\u001b[0mkey\u001b[0m\u001b[0;34m,\u001b[0m \u001b[0maxis\u001b[0m\u001b[0;34m=\u001b[0m\u001b[0maxis\u001b[0m\u001b[0;34m)\u001b[0m\u001b[0;34m:\u001b[0m\u001b[0;34m\u001b[0m\u001b[0;34m\u001b[0m\u001b[0m\n\u001b[1;32m   1776\u001b[0m             \u001b[0mvalues\u001b[0m \u001b[0;34m=\u001b[0m \u001b[0mself\u001b[0m\u001b[0;34m.\u001b[0m\u001b[0maxes\u001b[0m\u001b[0;34m[\u001b[0m\u001b[0maxis\u001b[0m\u001b[0;34m]\u001b[0m\u001b[0;34m.\u001b[0m\u001b[0mget_level_values\u001b[0m\u001b[0;34m(\u001b[0m\u001b[0mkey\u001b[0m\u001b[0;34m)\u001b[0m\u001b[0;34m.\u001b[0m\u001b[0m_values\u001b[0m\u001b[0;34m\u001b[0m\u001b[0;34m\u001b[0m\u001b[0m\n\u001b[1;32m   1777\u001b[0m         \u001b[0;32melse\u001b[0m\u001b[0;34m:\u001b[0m\u001b[0;34m\u001b[0m\u001b[0;34m\u001b[0m\u001b[0m\n\u001b[0;32m-> 1778\u001b[0;31m             \u001b[0;32mraise\u001b[0m \u001b[0mKeyError\u001b[0m\u001b[0;34m(\u001b[0m\u001b[0mkey\u001b[0m\u001b[0;34m)\u001b[0m\u001b[0;34m\u001b[0m\u001b[0;34m\u001b[0m\u001b[0m\n\u001b[0m\u001b[1;32m   1779\u001b[0m \u001b[0;34m\u001b[0m\u001b[0m\n\u001b[1;32m   1780\u001b[0m         \u001b[0;31m# Check for duplicates\u001b[0m\u001b[0;34m\u001b[0m\u001b[0;34m\u001b[0m\u001b[0m\n\u001b[1;32m   1781\u001b[0m         \u001b[0;32mif\u001b[0m \u001b[0mvalues\u001b[0m\u001b[0;34m.\u001b[0m\u001b[0mndim\u001b[0m \u001b[0;34m>\u001b[0m \u001b[0;36m1\u001b[0m\u001b[0;34m:\u001b[0m\u001b[0;34m\u001b[0m\u001b[0;34m\u001b[0m\u001b[0m\n",
      "\u001b[0;31mKeyError\u001b[0m: 'lastDividendValue'"
     ]
    }
   ],
   "source": [
    "df_utilities_stats.sort_values(by=[\"lastDividendValue\"], ascending=False)[[\"symbol\", \"name\", \"lastDividendValue\" ]]"
   ]
  },
  {
   "cell_type": "code",
   "execution_count": null,
   "id": "81df5fb0-e02b-413d-b150-40843eef115a",
   "metadata": {},
   "outputs": [],
   "source": []
  },
  {
   "cell_type": "markdown",
   "id": "1dde26f1-485a-40e6-b437-928fdbce6437",
   "metadata": {},
   "source": [
    "## Save the Dataset"
   ]
  },
  {
   "cell_type": "code",
   "execution_count": 40,
   "id": "033c9cb8-0ead-4447-b16c-ddfadfc1c823",
   "metadata": {},
   "outputs": [],
   "source": [
    "#df_us_equities.to_excel(\"stock.xlsx\", index=False, header=True, engine=\"openpyxl\", sheet_name=\"stock\")"
   ]
  },
  {
   "cell_type": "code",
   "execution_count": 41,
   "id": "7c141568-128c-416f-8a5a-91889bdd7027",
   "metadata": {},
   "outputs": [],
   "source": [
    "#df_excel = pd.read_excel(\"stock.xlsx\", sheet_name=\"stock\")"
   ]
  },
  {
   "cell_type": "code",
   "execution_count": 42,
   "id": "76579d51-27c2-4758-9eb6-9f4c0ab14e17",
   "metadata": {},
   "outputs": [],
   "source": [
    "#df_excel.head(3)"
   ]
  },
  {
   "cell_type": "code",
   "execution_count": 43,
   "id": "af4fd92a-ef9e-4cbe-bfb7-fe7440597d01",
   "metadata": {},
   "outputs": [],
   "source": [
    "#print(len(df_excel))"
   ]
  },
  {
   "cell_type": "code",
   "execution_count": 44,
   "id": "9a5d4bc4-61b3-4555-8e4e-cf3c2cbd6330",
   "metadata": {},
   "outputs": [],
   "source": [
    "df_us_equities.to_excel(\"stock_usa.xlsx\", index=False, header=True, engine=\"openpyxl\", sheet_name=\"stock\")"
   ]
  },
  {
   "cell_type": "code",
   "execution_count": 45,
   "id": "30c2d316-cb8d-47c5-963f-ae2725e48b23",
   "metadata": {},
   "outputs": [],
   "source": [
    "df_excel = pd.read_excel(\"stock_usa.xlsx\", sheet_name=\"stock\")"
   ]
  },
  {
   "cell_type": "code",
   "execution_count": 46,
   "id": "c6345b9e-0fc7-4ca5-a6fd-9badef52310f",
   "metadata": {},
   "outputs": [
    {
     "name": "stdout",
     "output_type": "stream",
     "text": [
      "13159\n"
     ]
    }
   ],
   "source": [
    "print(len(df_excel))"
   ]
  },
  {
   "cell_type": "code",
   "execution_count": 47,
   "id": "db049187-3c70-4f1b-ac40-1320b5458bc3",
   "metadata": {},
   "outputs": [],
   "source": [
    "# All equities"
   ]
  },
  {
   "cell_type": "code",
   "execution_count": 48,
   "id": "95330093-fe96-4a38-8091-4f7244e1f775",
   "metadata": {},
   "outputs": [
    {
     "name": "stdout",
     "output_type": "stream",
     "text": [
      "22846\n"
     ]
    }
   ],
   "source": [
    "print(len(df_all_equities))"
   ]
  },
  {
   "cell_type": "code",
   "execution_count": 49,
   "id": "94163bfa-2aef-4d25-a6a2-1e5cbbd40284",
   "metadata": {
    "tags": []
   },
   "outputs": [],
   "source": [
    "df_all_equities.to_excel(\"stock_all.xlsx\", index=False, header=True, engine=\"openpyxl\", sheet_name=\"stock\")"
   ]
  },
  {
   "cell_type": "code",
   "execution_count": 50,
   "id": "a576ad15-54a1-4d81-b375-2ddcc72d3a08",
   "metadata": {
    "tags": []
   },
   "outputs": [],
   "source": [
    "df_excel = pd.read_excel(\"stock_all.xlsx\", sheet_name=\"stock\")"
   ]
  },
  {
   "cell_type": "code",
   "execution_count": 51,
   "id": "75f846e8-f0a7-423c-b010-059bce1d07f6",
   "metadata": {
    "tags": []
   },
   "outputs": [
    {
     "name": "stdout",
     "output_type": "stream",
     "text": [
      "22846\n"
     ]
    }
   ],
   "source": [
    "print(len(df_excel))"
   ]
  },
  {
   "cell_type": "code",
   "execution_count": null,
   "id": "bce09c8c-95eb-41fe-a03e-22af9945f937",
   "metadata": {},
   "outputs": [],
   "source": []
  }
 ],
 "metadata": {
  "kernelspec": {
   "display_name": "Python 3 (ipykernel)",
   "language": "python",
   "name": "python3"
  },
  "language_info": {
   "codemirror_mode": {
    "name": "ipython",
    "version": 3
   },
   "file_extension": ".py",
   "mimetype": "text/x-python",
   "name": "python",
   "nbconvert_exporter": "python",
   "pygments_lexer": "ipython3",
   "version": "3.10.10"
  }
 },
 "nbformat": 4,
 "nbformat_minor": 5
}
