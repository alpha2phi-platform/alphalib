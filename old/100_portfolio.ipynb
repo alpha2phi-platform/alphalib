{
 "cells": [
  {
   "cell_type": "code",
   "execution_count": 4,
   "id": "1ae9c777-d83f-46b2-93e7-a9c8b135f96f",
   "metadata": {},
   "outputs": [],
   "source": [
    "// https://github.com/google/evcxr/blob/main/evcxr_jupyter/samples/evcxr_jupyter_tour.ipynb\n",
    "// https://github.com/google/evcxr/blob/main/evcxr_jupyter/README.md\n",
    "// https://depth-first.com/articles/2020/09/21/interactive-rust-in-a-repl-and-jupyter-notebook-with-evcxr/"
   ]
  },
  {
   "cell_type": "code",
   "execution_count": null,
   "id": "597297d7-e6ac-4b85-81ad-12f9251acdc3",
   "metadata": {},
   "outputs": [],
   "source": []
  }
 ],
 "metadata": {
  "kernelspec": {
   "display_name": "Rust",
   "language": "rust",
   "name": "rust"
  },
  "language_info": {
   "codemirror_mode": "rust",
   "file_extension": ".rs",
   "mimetype": "text/rust",
   "name": "Rust",
   "pygment_lexer": "rust",
   "version": ""
  }
 },
 "nbformat": 4,
 "nbformat_minor": 5
}
