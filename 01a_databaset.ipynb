{
 "cells": [
  {
   "cell_type": "code",
   "execution_count": 10,
   "id": "357879b8-ffe5-47cf-854d-c3e8df73ef03",
   "metadata": {},
   "outputs": [],
   "source": [
    "from IPython.core.interactiveshell import InteractiveShell\n",
    "from IPython.display import display\n",
    "InteractiveShell.ast_node_interactivity = \"all\""
   ]
  },
  {
   "cell_type": "code",
   "execution_count": 11,
   "id": "8564ff9d-a106-4e9c-95c8-64dbe7489092",
   "metadata": {},
   "outputs": [],
   "source": [
    "%load_ext autoreload\n",
    "%autoreload 2"
   ]
  },
  {
   "cell_type": "code",
   "execution_count": 12,
   "id": "c76b3217-b43c-4fa7-9d6a-78303707ae14",
   "metadata": {},
   "outputs": [],
   "source": [
    "import pandas as pd"
   ]
  },
  {
   "cell_type": "code",
   "execution_count": 13,
   "id": "15dd0ed8-e265-4fea-8527-e4f40e0b5b27",
   "metadata": {},
   "outputs": [],
   "source": [
    "%matplotlib inline\n",
    "pd.set_option('display.max_rows', 500)\n",
    "pd.set_option('display.max_columns', 500)\n",
    "pd.set_option('display.max_seq_items', 500)"
   ]
  },
  {
   "cell_type": "markdown",
   "id": "9c21883b-a07d-4df4-bb33-a8c908c380a9",
   "metadata": {},
   "source": [
    "# Get Stocks"
   ]
  },
  {
   "cell_type": "code",
   "execution_count": 1,
   "id": "9a9dfd8d-0342-451a-9ca6-c2e4e0ee7b66",
   "metadata": {},
   "outputs": [],
   "source": [
    "API_KEY = \"803519f30ccd1fff3cefb65fba2d4727\""
   ]
  },
  {
   "cell_type": "code",
   "execution_count": 2,
   "id": "9a41a3ed-b72c-44db-a0ab-5b6a5dfb3537",
   "metadata": {},
   "outputs": [],
   "source": [
    "import fundamentalanalysis as fa\n",
    "\n",
    "companies = fa.available_companies(API_KEY)"
   ]
  },
  {
   "cell_type": "code",
   "execution_count": 3,
   "id": "ea931501-5945-4d2b-8a51-e185b50f40fb",
   "metadata": {},
   "outputs": [
    {
     "data": {
      "text/html": [
       "<div>\n",
       "<style scoped>\n",
       "    .dataframe tbody tr th:only-of-type {\n",
       "        vertical-align: middle;\n",
       "    }\n",
       "\n",
       "    .dataframe tbody tr th {\n",
       "        vertical-align: top;\n",
       "    }\n",
       "\n",
       "    .dataframe thead th {\n",
       "        text-align: right;\n",
       "    }\n",
       "</style>\n",
       "<table border=\"1\" class=\"dataframe\">\n",
       "  <thead>\n",
       "    <tr style=\"text-align: right;\">\n",
       "      <th></th>\n",
       "      <th>name</th>\n",
       "      <th>price</th>\n",
       "      <th>exchange</th>\n",
       "      <th>exchangeShortName</th>\n",
       "      <th>type</th>\n",
       "    </tr>\n",
       "    <tr>\n",
       "      <th>symbol</th>\n",
       "      <th></th>\n",
       "      <th></th>\n",
       "      <th></th>\n",
       "      <th></th>\n",
       "      <th></th>\n",
       "    </tr>\n",
       "  </thead>\n",
       "  <tbody>\n",
       "    <tr>\n",
       "      <th>SPY</th>\n",
       "      <td>SPDR S&amp;P 500 ETF Trust</td>\n",
       "      <td>385.56</td>\n",
       "      <td>New York Stock Exchange Arca</td>\n",
       "      <td>AMEX</td>\n",
       "      <td>etf</td>\n",
       "    </tr>\n",
       "    <tr>\n",
       "      <th>CMCSA</th>\n",
       "      <td>Comcast Corporation</td>\n",
       "      <td>34.52</td>\n",
       "      <td>NASDAQ Global Select</td>\n",
       "      <td>NASDAQ</td>\n",
       "      <td>stock</td>\n",
       "    </tr>\n",
       "    <tr>\n",
       "      <th>KMI</th>\n",
       "      <td>Kinder Morgan, Inc.</td>\n",
       "      <td>17.85</td>\n",
       "      <td>New York Stock Exchange</td>\n",
       "      <td>NYSE</td>\n",
       "      <td>stock</td>\n",
       "    </tr>\n",
       "  </tbody>\n",
       "</table>\n",
       "</div>"
      ],
      "text/plain": [
       "                          name   price                      exchange  \\\n",
       "symbol                                                                 \n",
       "SPY     SPDR S&P 500 ETF Trust  385.56  New York Stock Exchange Arca   \n",
       "CMCSA      Comcast Corporation   34.52          NASDAQ Global Select   \n",
       "KMI        Kinder Morgan, Inc.   17.85       New York Stock Exchange   \n",
       "\n",
       "       exchangeShortName   type  \n",
       "symbol                           \n",
       "SPY                 AMEX    etf  \n",
       "CMCSA             NASDAQ  stock  \n",
       "KMI                 NYSE  stock  "
      ]
     },
     "execution_count": 3,
     "metadata": {},
     "output_type": "execute_result"
    }
   ],
   "source": [
    "companies.head(3)"
   ]
  },
  {
   "cell_type": "code",
   "execution_count": 6,
   "id": "7f192c0f-3244-419f-926c-df330b80ec78",
   "metadata": {},
   "outputs": [
    {
     "name": "stdout",
     "output_type": "stream",
     "text": [
      "44705\n"
     ]
    }
   ],
   "source": [
    "df = companies.reset_index()\n",
    "print(len(df))\n",
    "#df.to_excel(\"stocks.xlsx\", index=False, header=True, engine=\"openpyxl\", sheet_name=\"stocks\")"
   ]
  },
  {
   "cell_type": "code",
   "execution_count": null,
   "id": "1f9c7eb5-47d8-4e25-afcb-275a2d4dc82e",
   "metadata": {},
   "outputs": [],
   "source": []
  },
  {
   "cell_type": "markdown",
   "id": "cf71e46a-3be9-4052-aa0c-57390b010eef",
   "metadata": {},
   "source": [
    "## Finance Database"
   ]
  },
  {
   "cell_type": "code",
   "execution_count": 54,
   "id": "df9bf03b-e56e-4611-bf38-c49cb16b47f4",
   "metadata": {},
   "outputs": [],
   "source": [
    "import financedatabase as fd"
   ]
  },
  {
   "cell_type": "code",
   "execution_count": 8,
   "id": "fd87f478-04c2-45f3-a861-b822d34bb3e7",
   "metadata": {},
   "outputs": [
    {
     "name": "stdout",
     "output_type": "stream",
     "text": [
      "9649\n"
     ]
    }
   ],
   "source": [
    "us_equities = fd.select_equities(country='United States')\n",
    "print(len(us_equities))"
   ]
  },
  {
   "cell_type": "code",
   "execution_count": 45,
   "id": "5c7ff6fe-7e5d-48e1-b75a-fa08f946e47b",
   "metadata": {},
   "outputs": [
    {
     "data": {
      "text/html": [
       "<div>\n",
       "<style scoped>\n",
       "    .dataframe tbody tr th:only-of-type {\n",
       "        vertical-align: middle;\n",
       "    }\n",
       "\n",
       "    .dataframe tbody tr th {\n",
       "        vertical-align: top;\n",
       "    }\n",
       "\n",
       "    .dataframe thead th {\n",
       "        text-align: right;\n",
       "    }\n",
       "</style>\n",
       "<table border=\"1\" class=\"dataframe\">\n",
       "  <thead>\n",
       "    <tr style=\"text-align: right;\">\n",
       "      <th></th>\n",
       "      <th>symbol</th>\n",
       "      <th>short_name</th>\n",
       "      <th>long_name</th>\n",
       "      <th>summary</th>\n",
       "      <th>currency</th>\n",
       "      <th>sector</th>\n",
       "      <th>industry</th>\n",
       "      <th>exchange</th>\n",
       "      <th>market</th>\n",
       "      <th>country</th>\n",
       "      <th>state</th>\n",
       "      <th>city</th>\n",
       "      <th>zipcode</th>\n",
       "      <th>website</th>\n",
       "      <th>market_cap</th>\n",
       "    </tr>\n",
       "  </thead>\n",
       "  <tbody>\n",
       "    <tr>\n",
       "      <th>0</th>\n",
       "      <td>A</td>\n",
       "      <td>Agilent Technologies, Inc.</td>\n",
       "      <td>Agilent Technologies, Inc.</td>\n",
       "      <td>Agilent Technologies, Inc. provides applicatio...</td>\n",
       "      <td>USD</td>\n",
       "      <td>Healthcare</td>\n",
       "      <td>Diagnostics &amp; Research</td>\n",
       "      <td>NYQ</td>\n",
       "      <td>us_market</td>\n",
       "      <td>United States</td>\n",
       "      <td>CA</td>\n",
       "      <td>Santa Clara</td>\n",
       "      <td>95051</td>\n",
       "      <td>http://www.agilent.com</td>\n",
       "      <td>Large Cap</td>\n",
       "    </tr>\n",
       "    <tr>\n",
       "      <th>1</th>\n",
       "      <td>AA</td>\n",
       "      <td>Alcoa Corporation</td>\n",
       "      <td>Alcoa Corporation</td>\n",
       "      <td>Alcoa Corporation, together with its subsidiar...</td>\n",
       "      <td>USD</td>\n",
       "      <td>Basic Materials</td>\n",
       "      <td>Aluminum</td>\n",
       "      <td>NYQ</td>\n",
       "      <td>us_market</td>\n",
       "      <td>United States</td>\n",
       "      <td>PA</td>\n",
       "      <td>Pittsburgh</td>\n",
       "      <td>15212-5858</td>\n",
       "      <td>http://www.alcoa.com</td>\n",
       "      <td>Mid Cap</td>\n",
       "    </tr>\n",
       "    <tr>\n",
       "      <th>2</th>\n",
       "      <td>AABB</td>\n",
       "      <td>ASIA BROADBAND INC</td>\n",
       "      <td>Asia Broadband, Inc.</td>\n",
       "      <td>Asia Broadband Inc., through its subsidiary, A...</td>\n",
       "      <td>USD</td>\n",
       "      <td>Basic Materials</td>\n",
       "      <td>Other Industrial Metals &amp; Mining</td>\n",
       "      <td>PNK</td>\n",
       "      <td>us_market</td>\n",
       "      <td>United States</td>\n",
       "      <td>NV</td>\n",
       "      <td>Las Vegas</td>\n",
       "      <td>89135</td>\n",
       "      <td>http://www.asiabroadbandinc.com</td>\n",
       "      <td>Micro Cap</td>\n",
       "    </tr>\n",
       "  </tbody>\n",
       "</table>\n",
       "</div>"
      ],
      "text/plain": [
       "  symbol                  short_name                   long_name  \\\n",
       "0      A  Agilent Technologies, Inc.  Agilent Technologies, Inc.   \n",
       "1     AA           Alcoa Corporation           Alcoa Corporation   \n",
       "2   AABB          ASIA BROADBAND INC        Asia Broadband, Inc.   \n",
       "\n",
       "                                             summary currency  \\\n",
       "0  Agilent Technologies, Inc. provides applicatio...      USD   \n",
       "1  Alcoa Corporation, together with its subsidiar...      USD   \n",
       "2  Asia Broadband Inc., through its subsidiary, A...      USD   \n",
       "\n",
       "            sector                          industry exchange     market  \\\n",
       "0       Healthcare            Diagnostics & Research      NYQ  us_market   \n",
       "1  Basic Materials                          Aluminum      NYQ  us_market   \n",
       "2  Basic Materials  Other Industrial Metals & Mining      PNK  us_market   \n",
       "\n",
       "         country state         city     zipcode  \\\n",
       "0  United States    CA  Santa Clara       95051   \n",
       "1  United States    PA   Pittsburgh  15212-5858   \n",
       "2  United States    NV    Las Vegas       89135   \n",
       "\n",
       "                           website market_cap  \n",
       "0           http://www.agilent.com  Large Cap  \n",
       "1             http://www.alcoa.com    Mid Cap  \n",
       "2  http://www.asiabroadbandinc.com  Micro Cap  "
      ]
     },
     "execution_count": 45,
     "metadata": {},
     "output_type": "execute_result"
    }
   ],
   "source": [
    "df = pd.DataFrame(us_equities)\n",
    "df = df.T\n",
    "df.index.name = \"symbol\"\n",
    "df.reset_index(inplace=True)\n",
    "df.head(3)"
   ]
  },
  {
   "cell_type": "code",
   "execution_count": 46,
   "id": "033c9cb8-0ead-4447-b16c-ddfadfc1c823",
   "metadata": {},
   "outputs": [],
   "source": [
    "df.to_excel(\"data/stocks_equities_united_states.xlsx\", index=False, header=True, engine=\"openpyxl\", sheet_name=\"stocks\")"
   ]
  },
  {
   "cell_type": "code",
   "execution_count": 50,
   "id": "7c141568-128c-416f-8a5a-91889bdd7027",
   "metadata": {},
   "outputs": [],
   "source": [
    "df_excel = pd.read_excel(\"data/stocks_equities_united_states.xlsx\", sheet_name=\"stocks\")"
   ]
  },
  {
   "cell_type": "code",
   "execution_count": 51,
   "id": "76579d51-27c2-4758-9eb6-9f4c0ab14e17",
   "metadata": {},
   "outputs": [
    {
     "data": {
      "text/html": [
       "<div>\n",
       "<style scoped>\n",
       "    .dataframe tbody tr th:only-of-type {\n",
       "        vertical-align: middle;\n",
       "    }\n",
       "\n",
       "    .dataframe tbody tr th {\n",
       "        vertical-align: top;\n",
       "    }\n",
       "\n",
       "    .dataframe thead th {\n",
       "        text-align: right;\n",
       "    }\n",
       "</style>\n",
       "<table border=\"1\" class=\"dataframe\">\n",
       "  <thead>\n",
       "    <tr style=\"text-align: right;\">\n",
       "      <th></th>\n",
       "      <th>symbol</th>\n",
       "      <th>short_name</th>\n",
       "      <th>long_name</th>\n",
       "      <th>summary</th>\n",
       "      <th>currency</th>\n",
       "      <th>sector</th>\n",
       "      <th>industry</th>\n",
       "      <th>exchange</th>\n",
       "      <th>market</th>\n",
       "      <th>country</th>\n",
       "      <th>state</th>\n",
       "      <th>city</th>\n",
       "      <th>zipcode</th>\n",
       "      <th>website</th>\n",
       "      <th>market_cap</th>\n",
       "    </tr>\n",
       "  </thead>\n",
       "  <tbody>\n",
       "    <tr>\n",
       "      <th>0</th>\n",
       "      <td>A</td>\n",
       "      <td>Agilent Technologies, Inc.</td>\n",
       "      <td>Agilent Technologies, Inc.</td>\n",
       "      <td>Agilent Technologies, Inc. provides applicatio...</td>\n",
       "      <td>USD</td>\n",
       "      <td>Healthcare</td>\n",
       "      <td>Diagnostics &amp; Research</td>\n",
       "      <td>NYQ</td>\n",
       "      <td>us_market</td>\n",
       "      <td>United States</td>\n",
       "      <td>CA</td>\n",
       "      <td>Santa Clara</td>\n",
       "      <td>95051</td>\n",
       "      <td>http://www.agilent.com</td>\n",
       "      <td>Large Cap</td>\n",
       "    </tr>\n",
       "    <tr>\n",
       "      <th>1</th>\n",
       "      <td>AA</td>\n",
       "      <td>Alcoa Corporation</td>\n",
       "      <td>Alcoa Corporation</td>\n",
       "      <td>Alcoa Corporation, together with its subsidiar...</td>\n",
       "      <td>USD</td>\n",
       "      <td>Basic Materials</td>\n",
       "      <td>Aluminum</td>\n",
       "      <td>NYQ</td>\n",
       "      <td>us_market</td>\n",
       "      <td>United States</td>\n",
       "      <td>PA</td>\n",
       "      <td>Pittsburgh</td>\n",
       "      <td>15212-5858</td>\n",
       "      <td>http://www.alcoa.com</td>\n",
       "      <td>Mid Cap</td>\n",
       "    </tr>\n",
       "    <tr>\n",
       "      <th>2</th>\n",
       "      <td>AABB</td>\n",
       "      <td>ASIA BROADBAND INC</td>\n",
       "      <td>Asia Broadband, Inc.</td>\n",
       "      <td>Asia Broadband Inc., through its subsidiary, A...</td>\n",
       "      <td>USD</td>\n",
       "      <td>Basic Materials</td>\n",
       "      <td>Other Industrial Metals &amp; Mining</td>\n",
       "      <td>PNK</td>\n",
       "      <td>us_market</td>\n",
       "      <td>United States</td>\n",
       "      <td>NV</td>\n",
       "      <td>Las Vegas</td>\n",
       "      <td>89135</td>\n",
       "      <td>http://www.asiabroadbandinc.com</td>\n",
       "      <td>Micro Cap</td>\n",
       "    </tr>\n",
       "  </tbody>\n",
       "</table>\n",
       "</div>"
      ],
      "text/plain": [
       "  symbol                  short_name                   long_name  \\\n",
       "0      A  Agilent Technologies, Inc.  Agilent Technologies, Inc.   \n",
       "1     AA           Alcoa Corporation           Alcoa Corporation   \n",
       "2   AABB          ASIA BROADBAND INC        Asia Broadband, Inc.   \n",
       "\n",
       "                                             summary currency  \\\n",
       "0  Agilent Technologies, Inc. provides applicatio...      USD   \n",
       "1  Alcoa Corporation, together with its subsidiar...      USD   \n",
       "2  Asia Broadband Inc., through its subsidiary, A...      USD   \n",
       "\n",
       "            sector                          industry exchange     market  \\\n",
       "0       Healthcare            Diagnostics & Research      NYQ  us_market   \n",
       "1  Basic Materials                          Aluminum      NYQ  us_market   \n",
       "2  Basic Materials  Other Industrial Metals & Mining      PNK  us_market   \n",
       "\n",
       "         country state         city     zipcode  \\\n",
       "0  United States    CA  Santa Clara       95051   \n",
       "1  United States    PA   Pittsburgh  15212-5858   \n",
       "2  United States    NV    Las Vegas       89135   \n",
       "\n",
       "                           website market_cap  \n",
       "0           http://www.agilent.com  Large Cap  \n",
       "1             http://www.alcoa.com    Mid Cap  \n",
       "2  http://www.asiabroadbandinc.com  Micro Cap  "
      ]
     },
     "execution_count": 51,
     "metadata": {},
     "output_type": "execute_result"
    }
   ],
   "source": [
    "df_excel.head(3)"
   ]
  }
 ],
 "metadata": {
  "kernelspec": {
   "display_name": "Python 3 (ipykernel)",
   "language": "python",
   "name": "python3"
  },
  "language_info": {
   "codemirror_mode": {
    "name": "ipython",
    "version": 3
   },
   "file_extension": ".py",
   "mimetype": "text/x-python",
   "name": "python",
   "nbconvert_exporter": "python",
   "pygments_lexer": "ipython3",
   "version": "3.10.4"
  }
 },
 "nbformat": 4,
 "nbformat_minor": 5
}
