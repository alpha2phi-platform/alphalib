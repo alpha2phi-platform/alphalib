{
 "cells": [
  {
   "cell_type": "code",
   "execution_count": 1,
   "id": "357879b8-ffe5-47cf-854d-c3e8df73ef03",
   "metadata": {},
   "outputs": [],
   "source": [
    "from IPython.core.interactiveshell import InteractiveShell\n",
    "from IPython.display import display\n",
    "InteractiveShell.ast_node_interactivity = \"all\""
   ]
  },
  {
   "cell_type": "code",
   "execution_count": 2,
   "id": "8564ff9d-a106-4e9c-95c8-64dbe7489092",
   "metadata": {},
   "outputs": [],
   "source": [
    "%load_ext autoreload\n",
    "%autoreload 2"
   ]
  },
  {
   "cell_type": "code",
   "execution_count": 3,
   "id": "c76b3217-b43c-4fa7-9d6a-78303707ae14",
   "metadata": {},
   "outputs": [],
   "source": [
    "import pandas as pd"
   ]
  },
  {
   "cell_type": "code",
   "execution_count": 4,
   "id": "15dd0ed8-e265-4fea-8527-e4f40e0b5b27",
   "metadata": {},
   "outputs": [],
   "source": [
    "%matplotlib inline\n",
    "pd.set_option('display.max_rows', 500)\n",
    "pd.set_option('display.max_columns', 500)"
   ]
  },
  {
   "cell_type": "code",
   "execution_count": 5,
   "id": "ddb4c76a-46e0-40f4-b10c-9b068ce7b4fb",
   "metadata": {},
   "outputs": [],
   "source": [
    "COUNTRY = \"united states\"\n",
    "STOCK_INFO_FILE = \"data/alphalib_united_states.xlsx\"\n",
    "STOCK_DIVIDENDS_FILE = \"data/alphalib_dividends_united_states.xlsx\"\n",
    "SHEET_NAME_STOCK_INFO = \"stock_info\"\n",
    "SHEET_NAME_STOCK_FINANCIALS = \"stock_financials\"\n",
    "SHEET_NAME_STOCK_DIVIDENDS = \"stock_dividends\""
   ]
  },
  {
   "cell_type": "code",
   "execution_count": 6,
   "id": "cecf2f49-a60c-4f49-b854-cd77556015b1",
   "metadata": {},
   "outputs": [],
   "source": [
    "stock_info = pd.read_excel(STOCK_INFO_FILE, sheet_name=SHEET_NAME_STOCK_INFO, engine=\"openpyxl\")\n",
    "stock_financials = pd.read_excel(STOCK_INFO_FILE, sheet_name=SHEET_NAME_STOCK_FINANCIALS, engine=\"openpyxl\")\n",
    "stock_dividends = pd.read_excel(STOCK_DIVIDENDS_FILE, sheet_name=SHEET_NAME_STOCK_DIVIDENDS, engine=\"openpyxl\")"
   ]
  },
  {
   "cell_type": "markdown",
   "id": "496e1b1f-c3ad-42b7-ae12-1b37e7ab1cce",
   "metadata": {},
   "source": [
    "# EDA"
   ]
  },
  {
   "cell_type": "markdown",
   "id": "b2e7cee4-7cd0-48f2-a552-1ece30b4152f",
   "metadata": {
    "tags": []
   },
   "source": [
    "## Stock by Sectors"
   ]
  },
  {
   "cell_type": "code",
   "execution_count": 29,
   "id": "f0307eb8-b59d-4158-aa9d-64b4fd302648",
   "metadata": {},
   "outputs": [
    {
     "name": "stdout",
     "output_type": "stream",
     "text": [
      "Number of stocks 3786 - 3786\n"
     ]
    }
   ],
   "source": [
    "print(f\"Number of stocks {len(stock_info['symbol'].unique())} - {len(stock_info)}\")"
   ]
  },
  {
   "cell_type": "code",
   "execution_count": null,
   "id": "99682ccb-9fc0-4bae-9cd9-6488adfec955",
   "metadata": {},
   "outputs": [],
   "source": []
  },
  {
   "cell_type": "code",
   "execution_count": 17,
   "id": "e0f4a184-9093-4682-a314-e1c62a9d880c",
   "metadata": {},
   "outputs": [
    {
     "data": {
      "text/plain": [
       "sector\n",
       "Basic Materials           229\n",
       "Communication Services    207\n",
       "Consumer Cyclical         456\n",
       "Consumer Defensive        206\n",
       "Energy                    177\n",
       "Financial                   1\n",
       "Financial Services        700\n",
       "Healthcare                470\n",
       "Industrials               538\n",
       "Real Estate               196\n",
       "Technology                498\n",
       "Utilities                  99\n",
       "Name: symbol, dtype: int64"
      ]
     },
     "execution_count": 17,
     "metadata": {},
     "output_type": "execute_result"
    }
   ],
   "source": [
    "stock_info.groupby(by=[\"sector\"], axis=0)[\"symbol\"].count()"
   ]
  },
  {
   "cell_type": "code",
   "execution_count": null,
   "id": "b84829a3-c9d0-4b98-91c3-ea9da6d6732f",
   "metadata": {},
   "outputs": [],
   "source": []
  },
  {
   "cell_type": "code",
   "execution_count": null,
   "id": "7bce982a-4837-422e-ba4e-0455141c86fe",
   "metadata": {},
   "outputs": [],
   "source": []
  },
  {
   "cell_type": "code",
   "execution_count": null,
   "id": "c358ede6-2d4b-41d8-9136-5fea1f6bc4f8",
   "metadata": {},
   "outputs": [],
   "source": []
  }
 ],
 "metadata": {
  "kernelspec": {
   "display_name": "Python 3 (ipykernel)",
   "language": "python",
   "name": "python3"
  },
  "language_info": {
   "codemirror_mode": {
    "name": "ipython",
    "version": 3
   },
   "file_extension": ".py",
   "mimetype": "text/x-python",
   "name": "python",
   "nbconvert_exporter": "python",
   "pygments_lexer": "ipython3",
   "version": "3.10.4"
  }
 },
 "nbformat": 4,
 "nbformat_minor": 5
}
