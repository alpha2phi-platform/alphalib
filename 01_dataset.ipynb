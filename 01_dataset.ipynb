{
 "cells": [
  {
   "cell_type": "code",
   "execution_count": 1,
   "id": "357879b8-ffe5-47cf-854d-c3e8df73ef03",
   "metadata": {},
   "outputs": [],
   "source": [
    "from IPython.core.interactiveshell import InteractiveShell\n",
    "from IPython.display import display\n",
    "InteractiveShell.ast_node_interactivity = \"all\""
   ]
  },
  {
   "cell_type": "code",
   "execution_count": 2,
   "id": "8564ff9d-a106-4e9c-95c8-64dbe7489092",
   "metadata": {},
   "outputs": [],
   "source": [
    "%load_ext autoreload\n",
    "%autoreload 2"
   ]
  },
  {
   "cell_type": "code",
   "execution_count": 3,
   "id": "c76b3217-b43c-4fa7-9d6a-78303707ae14",
   "metadata": {},
   "outputs": [],
   "source": [
    "import pandas as pd"
   ]
  },
  {
   "cell_type": "code",
   "execution_count": 4,
   "id": "15dd0ed8-e265-4fea-8527-e4f40e0b5b27",
   "metadata": {},
   "outputs": [],
   "source": [
    "%matplotlib inline\n",
    "pd.set_option('display.max_rows', 500)\n",
    "pd.set_option('display.max_columns', 500)"
   ]
  },
  {
   "cell_type": "code",
   "execution_count": 5,
   "id": "ddb4c76a-46e0-40f4-b10c-9b068ce7b4fb",
   "metadata": {},
   "outputs": [],
   "source": [
    "COUNTRY = \"united states\"\n",
    "STOCK_INFO_FILE = \"data/alphalib_united_states.xlsx\"\n",
    "STOCK_DIVIDENDS_FILE = \"data/alphalib_dividends_united_states.xlsx\"\n",
    "SHEET_NAME_STOCK_INFO = \"stock_info\"\n",
    "SHEET_NAME_STOCK_FINANCIALS = \"stock_financials\"\n",
    "SHEET_NAME_STOCK_DIVIDENDS = \"stock_dividends\""
   ]
  },
  {
   "cell_type": "code",
   "execution_count": 6,
   "id": "cecf2f49-a60c-4f49-b854-cd77556015b1",
   "metadata": {},
   "outputs": [],
   "source": [
    "stock_info = pd.read_excel(STOCK_INFO_FILE, sheet_name=SHEET_NAME_STOCK_INFO, engine=\"openpyxl\")\n",
    "stock_financials = pd.read_excel(STOCK_INFO_FILE, sheet_name=SHEET_NAME_STOCK_FINANCIALS, engine=\"openpyxl\")\n",
    "stock_dividends = pd.read_excel(STOCK_DIVIDENDS_FILE, sheet_name=SHEET_NAME_STOCK_DIVIDENDS, engine=\"openpyxl\")"
   ]
  },
  {
   "cell_type": "markdown",
   "id": "496e1b1f-c3ad-42b7-ae12-1b37e7ab1cce",
   "metadata": {},
   "source": [
    "# EDA"
   ]
  },
  {
   "cell_type": "markdown",
   "id": "b2e7cee4-7cd0-48f2-a552-1ece30b4152f",
   "metadata": {
    "tags": []
   },
   "source": [
    "## Stock by Sectors"
   ]
  },
  {
   "cell_type": "code",
   "execution_count": 29,
   "id": "f0307eb8-b59d-4158-aa9d-64b4fd302648",
   "metadata": {},
   "outputs": [
    {
     "name": "stdout",
     "output_type": "stream",
     "text": [
      "Number of stocks 3786 - 3786\n"
     ]
    }
   ],
   "source": [
    "print(f\"Number of stocks {len(stock_info['symbol'].unique())} - {len(stock_info)}\")"
   ]
  },
  {
   "cell_type": "code",
   "execution_count": 17,
   "id": "e0f4a184-9093-4682-a314-e1c62a9d880c",
   "metadata": {},
   "outputs": [
    {
     "data": {
      "text/plain": [
       "sector\n",
       "Basic Materials           229\n",
       "Communication Services    207\n",
       "Consumer Cyclical         456\n",
       "Consumer Defensive        206\n",
       "Energy                    177\n",
       "Financial                   1\n",
       "Financial Services        700\n",
       "Healthcare                470\n",
       "Industrials               538\n",
       "Real Estate               196\n",
       "Technology                498\n",
       "Utilities                  99\n",
       "Name: symbol, dtype: int64"
      ]
     },
     "execution_count": 17,
     "metadata": {},
     "output_type": "execute_result"
    }
   ],
   "source": [
    "stock_info.groupby(by=[\"sector\"], axis=0)[\"symbol\"].count()"
   ]
  },
  {
   "cell_type": "code",
   "execution_count": 33,
   "id": "b84829a3-c9d0-4b98-91c3-ea9da6d6732f",
   "metadata": {},
   "outputs": [],
   "source": [
    "#stock_info[stock_info[\"sector\"] == \"Financial\"].T"
   ]
  },
  {
   "cell_type": "markdown",
   "id": "c905c95b-c3ff-4886-bd16-8546fedeff80",
   "metadata": {},
   "source": [
    "## Check Trailing PE"
   ]
  },
  {
   "cell_type": "code",
   "execution_count": 38,
   "id": "c358ede6-2d4b-41d8-9136-5fea1f6bc4f8",
   "metadata": {},
   "outputs": [
    {
     "data": {
      "text/html": [
       "<div>\n",
       "<style scoped>\n",
       "    .dataframe tbody tr th:only-of-type {\n",
       "        vertical-align: middle;\n",
       "    }\n",
       "\n",
       "    .dataframe tbody tr th {\n",
       "        vertical-align: top;\n",
       "    }\n",
       "\n",
       "    .dataframe thead th {\n",
       "        text-align: right;\n",
       "    }\n",
       "</style>\n",
       "<table border=\"1\" class=\"dataframe\">\n",
       "  <thead>\n",
       "    <tr style=\"text-align: right;\">\n",
       "      <th></th>\n",
       "      <th>symbol</th>\n",
       "      <th>shortName</th>\n",
       "      <th>trailingPE</th>\n",
       "    </tr>\n",
       "  </thead>\n",
       "  <tbody>\n",
       "    <tr>\n",
       "      <th>1635</th>\n",
       "      <td>SFL</td>\n",
       "      <td>SFL Corporation Ltd</td>\n",
       "      <td>7.757142</td>\n",
       "    </tr>\n",
       "    <tr>\n",
       "      <th>1636</th>\n",
       "      <td>SHG</td>\n",
       "      <td>Shinhan Financial Group Co Ltd</td>\n",
       "      <td>4.407917</td>\n",
       "    </tr>\n",
       "    <tr>\n",
       "      <th>1643</th>\n",
       "      <td>LFC</td>\n",
       "      <td>China Life Insurance Company Li</td>\n",
       "      <td>4.183977</td>\n",
       "    </tr>\n",
       "    <tr>\n",
       "      <th>1647</th>\n",
       "      <td>NLY</td>\n",
       "      <td>Annaly Capital Management Inc</td>\n",
       "      <td>2.055412</td>\n",
       "    </tr>\n",
       "    <tr>\n",
       "      <th>1648</th>\n",
       "      <td>NX</td>\n",
       "      <td>Quanex Building Products Corpor</td>\n",
       "      <td>9.856482</td>\n",
       "    </tr>\n",
       "    <tr>\n",
       "      <th>1654</th>\n",
       "      <td>MX</td>\n",
       "      <td>Magnachip Semiconductor Corpora</td>\n",
       "      <td>1.560801</td>\n",
       "    </tr>\n",
       "    <tr>\n",
       "      <th>1665</th>\n",
       "      <td>FMS</td>\n",
       "      <td>Fresenius Medical Care AG</td>\n",
       "      <td>7.042312</td>\n",
       "    </tr>\n",
       "    <tr>\n",
       "      <th>1672</th>\n",
       "      <td>NAT</td>\n",
       "      <td>Nordic American Tankers Limited</td>\n",
       "      <td>7.761194</td>\n",
       "    </tr>\n",
       "    <tr>\n",
       "      <th>1694</th>\n",
       "      <td>BLX</td>\n",
       "      <td>Banco Latinoamericano de Comerc</td>\n",
       "      <td>9.131249</td>\n",
       "    </tr>\n",
       "    <tr>\n",
       "      <th>1701</th>\n",
       "      <td>EBS</td>\n",
       "      <td>Emergent Biosolutions, Inc.</td>\n",
       "      <td>3.233558</td>\n",
       "    </tr>\n",
       "  </tbody>\n",
       "</table>\n",
       "</div>"
      ],
      "text/plain": [
       "     symbol                        shortName  trailingPE\n",
       "1635    SFL              SFL Corporation Ltd    7.757142\n",
       "1636    SHG   Shinhan Financial Group Co Ltd    4.407917\n",
       "1643    LFC  China Life Insurance Company Li    4.183977\n",
       "1647    NLY    Annaly Capital Management Inc    2.055412\n",
       "1648     NX  Quanex Building Products Corpor    9.856482\n",
       "1654     MX  Magnachip Semiconductor Corpora    1.560801\n",
       "1665    FMS        Fresenius Medical Care AG    7.042312\n",
       "1672    NAT  Nordic American Tankers Limited    7.761194\n",
       "1694    BLX  Banco Latinoamericano de Comerc    9.131249\n",
       "1701    EBS      Emergent Biosolutions, Inc.    3.233558"
      ]
     },
     "execution_count": 38,
     "metadata": {},
     "output_type": "execute_result"
    }
   ],
   "source": [
    "stock_info[[\"symbol\", \"shortName\", \"trailingPE\"]][stock_info[\"trailingPE\"] < 10].head(10)"
   ]
  }
 ],
 "metadata": {
  "kernelspec": {
   "display_name": "Python 3 (ipykernel)",
   "language": "python",
   "name": "python3"
  },
  "language_info": {
   "codemirror_mode": {
    "name": "ipython",
    "version": 3
   },
   "file_extension": ".py",
   "mimetype": "text/x-python",
   "name": "python",
   "nbconvert_exporter": "python",
   "pygments_lexer": "ipython3",
   "version": "3.10.4"
  }
 },
 "nbformat": 4,
 "nbformat_minor": 5
}
