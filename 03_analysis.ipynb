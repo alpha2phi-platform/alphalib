{
 "cells": [
  {
   "cell_type": "code",
   "execution_count": 5,
   "id": "88f1babb-b63c-44d2-960e-63ae3dc5ad34",
   "metadata": {},
   "outputs": [],
   "source": [
    "from IPython.core.interactiveshell import InteractiveShell\n",
    "from IPython.display import display\n",
    "InteractiveShell.ast_node_interactivity = \"all\""
   ]
  },
  {
   "cell_type": "code",
   "execution_count": 2,
   "id": "5304c576-c888-48da-8f17-4d798ef95e94",
   "metadata": {},
   "outputs": [],
   "source": [
    "%load_ext autoreload\n",
    "%autoreload 2"
   ]
  },
  {
   "cell_type": "code",
   "execution_count": 17,
   "id": "e9572171-1399-40c1-a80d-ccefb550ef54",
   "metadata": {},
   "outputs": [],
   "source": [
    "import pandas as pd\n",
    "import numpy as np\n",
    "import yfinance as yf\n",
    "import investpy\n",
    "import time\n",
    "from datetime import datetime, timezone"
   ]
  },
  {
   "cell_type": "code",
   "execution_count": 18,
   "id": "249f31d7-4422-4195-9505-d94e343a5ecc",
   "metadata": {},
   "outputs": [],
   "source": [
    "%matplotlib inline\n",
    "pd.set_option('display.max_rows', 500)\n",
    "pd.set_option('display.max_columns', 500)\n",
    "pd.set_option('display.max_seq_items', 500)"
   ]
  },
  {
   "cell_type": "markdown",
   "id": "8821acdd-d7d7-48f3-ae09-2be1c04a9c3a",
   "metadata": {},
   "source": [
    "# High Dividend Yield Stocks"
   ]
  },
  {
   "cell_type": "code",
   "execution_count": 120,
   "id": "a40ef1e7-d657-44c4-a0aa-68ebf7803532",
   "metadata": {},
   "outputs": [],
   "source": [
    "# https://finance.yahoo.com/u/yahoo-finance/watchlists/high-yield-dividend-stocks/\n",
    "symbols = [\"PBR-A\", \"PBR\", \"SNPTY\", \"BNPQY\", \"NRDBY\", \"AMKBY\", \"ISNPY\", \"EC\", \"IEP\", \"NLY\", \"AGNC\", \"BAK\", \"ELP\", \"ZIM\", \"CCU\", \"SBLK\", \"CLM\", \"GOGL\", \"RC\", \"CIM\", \"ARI\", \"OXLC\", \"MFA\", \"CRF\", \"BRMK\", \"EGLE\", \"LPG\", \"IVR\", \"ORC\", \"BPT\"]\n",
    "\n",
    "from dataclasses import dataclass\n",
    "\n",
    "@dataclass\n",
    "class DividendStock:\n",
    "    symbol: str = \"\"\n",
    "    name: str = \"\"\n",
    "    sector: str = \"\"\n",
    "    exchange: str = \"\"\n",
    "    earningsDate: datetime = datetime.min\n",
    "    exDividendDate: datetime = datetime.min\n",
    "    dividendDate: datetime = datetime.min\n",
    "    dividendHistory: pd.DataFrame = pd.DataFrame()"
   ]
  },
  {
   "cell_type": "code",
   "execution_count": 150,
   "id": "00e95d90-d276-4b22-9894-f62ee74fe261",
   "metadata": {},
   "outputs": [
    {
     "name": "stdout",
     "output_type": "stream",
     "text": [
      "Checking PBR-A\n",
      "Unable to get dividend history ERR#0018: stock pbr-a not found, check if it is correct.\n",
      "Checking PBR\n",
      "Checking SNPTY\n",
      "Unable to get dividend history ERR#0018: stock snpty not found, check if it is correct.\n",
      "Checking BNPQY\n",
      "Checking NRDBY\n",
      "Checking AMKBY\n",
      "Checking ISNPY\n",
      "Checking EC\n",
      "Checking IEP\n",
      "Checking NLY\n",
      "Checking AGNC\n",
      "Checking BAK\n",
      "Unable to get dividend history ERR#0018: stock bak not found, check if it is correct.\n",
      "Checking ELP\n",
      "Unable to get dividend history ERR#0018: stock elp not found, check if it is correct.\n",
      "Checking ZIM\n",
      "Unable to get dividend history ERR#0018: stock zim not found, check if it is correct.\n",
      "Checking CCU\n",
      "Checking SBLK\n",
      "Checking CLM\n",
      "Unable to get dividend history ERR#0061: introduced stock has no dividend's data to display.\n",
      "Checking GOGL\n",
      "Checking RC\n",
      "Unable to get dividend history ERR#0018: stock rc not found, check if it is correct.\n",
      "Checking CIM\n",
      "Checking ARI\n",
      "Checking OXLC\n",
      "Unable to get dividend history ERR#0018: stock oxlc not found, check if it is correct.\n",
      "Checking MFA\n",
      "Checking CRF\n",
      "Unable to get dividend history ERR#0061: introduced stock has no dividend's data to display.\n",
      "Checking BRMK\n",
      "Unable to get dividend history ERR#0018: stock brmk not found, check if it is correct.\n",
      "Checking EGLE\n",
      "Checking LPG\n",
      "Unable to get dividend history ERR#0018: stock lpg not found, check if it is correct.\n",
      "Checking IVR\n",
      "Checking ORC\n",
      "Unable to get dividend history ERR#0018: stock orc not found, check if it is correct.\n",
      "Checking BPT\n",
      "Unable to get dividend history ERR#0018: stock bpt not found, check if it is correct.\n"
     ]
    }
   ],
   "source": [
    "dividend_stocks = []\n",
    "for symbol in symbols:\n",
    "    print(f\"Checking {symbol}\")\n",
    "    \n",
    "    stock = DividendStock()\n",
    "    \n",
    "    ticker = yf.Ticker(symbol)\n",
    "    \n",
    "    stock_info = ticker.info\n",
    "    stock.symbol = symbol\n",
    "    stock.name = stock_info[\"shortName\"]\n",
    "    stock.sector = stock_info[\"sector\"]\n",
    "    stock.exchange = stock_info[\"exchange\"]\n",
    "   \n",
    "    ticker = yf.Ticker(symbol)\n",
    "    stock_stats = ticker.stats()\n",
    "    calendar_events = stock_stats[\"calendarEvents\"]\n",
    "    if len(calendar_events[\"earnings\"][\"earningsDate\"]) > 0:\n",
    "        stock.earningsDate = datetime.fromtimestamp(calendar_events[\"earnings\"][\"earningsDate\"][0])\n",
    "   \n",
    "    if calendar_events[\"exDividendDate\"] is not None:\n",
    "        stock.exDividendDate = datetime.fromtimestamp(calendar_events[\"exDividendDate\"])\n",
    "    \n",
    "    if calendar_events[\"dividendDate\"] is not None:\n",
    "        stock.dividendDate = datetime.fromtimestamp(calendar_events[\"dividendDate\"])\n",
    "    \n",
    "    try:\n",
    "        stock.dividendHistory = investpy.get_stock_dividends(symbol, \"united states\")\n",
    "    except Exception as e:\n",
    "        print(\"Unable to get dividend history\", e)\n",
    "   \n",
    "    dividend_stocks.append(stock)\n",
    "    time.sleep(2)"
   ]
  },
  {
   "cell_type": "code",
   "execution_count": 159,
   "id": "149e4ad1-3a4e-4ef8-ac73-e4f3c8fcb510",
   "metadata": {},
   "outputs": [
    {
     "name": "stdout",
     "output_type": "stream",
     "text": [
      "Icahn Enterprises L.P. - Deposi - IEP - 2022-10-31 20:30:00\n",
      "Annaly Capital Management Inc. - NLY - 2022-10-25 18:59:00\n",
      "AGNC Investment Corp. - AGNC - 2022-10-24 18:59:00\n",
      "Apollo Commercial Real Estate F - ARI - 2022-10-24 08:00:00\n",
      "Oxford Lane Capital Corp. - OXLC - 2022-10-27 08:00:00\n",
      "Orchid Island Capital, Inc. - ORC - 2022-10-26 08:00:00\n"
     ]
    }
   ],
   "source": [
    "for stock in dividend_stocks:\n",
    "    if stock.earningsDate.year == 2022 and stock.earningsDate.month == 10:\n",
    "        print(f\"{stock.name} - {stock.symbol} - {stock.earningsDate}\")\n",
    "        #print(stock.dividendHistory.head(10))"
   ]
  },
  {
   "cell_type": "code",
   "execution_count": null,
   "id": "393cc578-46c5-478c-a9bc-004aa2482c46",
   "metadata": {},
   "outputs": [],
   "source": []
  },
  {
   "cell_type": "code",
   "execution_count": null,
   "id": "cb1c77ad-7ad9-49fb-9814-06ab556eeede",
   "metadata": {},
   "outputs": [],
   "source": []
  },
  {
   "cell_type": "code",
   "execution_count": null,
   "id": "b505044b-1dd7-44ef-bc89-347968066529",
   "metadata": {},
   "outputs": [],
   "source": []
  },
  {
   "cell_type": "code",
   "execution_count": null,
   "id": "82017040-0471-46fa-b4c5-9f73715a2d3a",
   "metadata": {},
   "outputs": [],
   "source": []
  },
  {
   "cell_type": "code",
   "execution_count": 145,
   "id": "050555dd-b574-4655-98cf-6fe21f7db748",
   "metadata": {},
   "outputs": [
    {
     "data": {
      "text/plain": [
       "{'zip': 'HM 08',\n",
       " 'sector': 'Industrials',\n",
       " 'fullTimeEmployees': 37,\n",
       " 'longBusinessSummary': 'Golden Ocean Group Limited, a shipping company, owns and operates a fleet of dry bulk vessels comprising Newcastlemax, Capesize, Panamax, and Ultramax vessels worldwide. It owns and operates dry bulk vessels in the spot and time charter markets. The company transports bulk commodities, such as ores, coal, grains, and fertilizers. As of March 23, 2022, it owned a fleet of 81 dry bulk vessels. Golden Ocean Group Limited is based in Hamilton, Bermuda.',\n",
       " 'city': 'Hamilton',\n",
       " 'country': 'Bermuda',\n",
       " 'companyOfficers': [],\n",
       " 'website': 'https://www.goldenocean.bm',\n",
       " 'maxAge': 1,\n",
       " 'address1': 'Par-la-Ville Place',\n",
       " 'fax': '441 295 3494',\n",
       " 'industry': 'Marine Shipping',\n",
       " 'address2': '14 Par-la-Ville Road PO Box HM 1593',\n",
       " 'ebitdaMargins': 0.56925,\n",
       " 'profitMargins': 0.51157004,\n",
       " 'grossMargins': 0.58353,\n",
       " 'operatingCashflow': 698740992,\n",
       " 'revenueGrowth': 0.137,\n",
       " 'operatingMargins': 0.47079,\n",
       " 'ebitda': 765814976,\n",
       " 'targetLowPrice': 144.91,\n",
       " 'recommendationKey': 'strong_buy',\n",
       " 'grossProfits': 649855000,\n",
       " 'freeCashflow': 446609632,\n",
       " 'targetMedianPrice': 145.88,\n",
       " 'currentPrice': 7.7,\n",
       " 'earningsGrowth': 0.558,\n",
       " 'currentRatio': 1.542,\n",
       " 'returnOnAssets': 0.115229994,\n",
       " 'numberOfAnalystOpinions': 3,\n",
       " 'targetMeanPrice': 151.24,\n",
       " 'debtToEquity': 69.431,\n",
       " 'returnOnEquity': 0.36823002,\n",
       " 'targetHighPrice': 163.03,\n",
       " 'totalCash': 163980992,\n",
       " 'totalDebt': 1345654016,\n",
       " 'totalRevenue': 1345294976,\n",
       " 'totalCashPerShare': 0.816,\n",
       " 'financialCurrency': 'USD',\n",
       " 'revenuePerShare': 6.688,\n",
       " 'quickRatio': 0.712,\n",
       " 'recommendationMean': 1,\n",
       " 'exchange': 'NMS',\n",
       " 'shortName': 'Golden Ocean Group Limited',\n",
       " 'longName': 'Golden Ocean Group Limited',\n",
       " 'exchangeTimezoneName': 'America/New_York',\n",
       " 'exchangeTimezoneShortName': 'EDT',\n",
       " 'isEsgPopulated': False,\n",
       " 'gmtOffSetMilliseconds': '-14400000',\n",
       " 'quoteType': 'EQUITY',\n",
       " 'symbol': 'GOGL',\n",
       " 'messageBoardId': 'finmb_262789605',\n",
       " 'market': 'us_market',\n",
       " 'annualHoldingsTurnover': None,\n",
       " 'enterpriseToRevenue': 1.994,\n",
       " 'beta3Year': None,\n",
       " 'enterpriseToEbitda': 3.503,\n",
       " '52WeekChange': -0.28653294,\n",
       " 'morningStarRiskRating': None,\n",
       " 'forwardEps': 20.26,\n",
       " 'revenueQuarterlyGrowth': None,\n",
       " 'sharesOutstanding': 200886000,\n",
       " 'fundInceptionDate': None,\n",
       " 'annualReportExpenseRatio': None,\n",
       " 'totalAssets': None,\n",
       " 'bookValue': 9.648,\n",
       " 'sharesShort': 7483685,\n",
       " 'sharesPercentSharesOut': 0.0373,\n",
       " 'fundFamily': None,\n",
       " 'lastFiscalYearEnd': 1640908800,\n",
       " 'heldPercentInstitutions': 0.33463,\n",
       " 'netIncomeToCommon': 688216000,\n",
       " 'trailingEps': 3.47,\n",
       " 'lastDividendValue': 0.6,\n",
       " 'SandP52WeekChange': -0.16622406,\n",
       " 'priceToBook': 0.79809284,\n",
       " 'heldPercentInsiders': 0.39161998,\n",
       " 'nextFiscalYearEnd': 1703980800,\n",
       " 'yield': None,\n",
       " 'mostRecentQuarter': 1656547200,\n",
       " 'shortRatio': 1.87,\n",
       " 'sharesShortPreviousMonthDate': 1660521600,\n",
       " 'floatShares': 122214794,\n",
       " 'beta': 1.294846,\n",
       " 'enterpriseValue': 2682288640,\n",
       " 'priceHint': 2,\n",
       " 'threeYearAverageReturn': None,\n",
       " 'lastSplitDate': 1470009600,\n",
       " 'lastSplitFactor': '1:5',\n",
       " 'legalType': None,\n",
       " 'lastDividendDate': 1662422400,\n",
       " 'morningStarOverallRating': None,\n",
       " 'earningsQuarterlyGrowth': 0.567,\n",
       " 'priceToSalesTrailing12Months': 1.1765252,\n",
       " 'dateShortInterest': 1663200000,\n",
       " 'pegRatio': None,\n",
       " 'ytdReturn': None,\n",
       " 'forwardPE': 0.3800592,\n",
       " 'lastCapGain': None,\n",
       " 'shortPercentOfFloat': 0.0612,\n",
       " 'sharesShortPriorMonth': 8781859,\n",
       " 'impliedSharesOutstanding': 0,\n",
       " 'category': None,\n",
       " 'fiveYearAverageReturn': None,\n",
       " 'previousClose': 7.47,\n",
       " 'regularMarketOpen': 7.69,\n",
       " 'twoHundredDayAverage': 11.24205,\n",
       " 'trailingAnnualDividendYield': 0.3815261,\n",
       " 'payoutRatio': 0.7925,\n",
       " 'volume24Hr': None,\n",
       " 'regularMarketDayHigh': 7.74,\n",
       " 'navPrice': None,\n",
       " 'averageDailyVolume10Day': 3220190,\n",
       " 'regularMarketPreviousClose': 7.47,\n",
       " 'fiftyDayAverage': 9.8826,\n",
       " 'trailingAnnualDividendRate': 2.85,\n",
       " 'open': 7.69,\n",
       " 'toCurrency': None,\n",
       " 'averageVolume10days': 3220190,\n",
       " 'expireDate': None,\n",
       " 'algorithm': None,\n",
       " 'dividendRate': 2.4,\n",
       " 'exDividendDate': 1662422400,\n",
       " 'circulatingSupply': None,\n",
       " 'startDate': None,\n",
       " 'regularMarketDayLow': 7.63,\n",
       " 'currency': 'USD',\n",
       " 'trailingPE': 2.2190201,\n",
       " 'regularMarketVolume': 212653,\n",
       " 'lastMarket': None,\n",
       " 'maxSupply': None,\n",
       " 'openInterest': None,\n",
       " 'marketCap': 1582773504,\n",
       " 'volumeAllCurrencies': None,\n",
       " 'strikePrice': None,\n",
       " 'averageVolume': 3245263,\n",
       " 'dayLow': 7.63,\n",
       " 'ask': 7.65,\n",
       " 'askSize': 2900,\n",
       " 'volume': 212653,\n",
       " 'fiftyTwoWeekHigh': 16.46,\n",
       " 'fromCurrency': None,\n",
       " 'fiveYearAvgDividendYield': None,\n",
       " 'fiftyTwoWeekLow': 7.24,\n",
       " 'bid': 7.69,\n",
       " 'tradeable': False,\n",
       " 'dividendYield': 0.32560003,\n",
       " 'bidSize': 2900,\n",
       " 'dayHigh': 7.74,\n",
       " 'coinMarketCapLink': None,\n",
       " 'regularMarketPrice': 7.7,\n",
       " 'preMarketPrice': 7.69,\n",
       " 'logo_url': 'https://logo.clearbit.com/goldenocean.bm'}"
      ]
     },
     "execution_count": 145,
     "metadata": {},
     "output_type": "execute_result"
    }
   ],
   "source": [
    "ticker = yf.Ticker(\"GOGL\")\n",
    "ticker.info"
   ]
  },
  {
   "cell_type": "code",
   "execution_count": 140,
   "id": "f3ada344-86e9-4bd4-984c-682483ef63ba",
   "metadata": {},
   "outputs": [],
   "source": [
    "stock_stats = ticker.stats()"
   ]
  },
  {
   "cell_type": "code",
   "execution_count": 141,
   "id": "e0e24427-65b4-4d3c-ad92-c8c04c1af3c6",
   "metadata": {},
   "outputs": [
    {
     "name": "stdout",
     "output_type": "stream",
     "text": [
      "{'maxAge': 86400, 'earningsChart': {'quarterly': [{'date': '3Q2021', 'actual': 0.51, 'estimate': 0.68}, {'date': '4Q2021', 'actual': 0.65, 'estimate': 0.84}, {'date': '1Q2022', 'actual': 1.27, 'estimate': 0.89}, {'date': '2Q2022', 'actual': 1.17, 'estimate': 1.17}], 'currentQuarterEstimate': 1.33, 'currentQuarterEstimateDate': '3Q', 'currentQuarterEstimateYear': 2022, 'earningsDate': []}, 'financialsChart': {'yearly': [{'date': 2018, 'revenue': 310255000000, 'earnings': 25779000000}, {'date': 2019, 'revenue': 263827000000, 'earnings': 40137000000}, {'date': 2020, 'revenue': 272069000000, 'earnings': 7108000000}, {'date': 2021, 'revenue': 452668000000, 'earnings': 106668000000}], 'quarterly': [{'date': '3Q2021', 'revenue': 106020000000, 'earnings': 31142000000}, {'date': '4Q2021', 'revenue': 176587000000, 'earnings': 31504000000}, {'date': '1Q2022', 'revenue': 141641000000, 'earnings': 44561000000}, {'date': '2Q2022', 'revenue': 170960000000, 'earnings': 54330000000}]}, 'financialCurrency': 'BRL'}\n"
     ]
    }
   ],
   "source": [
    "earnings = stock_stats[\"earnings\"]\n",
    "print(earnings)"
   ]
  },
  {
   "cell_type": "code",
   "execution_count": 142,
   "id": "af545e33-9d09-4af2-a206-e3ce12afb4e6",
   "metadata": {},
   "outputs": [],
   "source": [
    "if len(earnings[\"earningsChart\"][\"earningsDate\"]) > 0:\n",
    "    print(datetime.fromtimestamp(earnings[\"earningsChart\"][\"earningsDate\"][0]))\n",
    "    "
   ]
  },
  {
   "cell_type": "code",
   "execution_count": 127,
   "id": "259a7c7e-6df3-4cf2-a1d5-61736448cca3",
   "metadata": {},
   "outputs": [
    {
     "data": {
      "text/plain": [
       "{'maxAge': 1,\n",
       " 'earnings': {'earningsDate': [1669805940],\n",
       "  'earningsAverage': 4.72,\n",
       "  'earningsLow': 4.72,\n",
       "  'earningsHigh': 4.72,\n",
       "  'revenueAverage': 2079380000,\n",
       "  'revenueLow': 2079380000,\n",
       "  'revenueHigh': 2079380000},\n",
       " 'exDividendDate': 1662422400,\n",
       " 'dividendDate': 1663113600}"
      ]
     },
     "execution_count": 127,
     "metadata": {},
     "output_type": "execute_result"
    }
   ],
   "source": [
    "calendar_events = stock_stats[\"calendarEvents\"]\n",
    "calendar_events"
   ]
  },
  {
   "cell_type": "code",
   "execution_count": 128,
   "id": "21f858d8-1479-4ba1-8565-1ed9e6f3985b",
   "metadata": {},
   "outputs": [
    {
     "name": "stdout",
     "output_type": "stream",
     "text": [
      "2022-11-30 18:59:00\n",
      "2022-09-06 08:00:00\n",
      "2022-09-14 08:00:00\n"
     ]
    }
   ],
   "source": [
    "if len(calendar_events[\"earnings\"][\"earningsDate\"]) > 0:\n",
    "    print(datetime.fromtimestamp(calendar_events[\"earnings\"][\"earningsDate\"][0]))\n",
    "    \n",
    "print(datetime.fromtimestamp(calendar_events[\"exDividendDate\"]))\n",
    "print(datetime.fromtimestamp(calendar_events[\"dividendDate\"]))"
   ]
  },
  {
   "cell_type": "code",
   "execution_count": null,
   "id": "14ea4190-df1f-4b6c-b6a0-d550968acc86",
   "metadata": {},
   "outputs": [],
   "source": []
  },
  {
   "cell_type": "code",
   "execution_count": null,
   "id": "45a4326b-d8f4-4946-8ac0-63d168c1a2ff",
   "metadata": {},
   "outputs": [],
   "source": []
  },
  {
   "cell_type": "code",
   "execution_count": 148,
   "id": "99528d17-2a35-4c1a-bb4e-695db6380f30",
   "metadata": {},
   "outputs": [
    {
     "name": "stdout",
     "output_type": "stream",
     "text": [
      "        Date  Dividend  Type Payment Date Yield\n",
      "0 2022-08-12  0.139929  None          NaT  None\n",
      "1 2022-08-12  1.127649  None          NaT  None\n",
      "2 2022-05-24  0.548778  None          NaT  None\n",
      "3 2022-05-24  0.680037  None          NaT  None\n",
      "4 2022-05-24  0.141330  None          NaT  None\n",
      "5 2022-04-14  1.161690  None          NaT  None\n",
      "6 2021-12-02  0.789380  None          NaT  None\n",
      "7 2021-08-17  0.607904  None          NaT  None\n"
     ]
    }
   ],
   "source": [
    "df_dividend = investpy.get_stock_dividends(\"PBR\", \"united states\")\n",
    "print(df_dividend.head(8))"
   ]
  },
  {
   "cell_type": "code",
   "execution_count": null,
   "id": "9150def1-8d69-46a8-bb86-186b13f2376e",
   "metadata": {},
   "outputs": [],
   "source": []
  },
  {
   "cell_type": "code",
   "execution_count": null,
   "id": "3e65243a-c85b-4e6e-9e64-7236846d7afb",
   "metadata": {},
   "outputs": [],
   "source": []
  },
  {
   "cell_type": "code",
   "execution_count": null,
   "id": "67d0adfe-d52c-40f2-bd0d-6cb587ac8ea1",
   "metadata": {},
   "outputs": [],
   "source": []
  },
  {
   "cell_type": "markdown",
   "id": "afbcd180-731f-4a63-b75f-23b245a9a083",
   "metadata": {},
   "source": [
    "Stocks to track\n",
    "- PBR-A\n",
    "- PBR\n",
    "- GOGL"
   ]
  },
  {
   "cell_type": "code",
   "execution_count": null,
   "id": "182502a7-7d66-4801-acbd-3abe83b9b230",
   "metadata": {},
   "outputs": [],
   "source": []
  }
 ],
 "metadata": {
  "kernelspec": {
   "display_name": "Python 3 (ipykernel)",
   "language": "python",
   "name": "python3"
  },
  "language_info": {
   "codemirror_mode": {
    "name": "ipython",
    "version": 3
   },
   "file_extension": ".py",
   "mimetype": "text/x-python",
   "name": "python",
   "nbconvert_exporter": "python",
   "pygments_lexer": "ipython3",
   "version": "3.10.4"
  }
 },
 "nbformat": 4,
 "nbformat_minor": 5
}
