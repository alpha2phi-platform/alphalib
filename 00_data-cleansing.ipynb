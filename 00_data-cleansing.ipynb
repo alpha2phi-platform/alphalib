{
 "cells": [
  {
   "cell_type": "code",
   "execution_count": 1,
   "id": "357879b8-ffe5-47cf-854d-c3e8df73ef03",
   "metadata": {},
   "outputs": [],
   "source": [
    "from IPython.core.interactiveshell import InteractiveShell\n",
    "from IPython.display import display\n",
    "InteractiveShell.ast_node_interactivity = \"all\""
   ]
  },
  {
   "cell_type": "code",
   "execution_count": 2,
   "id": "8564ff9d-a106-4e9c-95c8-64dbe7489092",
   "metadata": {},
   "outputs": [],
   "source": [
    "%load_ext autoreload\n",
    "%autoreload 2"
   ]
  },
  {
   "cell_type": "code",
   "execution_count": 3,
   "id": "c76b3217-b43c-4fa7-9d6a-78303707ae14",
   "metadata": {},
   "outputs": [],
   "source": [
    "import pandas as pd"
   ]
  },
  {
   "cell_type": "code",
   "execution_count": 4,
   "id": "15dd0ed8-e265-4fea-8527-e4f40e0b5b27",
   "metadata": {},
   "outputs": [],
   "source": [
    "%matplotlib inline\n",
    "pd.set_option('display.max_rows', 500)\n",
    "pd.set_option('display.max_columns', 500)"
   ]
  },
  {
   "cell_type": "code",
   "execution_count": 5,
   "id": "ddb4c76a-46e0-40f4-b10c-9b068ce7b4fb",
   "metadata": {},
   "outputs": [],
   "source": [
    "SHEET_NAME_STOCK_INFO = \"stock_info\"\n",
    "SHEET_NAME_STOCK_FINANCIALS = \"stock_financials\"\n",
    "SHEET_NAME_STOCK_DIVIDENDS = \"stock_dividends\""
   ]
  },
  {
   "cell_type": "markdown",
   "id": "496e1b1f-c3ad-42b7-ae12-1b37e7ab1cce",
   "metadata": {},
   "source": [
    "# Data Cleansing"
   ]
  },
  {
   "cell_type": "code",
   "execution_count": 6,
   "id": "331a38af-d7f5-4f98-b1c2-fb5664c6dfa2",
   "metadata": {},
   "outputs": [
    {
     "name": "stdout",
     "output_type": "stream",
     "text": [
      "156 153\n"
     ]
    }
   ],
   "source": [
    "FROM_FILE = \"data/alphalib_united_states_5.xlsx\"\n",
    "TO_FILE = \"data/alphalib_united_states_new.xlsx\"\n",
    "\n",
    "stock_info_1 = pd.read_excel(TO_FILE, sheet_name=SHEET_NAME_STOCK_INFO, engine=\"openpyxl\")\n",
    "stock_info_2 = pd.read_excel(FROM_FILE, sheet_name=SHEET_NAME_STOCK_INFO, engine=\"openpyxl\")\n",
    "print(len(stock_info_1.columns), len(stock_info_2.columns))"
   ]
  },
  {
   "cell_type": "code",
   "execution_count": 7,
   "id": "3caf082a-9504-4a53-90fe-dcfa236c2c2b",
   "metadata": {},
   "outputs": [],
   "source": [
    "def create_missing_cols(df, target_cols):\n",
    "    columns = df.columns.tolist()\n",
    "    missing_cols = list(set(target_cols) - set(columns))\n",
    "    df[missing_cols] = None"
   ]
  },
  {
   "cell_type": "code",
   "execution_count": 8,
   "id": "c63e1b2a-c095-4776-8da6-508b3b90e370",
   "metadata": {},
   "outputs": [
    {
     "name": "stdout",
     "output_type": "stream",
     "text": [
      "Create missing columns\n",
      "156 156\n",
      "Remove overlapped stocks\n",
      "1061 1055\n"
     ]
    }
   ],
   "source": [
    "# Create missing columns for stock_info\n",
    "print(\"Create missing columns\")\n",
    "if len(stock_info_1.columns) > len(stock_info_2.columns):\n",
    "    stock_info_columns = stock_info_1.columns.tolist()\n",
    "    stock_info_columns.sort()\n",
    "    create_missing_cols(stock_info_2, stock_info_columns)\n",
    "    stock_info_2 = stock_info_2[stock_info_columns]\n",
    "    print(len(stock_info_1.columns), len(stock_info_2.columns))\n",
    "elif len(stock_info_1.columns) < len(stock_info_2.columns):\n",
    "    stock_info_columns = stock_info_2.columns.tolist()\n",
    "    stock_info_columns.sort()\n",
    "    create_missing_cols(stock_info_1, stock_info_columns)\n",
    "    stock_info_1 = stock_info_1[stock_info_columns]\n",
    "    print(len(stock_info_1.columns), len(stock_info_2.columns))\n",
    "else:\n",
    "    print(\"No action required\")\n",
    "    print(len(stock_info_1.columns), len(stock_info_2.columns))\n",
    "    \n",
    "# Remove overlapped stocks\n",
    "print(\"Remove overlapped stocks\")\n",
    "filter = ~stock_info_2[\"symbol\"].isin(stock_info_1[\"symbol\"].tolist()) \n",
    "print(len(stock_info_2),len(stock_info_2[filter]))\n",
    "stock_info_2 = stock_info_2[filter]"
   ]
  },
  {
   "cell_type": "code",
   "execution_count": 9,
   "id": "77e93a44-7bba-47f7-ae71-c70e538e478e",
   "metadata": {},
   "outputs": [
    {
     "name": "stdout",
     "output_type": "stream",
     "text": [
      "3570\n"
     ]
    }
   ],
   "source": [
    "# Merge the 2 data frames\n",
    "stock_info_all = pd.concat([stock_info_1, stock_info_2], ignore_index=True)\n",
    "print(len(stock_info_all))"
   ]
  },
  {
   "cell_type": "code",
   "execution_count": 10,
   "id": "203f9305-4c8f-4749-a090-1d0d79db98f9",
   "metadata": {},
   "outputs": [
    {
     "name": "stdout",
     "output_type": "stream",
     "text": [
      "9 9\n",
      "Index(['Country', 'Date', 'Dividend', 'Full Name', 'Name', 'Payment Date',\n",
      "       'Symbol', 'Type', 'Yield'],\n",
      "      dtype='object')\n",
      "Index(['Country', 'Date', 'Dividend', 'Full Name', 'Name', 'Payment Date',\n",
      "       'Symbol', 'Type', 'Yield'],\n",
      "      dtype='object')\n",
      "Same columns\n"
     ]
    }
   ],
   "source": [
    "# Clean up stock_dividends\n",
    "stock_dividends_1 = pd.read_excel(TO_FILE, sheet_name=SHEET_NAME_STOCK_DIVIDENDS, engine=\"openpyxl\")\n",
    "stock_dividends_2 = pd.read_excel(FROM_FILE, sheet_name=SHEET_NAME_STOCK_DIVIDENDS, engine=\"openpyxl\")\n",
    "print(len(stock_dividends_1.columns), len(stock_dividends_2.columns))\n",
    "\n",
    "print(stock_dividends_1.columns)\n",
    "print(stock_dividends_2.columns)\n",
    "\n",
    "cols_1 = stock_dividends_1.columns.tolist()\n",
    "cols_1.sort()\n",
    "\n",
    "cols_2 = stock_dividends_2.columns.tolist()\n",
    "cols_2.sort()\n",
    "\n",
    "if (cols_1 == cols_2):\n",
    "    print(\"Same columns\")\n",
    "else:\n",
    "    print(\"!!!!!!!!!!! Not the same \")\n",
    "    if len(stock_dividends_1.columns) > len(stock_dividends_2.columns):\n",
    "        stock_dividends_columns = stock_dividends_1.columns.tolist()\n",
    "        stock_dividends_columns.sort()\n",
    "        create_missing_cols(stock_dividends_2, stock_dividends_columns)\n",
    "        stock_dividends_2 = stock_dividends_2[stock_dividends_columns]\n",
    "        print(len(stock_dividends_1.columns), len(stock_dividends_2.columns))\n",
    "    elif len(stock_dividends_1.columns) < len(stock_dividends_2.columns):\n",
    "        stock_dividends_columns = stock_dividends_2.columns.tolist()\n",
    "        stock_dividends_columns.sort()\n",
    "        create_missing_cols(stock_dividends_1, stock_dividends_columns)\n",
    "        stock_dividends_1 = stock_dividends_1[stock_dividends_columns]\n",
    "        print(len(stock_dividends_1.columns), len(stock_dividends_2.columns))"
   ]
  },
  {
   "cell_type": "code",
   "execution_count": 11,
   "id": "7693eb6e-b288-4ae1-a271-60e33f8c5666",
   "metadata": {},
   "outputs": [
    {
     "name": "stdout",
     "output_type": "stream",
     "text": [
      "Remove overlapped stocks\n",
      "10173 10097\n",
      "52315\n",
      "42218 10097\n"
     ]
    }
   ],
   "source": [
    "print(\"Remove overlapped stocks\")\n",
    "filter = ~stock_dividends_2[\"Symbol\"].isin(stock_dividends_1[\"Symbol\"].tolist()) \n",
    "print(len(stock_dividends_2), len(stock_dividends_2[filter]))\n",
    "stock_dividends_2 = stock_dividends_2[filter]\n",
    "\n",
    "# Merge the 2 data frames\n",
    "stock_dividends_all = pd.concat([stock_dividends_1, stock_dividends_2], ignore_index=True)\n",
    "print(len(stock_dividends_all))\n",
    "print(len(stock_dividends_1), len(stock_dividends_2))"
   ]
  },
  {
   "cell_type": "code",
   "execution_count": 12,
   "id": "04fca307-7040-4f88-84ce-3eb5120e7f90",
   "metadata": {},
   "outputs": [
    {
     "name": "stdout",
     "output_type": "stream",
     "text": [
      "27 27\n",
      "Same columns\n",
      "['Cost Of Revenue', 'Country', 'Date', 'Discontinued Operations', 'Ebit', 'Effect Of Accounting Charges', 'Extraordinary Items', 'Full Name', 'Gross Profit', 'Income Before Tax', 'Income Tax Expense', 'Interest Expense', 'Minority Interest', 'Name', 'Net Income', 'Net Income Applicable To Common Shares', 'Net Income From Continuing Ops', 'Non Recurring', 'Operating Income', 'Other Items', 'Other Operating Expenses', 'Research Development', 'Selling General Administrative', 'Symbol', 'Total Operating Expenses', 'Total Other Income Expense Net', 'Total Revenue']\n"
     ]
    }
   ],
   "source": [
    "# Clean up stock_financials\n",
    "stock_financials_1 = pd.read_excel(TO_FILE, sheet_name=SHEET_NAME_STOCK_FINANCIALS, engine=\"openpyxl\")\n",
    "stock_financials_2 = pd.read_excel(FROM_FILE, sheet_name=SHEET_NAME_STOCK_FINANCIALS, engine=\"openpyxl\")\n",
    "print(len(stock_financials_1.columns), len(stock_financials_2.columns))\n",
    "\n",
    "cols_1 = stock_financials_1.columns.tolist()\n",
    "cols_1.sort()\n",
    "\n",
    "cols_2 = stock_financials_2.columns.tolist()\n",
    "cols_2.sort()\n",
    "\n",
    "if (cols_1 == cols_2):\n",
    "    print(\"Same columns\")\n",
    "    print(cols_1)\n",
    "else:\n",
    "    print(\"!!!!!!!!!!! Not the same \")\n",
    "    if len(stock_financials_1.columns) > len(stock_financials_2.columns):\n",
    "        stock_financials_columns = stock_financials_1.columns.tolist()\n",
    "        stock_financials_columns.sort()\n",
    "        create_missing_cols(stock_financials_2, stock_financials_columns)\n",
    "        stock_financials_2 = stock_financials_2[stock_financials_columns]\n",
    "        print(len(stock_financials_1.columns), len(stock_financials_2.columns))\n",
    "    elif len(stock_financials_1.columns) < len(stock_financials_2.columns):\n",
    "        stock_financials_columns = stock_financials_2.columns.tolist()\n",
    "        stock_financials_columns.sort()\n",
    "        create_missing_cols(stock_financials_1, stock_financials_columns)\n",
    "        stock_financials_1 = stock_financials_1[stock_financials_columns]\n",
    "        print(len(stock_financials_1.columns), len(stock_financials_2.columns))"
   ]
  },
  {
   "cell_type": "code",
   "execution_count": 13,
   "id": "4092112a-96ca-4640-b17e-c96dd1c7d7f8",
   "metadata": {},
   "outputs": [
    {
     "name": "stdout",
     "output_type": "stream",
     "text": [
      "Remove overlapped stocks\n",
      "4249 4225\n",
      "14333\n",
      "10108 4225\n"
     ]
    }
   ],
   "source": [
    "print(\"Remove overlapped stocks\")\n",
    "filter = ~stock_financials_2[\"Symbol\"].isin(stock_financials_1[\"Symbol\"].tolist()) \n",
    "print(len(stock_financials_2), len(stock_financials_2[filter]))\n",
    "stock_financials_2 = stock_financials_2[filter]\n",
    "\n",
    "# Merge the 2 data frames\n",
    "stock_financials_all = pd.concat([stock_financials_1, stock_financials_2], ignore_index=True)\n",
    "print(len(stock_financials_all))\n",
    "print(len(stock_financials_1), len(stock_financials_2))"
   ]
  },
  {
   "cell_type": "code",
   "execution_count": 14,
   "id": "f61df180-981b-41c2-a89b-2b5ad458165a",
   "metadata": {},
   "outputs": [],
   "source": [
    "# Save to new file\n",
    "with pd.ExcelWriter(TO_FILE) as writer:  \n",
    "    stock_info_all.to_excel(writer,sheet_name=SHEET_NAME_STOCK_INFO, header=True, index=False)\n",
    "    stock_dividends_all.to_excel(writer,sheet_name=SHEET_NAME_STOCK_DIVIDENDS, header=True, index=False)\n",
    "    stock_financials_all.to_excel(writer,sheet_name=SHEET_NAME_STOCK_FINANCIALS, header=True, index=False)"
   ]
  },
  {
   "cell_type": "code",
   "execution_count": 15,
   "id": "7bce982a-4837-422e-ba4e-0455141c86fe",
   "metadata": {},
   "outputs": [
    {
     "name": "stdout",
     "output_type": "stream",
     "text": [
      "3570\n"
     ]
    }
   ],
   "source": [
    "# validate the data\n",
    "stock_info_new = pd.read_excel(TO_FILE, sheet_name=SHEET_NAME_STOCK_INFO, engine=\"openpyxl\")\n",
    "print(len(stock_info_new))"
   ]
  },
  {
   "cell_type": "code",
   "execution_count": null,
   "id": "c358ede6-2d4b-41d8-9136-5fea1f6bc4f8",
   "metadata": {},
   "outputs": [],
   "source": []
  }
 ],
 "metadata": {
  "kernelspec": {
   "display_name": "Python 3 (ipykernel)",
   "language": "python",
   "name": "python3"
  },
  "language_info": {
   "codemirror_mode": {
    "name": "ipython",
    "version": 3
   },
   "file_extension": ".py",
   "mimetype": "text/x-python",
   "name": "python",
   "nbconvert_exporter": "python",
   "pygments_lexer": "ipython3",
   "version": "3.10.4"
  }
 },
 "nbformat": 4,
 "nbformat_minor": 5
}
