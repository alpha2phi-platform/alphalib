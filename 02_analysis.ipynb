{
 "cells": [
  {
   "cell_type": "code",
   "execution_count": 3,
   "id": "357879b8-ffe5-47cf-854d-c3e8df73ef03",
   "metadata": {},
   "outputs": [],
   "source": [
    "from IPython.core.interactiveshell import InteractiveShell\n",
    "from IPython.display import display\n",
    "InteractiveShell.ast_node_interactivity = \"all\""
   ]
  },
  {
   "cell_type": "code",
   "execution_count": 4,
   "id": "8564ff9d-a106-4e9c-95c8-64dbe7489092",
   "metadata": {},
   "outputs": [
    {
     "name": "stdout",
     "output_type": "stream",
     "text": [
      "The autoreload extension is already loaded. To reload it, use:\n",
      "  %reload_ext autoreload\n"
     ]
    }
   ],
   "source": [
    "%load_ext autoreload\n",
    "%autoreload 2"
   ]
  },
  {
   "cell_type": "code",
   "execution_count": 5,
   "id": "c76b3217-b43c-4fa7-9d6a-78303707ae14",
   "metadata": {},
   "outputs": [],
   "source": [
    "import pandas as pd"
   ]
  },
  {
   "cell_type": "code",
   "execution_count": 6,
   "id": "15dd0ed8-e265-4fea-8527-e4f40e0b5b27",
   "metadata": {},
   "outputs": [],
   "source": [
    "%matplotlib inline\n",
    "pd.set_option('display.max_rows', 500)\n",
    "pd.set_option('display.max_columns', 500)\n",
    "pd.set_option('display.max_seq_items', 500)"
   ]
  },
  {
   "cell_type": "code",
   "execution_count": 34,
   "id": "ddb4c76a-46e0-40f4-b10c-9b068ce7b4fb",
   "metadata": {},
   "outputs": [],
   "source": [
    "COUNTRY = \"united states\"\n",
    "STOCK_FILE = \"data/stocks.xlsx\"\n",
    "SHEET_NAME_STOCK = \"stocks\""
   ]
  },
  {
   "cell_type": "code",
   "execution_count": 35,
   "id": "cecf2f49-a60c-4f49-b854-cd77556015b1",
   "metadata": {},
   "outputs": [],
   "source": [
    "stocks = pd.read_excel(STOCK_FILE, sheet_name=SHEET_NAME_STOCK, engine=\"openpyxl\")"
   ]
  },
  {
   "cell_type": "code",
   "execution_count": 21,
   "id": "46eadf7d-228e-4895-8b4c-78690614cc35",
   "metadata": {},
   "outputs": [],
   "source": [
    "# Convert field names to lower case\n",
    "stocks = stocks.rename(columns=str.lower)"
   ]
  },
  {
   "cell_type": "markdown",
   "id": "a71c3f5d-8425-4aa6-a8f8-a0cb81cf531d",
   "metadata": {},
   "source": [
    "# Stocks by Sectors"
   ]
  },
  {
   "cell_type": "code",
   "execution_count": 22,
   "id": "49cce1fe-4130-42f5-8576-009d55f87f5d",
   "metadata": {},
   "outputs": [
    {
     "data": {
      "text/plain": [
       "count     9649\n",
       "unique    9649\n",
       "top          A\n",
       "freq         1\n",
       "Name: symbol, dtype: object"
      ]
     },
     "execution_count": 22,
     "metadata": {},
     "output_type": "execute_result"
    }
   ],
   "source": [
    "stocks[\"symbol\"].describe()"
   ]
  },
  {
   "cell_type": "code",
   "execution_count": 30,
   "id": "af5d23a1-d181-4964-abf2-4da95b513c53",
   "metadata": {},
   "outputs": [
    {
     "data": {
      "text/plain": [
       "sector\n",
       "Basic Materials            403\n",
       "Communication Services     446\n",
       "Conglomerates                4\n",
       "Consumer Cyclical          697\n",
       "Consumer Defensive         394\n",
       "Consumer Goods               7\n",
       "Energy                     455\n",
       "Financial                    6\n",
       "Financial Services        2984\n",
       "Healthcare                1525\n",
       "Industrial Goods             6\n",
       "Industrials                994\n",
       "Real Estate                507\n",
       "Services                    15\n",
       "Technology                1036\n",
       "Utilities                  170\n",
       "Name: symbol, dtype: int64"
      ]
     },
     "execution_count": 30,
     "metadata": {},
     "output_type": "execute_result"
    }
   ],
   "source": [
    "stocks.groupby(by=[\"sector\"], axis=0)[\"symbol\"].count()"
   ]
  },
  {
   "cell_type": "code",
   "execution_count": 32,
   "id": "13bbee93-0c86-4ea0-8e43-188595aee2d5",
   "metadata": {},
   "outputs": [
    {
     "data": {
      "text/html": [
       "<div>\n",
       "<style scoped>\n",
       "    .dataframe tbody tr th:only-of-type {\n",
       "        vertical-align: middle;\n",
       "    }\n",
       "\n",
       "    .dataframe tbody tr th {\n",
       "        vertical-align: top;\n",
       "    }\n",
       "\n",
       "    .dataframe thead th {\n",
       "        text-align: right;\n",
       "    }\n",
       "</style>\n",
       "<table border=\"1\" class=\"dataframe\">\n",
       "  <thead>\n",
       "    <tr style=\"text-align: right;\">\n",
       "      <th></th>\n",
       "      <th>symbol</th>\n",
       "      <th>short_name</th>\n",
       "      <th>long_name</th>\n",
       "      <th>summary</th>\n",
       "      <th>currency</th>\n",
       "      <th>sector</th>\n",
       "      <th>industry</th>\n",
       "      <th>exchange</th>\n",
       "      <th>market</th>\n",
       "      <th>country</th>\n",
       "      <th>state</th>\n",
       "      <th>city</th>\n",
       "      <th>zipcode</th>\n",
       "      <th>website</th>\n",
       "      <th>market_cap</th>\n",
       "    </tr>\n",
       "  </thead>\n",
       "  <tbody>\n",
       "    <tr>\n",
       "      <th>20</th>\n",
       "      <td>AAPL</td>\n",
       "      <td>Apple Inc.</td>\n",
       "      <td>Apple Inc.</td>\n",
       "      <td>Apple Inc. designs, manufactures, and markets ...</td>\n",
       "      <td>USD</td>\n",
       "      <td>Technology</td>\n",
       "      <td>Consumer Electronics</td>\n",
       "      <td>NMS</td>\n",
       "      <td>us_market</td>\n",
       "      <td>United States</td>\n",
       "      <td>CA</td>\n",
       "      <td>Cupertino</td>\n",
       "      <td>95014</td>\n",
       "      <td>http://www.apple.com</td>\n",
       "      <td>Mega Cap</td>\n",
       "    </tr>\n",
       "    <tr>\n",
       "      <th>3800</th>\n",
       "      <td>GM</td>\n",
       "      <td>General Motors Company</td>\n",
       "      <td>General Motors Company</td>\n",
       "      <td>General Motors Company designs, builds, and se...</td>\n",
       "      <td>USD</td>\n",
       "      <td>Consumer Cyclical</td>\n",
       "      <td>Auto Manufacturers</td>\n",
       "      <td>NYQ</td>\n",
       "      <td>us_market</td>\n",
       "      <td>United States</td>\n",
       "      <td>MI</td>\n",
       "      <td>Detroit</td>\n",
       "      <td>48265-3000</td>\n",
       "      <td>http://www.gm.com</td>\n",
       "      <td>Large Cap</td>\n",
       "    </tr>\n",
       "    <tr>\n",
       "      <th>3871</th>\n",
       "      <td>GOOG</td>\n",
       "      <td>Alphabet Inc.</td>\n",
       "      <td>Alphabet Inc.</td>\n",
       "      <td>Alphabet Inc. provides online advertising serv...</td>\n",
       "      <td>USD</td>\n",
       "      <td>Communication Services</td>\n",
       "      <td>Internet Content &amp; Information</td>\n",
       "      <td>NMS</td>\n",
       "      <td>us_market</td>\n",
       "      <td>United States</td>\n",
       "      <td>CA</td>\n",
       "      <td>Mountain View</td>\n",
       "      <td>94043</td>\n",
       "      <td>http://www.abc.xyz</td>\n",
       "      <td>Mega Cap</td>\n",
       "    </tr>\n",
       "    <tr>\n",
       "      <th>5798</th>\n",
       "      <td>MSFT</td>\n",
       "      <td>Microsoft Corporation</td>\n",
       "      <td>Microsoft Corporation</td>\n",
       "      <td>Microsoft Corporation develops, licenses, and ...</td>\n",
       "      <td>USD</td>\n",
       "      <td>Technology</td>\n",
       "      <td>Software - Infrastructure</td>\n",
       "      <td>NMS</td>\n",
       "      <td>us_market</td>\n",
       "      <td>United States</td>\n",
       "      <td>WA</td>\n",
       "      <td>Redmond</td>\n",
       "      <td>98052-6399</td>\n",
       "      <td>http://www.microsoft.com</td>\n",
       "      <td>Mega Cap</td>\n",
       "    </tr>\n",
       "    <tr>\n",
       "      <th>8353</th>\n",
       "      <td>T</td>\n",
       "      <td>AT&amp;T Inc.</td>\n",
       "      <td>AT&amp;T Inc.</td>\n",
       "      <td>AT&amp;T Inc. provides telecommunication, media, a...</td>\n",
       "      <td>USD</td>\n",
       "      <td>Communication Services</td>\n",
       "      <td>Telecom Services</td>\n",
       "      <td>NYQ</td>\n",
       "      <td>us_market</td>\n",
       "      <td>United States</td>\n",
       "      <td>TX</td>\n",
       "      <td>Dallas</td>\n",
       "      <td>75202</td>\n",
       "      <td>http://www.att.com</td>\n",
       "      <td>Mega Cap</td>\n",
       "    </tr>\n",
       "    <tr>\n",
       "      <th>8700</th>\n",
       "      <td>TSLA</td>\n",
       "      <td>Tesla, Inc.</td>\n",
       "      <td>Tesla, Inc.</td>\n",
       "      <td>Tesla, Inc. designs, develops, manufactures, l...</td>\n",
       "      <td>USD</td>\n",
       "      <td>Consumer Cyclical</td>\n",
       "      <td>Auto Manufacturers</td>\n",
       "      <td>NMS</td>\n",
       "      <td>us_market</td>\n",
       "      <td>United States</td>\n",
       "      <td>CA</td>\n",
       "      <td>Palo Alto</td>\n",
       "      <td>94304</td>\n",
       "      <td>http://www.tesla.com</td>\n",
       "      <td>Mega Cap</td>\n",
       "    </tr>\n",
       "  </tbody>\n",
       "</table>\n",
       "</div>"
      ],
      "text/plain": [
       "     symbol              short_name               long_name  \\\n",
       "20     AAPL              Apple Inc.              Apple Inc.   \n",
       "3800     GM  General Motors Company  General Motors Company   \n",
       "3871   GOOG           Alphabet Inc.           Alphabet Inc.   \n",
       "5798   MSFT   Microsoft Corporation   Microsoft Corporation   \n",
       "8353      T               AT&T Inc.               AT&T Inc.   \n",
       "8700   TSLA             Tesla, Inc.             Tesla, Inc.   \n",
       "\n",
       "                                                summary currency  \\\n",
       "20    Apple Inc. designs, manufactures, and markets ...      USD   \n",
       "3800  General Motors Company designs, builds, and se...      USD   \n",
       "3871  Alphabet Inc. provides online advertising serv...      USD   \n",
       "5798  Microsoft Corporation develops, licenses, and ...      USD   \n",
       "8353  AT&T Inc. provides telecommunication, media, a...      USD   \n",
       "8700  Tesla, Inc. designs, develops, manufactures, l...      USD   \n",
       "\n",
       "                      sector                        industry exchange  \\\n",
       "20                Technology            Consumer Electronics      NMS   \n",
       "3800       Consumer Cyclical              Auto Manufacturers      NYQ   \n",
       "3871  Communication Services  Internet Content & Information      NMS   \n",
       "5798              Technology       Software - Infrastructure      NMS   \n",
       "8353  Communication Services                Telecom Services      NYQ   \n",
       "8700       Consumer Cyclical              Auto Manufacturers      NMS   \n",
       "\n",
       "         market        country state           city     zipcode  \\\n",
       "20    us_market  United States    CA      Cupertino       95014   \n",
       "3800  us_market  United States    MI        Detroit  48265-3000   \n",
       "3871  us_market  United States    CA  Mountain View       94043   \n",
       "5798  us_market  United States    WA        Redmond  98052-6399   \n",
       "8353  us_market  United States    TX         Dallas       75202   \n",
       "8700  us_market  United States    CA      Palo Alto       94304   \n",
       "\n",
       "                       website market_cap  \n",
       "20        http://www.apple.com   Mega Cap  \n",
       "3800         http://www.gm.com  Large Cap  \n",
       "3871        http://www.abc.xyz   Mega Cap  \n",
       "5798  http://www.microsoft.com   Mega Cap  \n",
       "8353        http://www.att.com   Mega Cap  \n",
       "8700      http://www.tesla.com   Mega Cap  "
      ]
     },
     "execution_count": 32,
     "metadata": {},
     "output_type": "execute_result"
    }
   ],
   "source": [
    "stocks[stocks[\"symbol\"].isin([\"MSFT\",\"AAPL\",\"TSLA\",\"T\",\"GOOG\",\"T\",\"GM\"])].head(100)"
   ]
  },
  {
   "cell_type": "code",
   "execution_count": 50,
   "id": "057b0f33-0134-4a25-869a-05ab3179b6b8",
   "metadata": {},
   "outputs": [],
   "source": [
    "#stock_info.head(10)"
   ]
  },
  {
   "cell_type": "code",
   "execution_count": null,
   "id": "1ae64e82-fee1-416e-9933-8fa187cfd51e",
   "metadata": {},
   "outputs": [],
   "source": []
  }
 ],
 "metadata": {
  "kernelspec": {
   "display_name": "Python 3 (ipykernel)",
   "language": "python",
   "name": "python3"
  },
  "language_info": {
   "codemirror_mode": {
    "name": "ipython",
    "version": 3
   },
   "file_extension": ".py",
   "mimetype": "text/x-python",
   "name": "python",
   "nbconvert_exporter": "python",
   "pygments_lexer": "ipython3",
   "version": "3.10.4"
  }
 },
 "nbformat": 4,
 "nbformat_minor": 5
}
