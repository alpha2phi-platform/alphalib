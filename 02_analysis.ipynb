{
 "cells": [
  {
   "cell_type": "code",
   "execution_count": 1,
   "id": "357879b8-ffe5-47cf-854d-c3e8df73ef03",
   "metadata": {},
   "outputs": [],
   "source": [
    "from IPython.core.interactiveshell import InteractiveShell\n",
    "from IPython.display import display\n",
    "InteractiveShell.ast_node_interactivity = \"all\""
   ]
  },
  {
   "cell_type": "code",
   "execution_count": 2,
   "id": "8564ff9d-a106-4e9c-95c8-64dbe7489092",
   "metadata": {},
   "outputs": [],
   "source": [
    "%load_ext autoreload\n",
    "%autoreload 2"
   ]
  },
  {
   "cell_type": "code",
   "execution_count": 3,
   "id": "c76b3217-b43c-4fa7-9d6a-78303707ae14",
   "metadata": {},
   "outputs": [],
   "source": [
    "import pandas as pd"
   ]
  },
  {
   "cell_type": "code",
   "execution_count": 4,
   "id": "15dd0ed8-e265-4fea-8527-e4f40e0b5b27",
   "metadata": {},
   "outputs": [],
   "source": [
    "%matplotlib inline\n",
    "pd.set_option('display.max_rows', 500)\n",
    "pd.set_option('display.max_columns', 500)\n",
    "pd.set_option('display.max_seq_items', 500)"
   ]
  },
  {
   "cell_type": "code",
   "execution_count": 13,
   "id": "ddb4c76a-46e0-40f4-b10c-9b068ce7b4fb",
   "metadata": {},
   "outputs": [],
   "source": [
    "COUNTRY = \"united states\"\n",
    "\n",
    "STOCK_FILE = \"data/stock.xlsx\"\n",
    "SHEET_NAME_STOCK = \"stock\"\n",
    "\n",
    "STOCK_INFO_FILE = \"data/stock_info.xlsx\"\n",
    "SHEET_NAME_STOCK_INFO = \"stock_info\"\n",
    "\n",
    "STOCK_STATS_FILE = \"data/stock_stats.xlsx\"\n",
    "SHEET_NAME_STOCK_STATS = \"stock_stats\""
   ]
  },
  {
   "cell_type": "code",
   "execution_count": 14,
   "id": "cecf2f49-a60c-4f49-b854-cd77556015b1",
   "metadata": {},
   "outputs": [],
   "source": [
    "df_stock = pd.read_excel(STOCK_FILE, sheet_name=SHEET_NAME_STOCK, engine=\"openpyxl\")\n",
    "df_stock_info = pd.read_excel(STOCK_INFO_FILE, sheet_name=SHEET_NAME_STOCK_INFO, engine=\"openpyxl\")\n",
    "df_stock_stats = pd.read_excel(STOCK_STATS_FILE, sheet_name=SHEET_NAME_STOCK_STATS, engine=\"openpyxl\")"
   ]
  },
  {
   "cell_type": "code",
   "execution_count": 16,
   "id": "46eadf7d-228e-4895-8b4c-78690614cc35",
   "metadata": {},
   "outputs": [],
   "source": [
    "# Convert field names to lower case\n",
    "df_stock = df_stock.rename(columns=str.lower)\n",
    "df_stock_info = df_stock_info.rename(columns=str.lower)\n",
    "df_stock_stats = df_stock_stats.rename(columns=str.lower)"
   ]
  },
  {
   "cell_type": "markdown",
   "id": "a71c3f5d-8425-4aa6-a8f8-a0cb81cf531d",
   "metadata": {},
   "source": [
    "# Stocks by Sectors"
   ]
  },
  {
   "cell_type": "code",
   "execution_count": 21,
   "id": "49cce1fe-4130-42f5-8576-009d55f87f5d",
   "metadata": {},
   "outputs": [
    {
     "data": {
      "text/plain": [
       "count     3783\n",
       "unique    3783\n",
       "top         BA\n",
       "freq         1\n",
       "Name: symbol, dtype: object"
      ]
     },
     "execution_count": 21,
     "metadata": {},
     "output_type": "execute_result"
    }
   ],
   "source": [
    "df_stock_info[\"symbol\"].describe()"
   ]
  },
  {
   "cell_type": "code",
   "execution_count": 22,
   "id": "af5d23a1-d181-4964-abf2-4da95b513c53",
   "metadata": {},
   "outputs": [
    {
     "data": {
      "text/plain": [
       "sector\n",
       "Basic Materials           228\n",
       "Communication Services    207\n",
       "Consumer Cyclical         457\n",
       "Consumer Defensive        206\n",
       "Energy                    178\n",
       "Financial Services        700\n",
       "Healthcare                468\n",
       "Industrials               538\n",
       "Real Estate               194\n",
       "Technology                497\n",
       "Utilities                  99\n",
       "Name: symbol, dtype: int64"
      ]
     },
     "execution_count": 22,
     "metadata": {},
     "output_type": "execute_result"
    }
   ],
   "source": [
    "df_stock_info.groupby(by=[\"sector\"], axis=0)[\"symbol\"].count()"
   ]
  },
  {
   "cell_type": "code",
   "execution_count": 25,
   "id": "13bbee93-0c86-4ea0-8e43-188595aee2d5",
   "metadata": {},
   "outputs": [],
   "source": [
    "# df_stock_info[df_stock_info[\"symbol\"].isin([\"MSFT\",\"AAPL\",\"TSLA\",\"T\",\"GOOG\",\"T\",\"GM\"])].head(100)"
   ]
  },
  {
   "cell_type": "markdown",
   "id": "8c4082d3-6f72-4388-8a35-7aebdcd2bf72",
   "metadata": {},
   "source": [
    "# Top Dividend Stocks"
   ]
  },
  {
   "cell_type": "markdown",
   "id": "138a044b-544d-4063-bcb1-22c9b4b97563",
   "metadata": {},
   "source": [
    "## Last 5 years dividends"
   ]
  },
  {
   "cell_type": "code",
   "execution_count": 29,
   "id": "062ada8e-3f87-4613-b481-56cac72da688",
   "metadata": {},
   "outputs": [
    {
     "data": {
      "text/plain": [
       "52weekchange                    float64\n",
       "sandp52weekchange               float64\n",
       "address1                         object\n",
       "algorithm                       float64\n",
       "annualholdingsturnover          float64\n",
       "annualreportexpenseratio        float64\n",
       "ask                             float64\n",
       "asksize                         float64\n",
       "averagedailyvolume10day         float64\n",
       "averagevolume                   float64\n",
       "averagevolume10days             float64\n",
       "beta                            float64\n",
       "beta3year                       float64\n",
       "bid                             float64\n",
       "bidsize                         float64\n",
       "bookvalue                       float64\n",
       "category                         object\n",
       "circulatingsupply               float64\n",
       "city                             object\n",
       "coinmarketcaplink               float64\n",
       "companyofficers                  object\n",
       "country                          object\n",
       "currency                         object\n",
       "currentprice                    float64\n",
       "currentratio                    float64\n",
       "dateshortinterest               float64\n",
       "dayhigh                         float64\n",
       "daylow                          float64\n",
       "debttoequity                    float64\n",
       "dividendrate                    float64\n",
       "dividendyield                   float64\n",
       "earningsgrowth                  float64\n",
       "earningsquarterlygrowth         float64\n",
       "ebitda                          float64\n",
       "ebitdamargins                   float64\n",
       "enterprisetoebitda              float64\n",
       "enterprisetorevenue             float64\n",
       "enterprisevalue                 float64\n",
       "exdividenddate                  float64\n",
       "exchange                         object\n",
       "exchangetimezonename             object\n",
       "exchangetimezoneshortname        object\n",
       "expiredate                      float64\n",
       "fiftydayaverage                 float64\n",
       "fiftytwoweekhigh                float64\n",
       "fiftytwoweeklow                 float64\n",
       "financialcurrency                object\n",
       "fiveyearaveragereturn           float64\n",
       "fiveyearavgdividendyield        float64\n",
       "floatshares                     float64\n",
       "forwardeps                      float64\n",
       "forwardpe                       float64\n",
       "freecashflow                    float64\n",
       "fromcurrency                    float64\n",
       "fulltimeemployees               float64\n",
       "fundfamily                       object\n",
       "fundinceptiondate               float64\n",
       "gmtoffsetmilliseconds             int64\n",
       "grossmargins                    float64\n",
       "grossprofits                    float64\n",
       "heldpercentinsiders             float64\n",
       "heldpercentinstitutions         float64\n",
       "impliedsharesoutstanding        float64\n",
       "industry                         object\n",
       "isesgpopulated                    int64\n",
       "lastcapgain                     float64\n",
       "lastdividenddate                float64\n",
       "lastdividendvalue               float64\n",
       "lastfiscalyearend               float64\n",
       "lastmarket                      float64\n",
       "lastsplitdate                   float64\n",
       "lastsplitfactor                  object\n",
       "legaltype                        object\n",
       "logo_url                         object\n",
       "longbusinesssummary              object\n",
       "longname                         object\n",
       "market                           object\n",
       "marketcap                       float64\n",
       "maxage                            int64\n",
       "maxsupply                       float64\n",
       "messageboardid                   object\n",
       "morningstaroverallrating        float64\n",
       "morningstarriskrating           float64\n",
       "mostrecentquarter               float64\n",
       "navprice                        float64\n",
       "netincometocommon               float64\n",
       "nextfiscalyearend               float64\n",
       "numberofanalystopinions         float64\n",
       "open                            float64\n",
       "openinterest                    float64\n",
       "operatingcashflow               float64\n",
       "operatingmargins                float64\n",
       "payoutratio                     float64\n",
       "pegratio                        float64\n",
       "phone                            object\n",
       "premarketprice                  float64\n",
       "previousclose                   float64\n",
       "pricehint                         int64\n",
       "pricetobook                     float64\n",
       "pricetosalestrailing12months    float64\n",
       "profitmargins                   float64\n",
       "quickratio                      float64\n",
       "quotetype                        object\n",
       "recommendationkey                object\n",
       "recommendationmean              float64\n",
       "regularmarketdayhigh            float64\n",
       "regularmarketdaylow             float64\n",
       "regularmarketopen               float64\n",
       "regularmarketpreviousclose      float64\n",
       "regularmarketprice              float64\n",
       "regularmarketvolume               int64\n",
       "returnonassets                  float64\n",
       "returnonequity                  float64\n",
       "revenuegrowth                   float64\n",
       "revenuepershare                 float64\n",
       "revenuequarterlygrowth          float64\n",
       "sector                           object\n",
       "sharesoutstanding               float64\n",
       "sharespercentsharesout          float64\n",
       "sharesshort                     float64\n",
       "sharesshortpreviousmonthdate    float64\n",
       "sharesshortpriormonth           float64\n",
       "shortname                        object\n",
       "shortpercentoffloat             float64\n",
       "shortratio                      float64\n",
       "startdate                       float64\n",
       "state                            object\n",
       "strikeprice                     float64\n",
       "symbol                           object\n",
       "targethighprice                 float64\n",
       "targetlowprice                  float64\n",
       "targetmeanprice                 float64\n",
       "targetmedianprice               float64\n",
       "threeyearaveragereturn          float64\n",
       "tocurrency                      float64\n",
       "totalassets                     float64\n",
       "totalcash                       float64\n",
       "totalcashpershare               float64\n",
       "totaldebt                       float64\n",
       "totalrevenue                    float64\n",
       "tradeable                         int64\n",
       "trailingannualdividendrate      float64\n",
       "trailingannualdividendyield     float64\n",
       "trailingeps                     float64\n",
       "trailingpegratio                float64\n",
       "twohundreddayaverage            float64\n",
       "volume                            int64\n",
       "volume24hr                      float64\n",
       "volumeallcurrencies             float64\n",
       "website                          object\n",
       "yield                           float64\n",
       "ytdreturn                       float64\n",
       "zip                              object\n",
       "dtype: object"
      ]
     },
     "execution_count": 29,
     "metadata": {},
     "output_type": "execute_result"
    }
   ],
   "source": [
    "df_stock_info.dtypes"
   ]
  }
 ],
 "metadata": {
  "kernelspec": {
   "display_name": "Python 3 (ipykernel)",
   "language": "python",
   "name": "python3"
  },
  "language_info": {
   "codemirror_mode": {
    "name": "ipython",
    "version": 3
   },
   "file_extension": ".py",
   "mimetype": "text/x-python",
   "name": "python",
   "nbconvert_exporter": "python",
   "pygments_lexer": "ipython3",
   "version": "3.10.4"
  }
 },
 "nbformat": 4,
 "nbformat_minor": 5
}
