{
 "cells": [
  {
   "cell_type": "code",
   "execution_count": 1,
   "id": "357879b8-ffe5-47cf-854d-c3e8df73ef03",
   "metadata": {},
   "outputs": [],
   "source": [
    "from IPython.core.interactiveshell import InteractiveShell\n",
    "from IPython.display import display\n",
    "InteractiveShell.ast_node_interactivity = \"all\""
   ]
  },
  {
   "cell_type": "code",
   "execution_count": 2,
   "id": "8564ff9d-a106-4e9c-95c8-64dbe7489092",
   "metadata": {},
   "outputs": [],
   "source": [
    "%load_ext autoreload\n",
    "%autoreload 2"
   ]
  },
  {
   "cell_type": "code",
   "execution_count": 3,
   "id": "c76b3217-b43c-4fa7-9d6a-78303707ae14",
   "metadata": {},
   "outputs": [],
   "source": [
    "import pandas as pd"
   ]
  },
  {
   "cell_type": "code",
   "execution_count": 4,
   "id": "15dd0ed8-e265-4fea-8527-e4f40e0b5b27",
   "metadata": {},
   "outputs": [],
   "source": [
    "%matplotlib inline\n",
    "pd.set_option('display.max_rows', 500)\n",
    "pd.set_option('display.max_columns', 500)\n",
    "pd.set_option('display.max_seq_items', 500)"
   ]
  },
  {
   "cell_type": "code",
   "execution_count": 5,
   "id": "ddb4c76a-46e0-40f4-b10c-9b068ce7b4fb",
   "metadata": {},
   "outputs": [],
   "source": [
    "COUNTRY = \"united states\"\n",
    "\n",
    "STOCK_FILE = \"data/stock.xlsx\"\n",
    "SHEET_NAME_STOCK = \"stock\"\n",
    "\n",
    "STOCK_INFO_FILE = \"data/stock_info.xlsx\"\n",
    "SHEET_NAME_STOCK_INFO = \"stock_info\"\n",
    "\n",
    "STOCK_STATS_FILE = \"data/stock_stats.xlsx\"\n",
    "SHEET_NAME_STOCK_STATS = \"stock_stats\""
   ]
  },
  {
   "cell_type": "code",
   "execution_count": 6,
   "id": "cecf2f49-a60c-4f49-b854-cd77556015b1",
   "metadata": {},
   "outputs": [],
   "source": [
    "df_stock = pd.read_excel(STOCK_FILE, sheet_name=SHEET_NAME_STOCK, engine=\"openpyxl\")\n",
    "df_stock_info = pd.read_excel(STOCK_INFO_FILE, sheet_name=SHEET_NAME_STOCK_INFO, engine=\"openpyxl\")\n",
    "df_stock_stats = pd.read_excel(STOCK_STATS_FILE, sheet_name=SHEET_NAME_STOCK_STATS, engine=\"openpyxl\")"
   ]
  },
  {
   "cell_type": "code",
   "execution_count": 7,
   "id": "46eadf7d-228e-4895-8b4c-78690614cc35",
   "metadata": {},
   "outputs": [],
   "source": [
    "# Convert field names to lower case\n",
    "df_stock = df_stock.rename(columns=str.lower)\n",
    "df_stock_info = df_stock_info.rename(columns=str.lower)\n",
    "df_stock_stats = df_stock_stats.rename(columns=str.lower)"
   ]
  },
  {
   "cell_type": "markdown",
   "id": "a71c3f5d-8425-4aa6-a8f8-a0cb81cf531d",
   "metadata": {},
   "source": [
    "# Stocks by Sectors"
   ]
  },
  {
   "cell_type": "code",
   "execution_count": 8,
   "id": "49cce1fe-4130-42f5-8576-009d55f87f5d",
   "metadata": {},
   "outputs": [
    {
     "data": {
      "text/plain": [
       "count     3783\n",
       "unique    3783\n",
       "top         BA\n",
       "freq         1\n",
       "Name: symbol, dtype: object"
      ]
     },
     "execution_count": 8,
     "metadata": {},
     "output_type": "execute_result"
    }
   ],
   "source": [
    "df_stock_info[\"symbol\"].describe()"
   ]
  },
  {
   "cell_type": "code",
   "execution_count": 9,
   "id": "af5d23a1-d181-4964-abf2-4da95b513c53",
   "metadata": {},
   "outputs": [
    {
     "data": {
      "text/plain": [
       "sector\n",
       "Basic Materials           228\n",
       "Communication Services    207\n",
       "Consumer Cyclical         457\n",
       "Consumer Defensive        206\n",
       "Energy                    178\n",
       "Financial Services        700\n",
       "Healthcare                468\n",
       "Industrials               538\n",
       "Real Estate               194\n",
       "Technology                497\n",
       "Utilities                  99\n",
       "Name: symbol, dtype: int64"
      ]
     },
     "execution_count": 9,
     "metadata": {},
     "output_type": "execute_result"
    }
   ],
   "source": [
    "df_stock_info.groupby(by=[\"sector\"], axis=0)[\"symbol\"].count()"
   ]
  },
  {
   "cell_type": "code",
   "execution_count": 10,
   "id": "13bbee93-0c86-4ea0-8e43-188595aee2d5",
   "metadata": {},
   "outputs": [],
   "source": [
    "# df_stock_info[df_stock_info[\"symbol\"].isin([\"MSFT\",\"AAPL\",\"TSLA\",\"T\",\"GOOG\",\"T\",\"GM\"])].head(100)"
   ]
  },
  {
   "cell_type": "markdown",
   "id": "8c4082d3-6f72-4388-8a35-7aebdcd2bf72",
   "metadata": {},
   "source": [
    "# Top Dividend Stocks"
   ]
  },
  {
   "cell_type": "markdown",
   "id": "138a044b-544d-4063-bcb1-22c9b4b97563",
   "metadata": {},
   "source": [
    "## Last 5 Years Dividend Yield"
   ]
  },
  {
   "cell_type": "code",
   "execution_count": 35,
   "id": "cb7d71dc-2218-452c-b279-dcbdd77160be",
   "metadata": {},
   "outputs": [],
   "source": [
    "#df_stock_info.dtypes"
   ]
  },
  {
   "cell_type": "code",
   "execution_count": 36,
   "id": "062ada8e-3f87-4613-b481-56cac72da688",
   "metadata": {},
   "outputs": [
    {
     "data": {
      "text/html": [
       "<div>\n",
       "<style scoped>\n",
       "    .dataframe tbody tr th:only-of-type {\n",
       "        vertical-align: middle;\n",
       "    }\n",
       "\n",
       "    .dataframe tbody tr th {\n",
       "        vertical-align: top;\n",
       "    }\n",
       "\n",
       "    .dataframe thead th {\n",
       "        text-align: right;\n",
       "    }\n",
       "</style>\n",
       "<table border=\"1\" class=\"dataframe\">\n",
       "  <thead>\n",
       "    <tr style=\"text-align: right;\">\n",
       "      <th></th>\n",
       "      <th>symbol</th>\n",
       "      <th>shortname</th>\n",
       "      <th>longname</th>\n",
       "      <th>fiveyearavgdividendyield</th>\n",
       "    </tr>\n",
       "  </thead>\n",
       "  <tbody>\n",
       "    <tr>\n",
       "      <th>1435</th>\n",
       "      <td>CLM</td>\n",
       "      <td>111422</td>\n",
       "      <td>Cornerstone Strategic Value Fund, Inc.</td>\n",
       "      <td>19.93</td>\n",
       "    </tr>\n",
       "    <tr>\n",
       "      <th>1436</th>\n",
       "      <td>CRF</td>\n",
       "      <td>33138</td>\n",
       "      <td>Cornerstone Total Return Fund, Inc.</td>\n",
       "      <td>19.62</td>\n",
       "    </tr>\n",
       "    <tr>\n",
       "      <th>2529</th>\n",
       "      <td>IVR</td>\n",
       "      <td>INVESCO MORTGAGE CAPITAL INC</td>\n",
       "      <td>Invesco Mortgage Capital Inc.</td>\n",
       "      <td>18.20</td>\n",
       "    </tr>\n",
       "    <tr>\n",
       "      <th>1155</th>\n",
       "      <td>MMLP</td>\n",
       "      <td>Martin Midstream Partners L.P.</td>\n",
       "      <td>Martin Midstream Partners L.P.</td>\n",
       "      <td>16.47</td>\n",
       "    </tr>\n",
       "    <tr>\n",
       "      <th>1580</th>\n",
       "      <td>MITT</td>\n",
       "      <td>AG Mortgage Investment Trust, I</td>\n",
       "      <td>AG Mortgage Investment Trust, Inc.</td>\n",
       "      <td>14.85</td>\n",
       "    </tr>\n",
       "    <tr>\n",
       "      <th>3411</th>\n",
       "      <td>ICMB</td>\n",
       "      <td>Investcorp Credit Management BD</td>\n",
       "      <td>Investcorp Credit Management BDC, Inc.</td>\n",
       "      <td>14.58</td>\n",
       "    </tr>\n",
       "    <tr>\n",
       "      <th>1219</th>\n",
       "      <td>NYMT</td>\n",
       "      <td>New York Mortgage Trust, Inc.</td>\n",
       "      <td>New York Mortgage Trust, Inc.</td>\n",
       "      <td>14.09</td>\n",
       "    </tr>\n",
       "    <tr>\n",
       "      <th>671</th>\n",
       "      <td>BKEP</td>\n",
       "      <td>Blueknight Energy Partners L.P.</td>\n",
       "      <td>Blueknight Energy Partners, L.P.</td>\n",
       "      <td>13.50</td>\n",
       "    </tr>\n",
       "    <tr>\n",
       "      <th>2192</th>\n",
       "      <td>NILSY</td>\n",
       "      <td>MMC NORILSK NICKEL PJSC SPON AD</td>\n",
       "      <td>Public Joint Stock Company Mining and Metallur...</td>\n",
       "      <td>13.46</td>\n",
       "    </tr>\n",
       "    <tr>\n",
       "      <th>1035</th>\n",
       "      <td>IEP</td>\n",
       "      <td>Icahn Enterprises L.P. - Deposi</td>\n",
       "      <td>Icahn Enterprises L.P.</td>\n",
       "      <td>12.90</td>\n",
       "    </tr>\n",
       "    <tr>\n",
       "      <th>1764</th>\n",
       "      <td>ARR</td>\n",
       "      <td>ARMOUR Residential REIT, Inc.</td>\n",
       "      <td>ARMOUR Residential REIT, Inc.</td>\n",
       "      <td>12.60</td>\n",
       "    </tr>\n",
       "    <tr>\n",
       "      <th>507</th>\n",
       "      <td>NS</td>\n",
       "      <td>Nustar Energy L.P.</td>\n",
       "      <td>NuStar Energy L.P.</td>\n",
       "      <td>12.35</td>\n",
       "    </tr>\n",
       "    <tr>\n",
       "      <th>1557</th>\n",
       "      <td>MFA</td>\n",
       "      <td>MFA Financial, Inc.</td>\n",
       "      <td>MFA Financial, Inc.</td>\n",
       "      <td>12.20</td>\n",
       "    </tr>\n",
       "    <tr>\n",
       "      <th>1459</th>\n",
       "      <td>FTF</td>\n",
       "      <td>52385</td>\n",
       "      <td>Franklin Limited Duration Income Trust</td>\n",
       "      <td>12.16</td>\n",
       "    </tr>\n",
       "    <tr>\n",
       "      <th>501</th>\n",
       "      <td>CIM</td>\n",
       "      <td>Chimera Investment Corporation</td>\n",
       "      <td>Chimera Investment Corporation</td>\n",
       "      <td>12.08</td>\n",
       "    </tr>\n",
       "  </tbody>\n",
       "</table>\n",
       "</div>"
      ],
      "text/plain": [
       "     symbol                        shortname  \\\n",
       "1435    CLM                           111422   \n",
       "1436    CRF                            33138   \n",
       "2529    IVR     INVESCO MORTGAGE CAPITAL INC   \n",
       "1155   MMLP   Martin Midstream Partners L.P.   \n",
       "1580   MITT  AG Mortgage Investment Trust, I   \n",
       "3411   ICMB  Investcorp Credit Management BD   \n",
       "1219   NYMT    New York Mortgage Trust, Inc.   \n",
       "671    BKEP  Blueknight Energy Partners L.P.   \n",
       "2192  NILSY  MMC NORILSK NICKEL PJSC SPON AD   \n",
       "1035    IEP  Icahn Enterprises L.P. - Deposi   \n",
       "1764    ARR    ARMOUR Residential REIT, Inc.   \n",
       "507      NS               Nustar Energy L.P.   \n",
       "1557    MFA              MFA Financial, Inc.   \n",
       "1459    FTF                            52385   \n",
       "501     CIM   Chimera Investment Corporation   \n",
       "\n",
       "                                               longname  \\\n",
       "1435             Cornerstone Strategic Value Fund, Inc.   \n",
       "1436                Cornerstone Total Return Fund, Inc.   \n",
       "2529                      Invesco Mortgage Capital Inc.   \n",
       "1155                     Martin Midstream Partners L.P.   \n",
       "1580                 AG Mortgage Investment Trust, Inc.   \n",
       "3411             Investcorp Credit Management BDC, Inc.   \n",
       "1219                      New York Mortgage Trust, Inc.   \n",
       "671                    Blueknight Energy Partners, L.P.   \n",
       "2192  Public Joint Stock Company Mining and Metallur...   \n",
       "1035                             Icahn Enterprises L.P.   \n",
       "1764                      ARMOUR Residential REIT, Inc.   \n",
       "507                                  NuStar Energy L.P.   \n",
       "1557                                MFA Financial, Inc.   \n",
       "1459             Franklin Limited Duration Income Trust   \n",
       "501                      Chimera Investment Corporation   \n",
       "\n",
       "      fiveyearavgdividendyield  \n",
       "1435                     19.93  \n",
       "1436                     19.62  \n",
       "2529                     18.20  \n",
       "1155                     16.47  \n",
       "1580                     14.85  \n",
       "3411                     14.58  \n",
       "1219                     14.09  \n",
       "671                      13.50  \n",
       "2192                     13.46  \n",
       "1035                     12.90  \n",
       "1764                     12.60  \n",
       "507                      12.35  \n",
       "1557                     12.20  \n",
       "1459                     12.16  \n",
       "501                      12.08  "
      ]
     },
     "execution_count": 36,
     "metadata": {},
     "output_type": "execute_result"
    }
   ],
   "source": [
    "df_yield = df_stock_info.sort_values(by=[\"fiveyearavgdividendyield\"], ascending=False)[[\"symbol\",\"shortname\",\"longname\",\"fiveyearavgdividendyield\"]].head(15)\n",
    "df_yield"
   ]
  },
  {
   "cell_type": "code",
   "execution_count": 37,
   "id": "8b027202-2bd7-4c42-a4fc-701ea1d62763",
   "metadata": {},
   "outputs": [
    {
     "data": {
      "text/html": [
       "<div>\n",
       "<style scoped>\n",
       "    .dataframe tbody tr th:only-of-type {\n",
       "        vertical-align: middle;\n",
       "    }\n",
       "\n",
       "    .dataframe tbody tr th {\n",
       "        vertical-align: top;\n",
       "    }\n",
       "\n",
       "    .dataframe thead th {\n",
       "        text-align: right;\n",
       "    }\n",
       "</style>\n",
       "<table border=\"1\" class=\"dataframe\">\n",
       "  <thead>\n",
       "    <tr style=\"text-align: right;\">\n",
       "      <th></th>\n",
       "      <th>symbol</th>\n",
       "      <th>short_name</th>\n",
       "      <th>long_name</th>\n",
       "      <th>summary</th>\n",
       "      <th>currency</th>\n",
       "      <th>sector</th>\n",
       "      <th>industry</th>\n",
       "      <th>exchange</th>\n",
       "      <th>market</th>\n",
       "      <th>country</th>\n",
       "      <th>state</th>\n",
       "      <th>city</th>\n",
       "      <th>zipcode</th>\n",
       "      <th>website</th>\n",
       "      <th>market_cap</th>\n",
       "    </tr>\n",
       "  </thead>\n",
       "  <tbody>\n",
       "    <tr>\n",
       "      <th>1866</th>\n",
       "      <td>CLM</td>\n",
       "      <td>111422</td>\n",
       "      <td>Cornerstone Strategic Value Fund, Inc.</td>\n",
       "      <td>Cornerstone Strategic Value Fund, Inc. is a cl...</td>\n",
       "      <td>USD</td>\n",
       "      <td>Financial Services</td>\n",
       "      <td>Asset Management</td>\n",
       "      <td>NYQ</td>\n",
       "      <td>us_market</td>\n",
       "      <td>United States</td>\n",
       "      <td>NC</td>\n",
       "      <td>Asheville</td>\n",
       "      <td>28803</td>\n",
       "      <td>http://www.cornerstonestrategicvaluefund.com</td>\n",
       "      <td>Small Cap</td>\n",
       "    </tr>\n",
       "    <tr>\n",
       "      <th>2122</th>\n",
       "      <td>CRF</td>\n",
       "      <td>33138</td>\n",
       "      <td>Cornerstone Total Return Fund, Inc.</td>\n",
       "      <td>Cornerstone Total Return Fund, Inc. is a close...</td>\n",
       "      <td>USD</td>\n",
       "      <td>Financial Services</td>\n",
       "      <td>Asset Management</td>\n",
       "      <td>NYQ</td>\n",
       "      <td>us_market</td>\n",
       "      <td>United States</td>\n",
       "      <td>NC</td>\n",
       "      <td>Asheville</td>\n",
       "      <td>28803</td>\n",
       "      <td>http://www.cornerstonetotalreturnfund.com</td>\n",
       "      <td>Small Cap</td>\n",
       "    </tr>\n",
       "    <tr>\n",
       "      <th>4440</th>\n",
       "      <td>ICMB</td>\n",
       "      <td>Investcorp Credit Management BD</td>\n",
       "      <td>Investcorp Credit Management BDC, Inc.</td>\n",
       "      <td>CM Finance Inc. is a business development comp...</td>\n",
       "      <td>USD</td>\n",
       "      <td>Financial Services</td>\n",
       "      <td>Asset Management</td>\n",
       "      <td>NMS</td>\n",
       "      <td>us_market</td>\n",
       "      <td>United States</td>\n",
       "      <td>NY</td>\n",
       "      <td>New York</td>\n",
       "      <td>10017</td>\n",
       "      <td>http://www.cmfn-inc.com</td>\n",
       "      <td>Micro Cap</td>\n",
       "    </tr>\n",
       "  </tbody>\n",
       "</table>\n",
       "</div>"
      ],
      "text/plain": [
       "     symbol                       short_name  \\\n",
       "1866    CLM                           111422   \n",
       "2122    CRF                            33138   \n",
       "4440   ICMB  Investcorp Credit Management BD   \n",
       "\n",
       "                                   long_name  \\\n",
       "1866  Cornerstone Strategic Value Fund, Inc.   \n",
       "2122     Cornerstone Total Return Fund, Inc.   \n",
       "4440  Investcorp Credit Management BDC, Inc.   \n",
       "\n",
       "                                                summary currency  \\\n",
       "1866  Cornerstone Strategic Value Fund, Inc. is a cl...      USD   \n",
       "2122  Cornerstone Total Return Fund, Inc. is a close...      USD   \n",
       "4440  CM Finance Inc. is a business development comp...      USD   \n",
       "\n",
       "                  sector          industry exchange     market        country  \\\n",
       "1866  Financial Services  Asset Management      NYQ  us_market  United States   \n",
       "2122  Financial Services  Asset Management      NYQ  us_market  United States   \n",
       "4440  Financial Services  Asset Management      NMS  us_market  United States   \n",
       "\n",
       "     state       city zipcode                                       website  \\\n",
       "1866    NC  Asheville   28803  http://www.cornerstonestrategicvaluefund.com   \n",
       "2122    NC  Asheville   28803     http://www.cornerstonetotalreturnfund.com   \n",
       "4440    NY   New York   10017                       http://www.cmfn-inc.com   \n",
       "\n",
       "     market_cap  \n",
       "1866  Small Cap  \n",
       "2122  Small Cap  \n",
       "4440  Micro Cap  "
      ]
     },
     "execution_count": 37,
     "metadata": {},
     "output_type": "execute_result"
    }
   ],
   "source": [
    "df_stock[df_stock[\"symbol\"].isin([\"CLM\", \"CRF\", \"ICMB\"])].head(100)"
   ]
  },
  {
   "cell_type": "code",
   "execution_count": null,
   "id": "7f2cfc89-0881-40dc-a840-601f13392543",
   "metadata": {},
   "outputs": [],
   "source": []
  }
 ],
 "metadata": {
  "kernelspec": {
   "display_name": "Python 3 (ipykernel)",
   "language": "python",
   "name": "python3"
  },
  "language_info": {
   "codemirror_mode": {
    "name": "ipython",
    "version": 3
   },
   "file_extension": ".py",
   "mimetype": "text/x-python",
   "name": "python",
   "nbconvert_exporter": "python",
   "pygments_lexer": "ipython3",
   "version": "3.10.4"
  }
 },
 "nbformat": 4,
 "nbformat_minor": 5
}
