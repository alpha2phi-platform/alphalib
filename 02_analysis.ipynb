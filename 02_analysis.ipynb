{
 "cells": [
  {
   "cell_type": "code",
   "execution_count": 1,
   "id": "357879b8-ffe5-47cf-854d-c3e8df73ef03",
   "metadata": {},
   "outputs": [],
   "source": [
    "from IPython.core.interactiveshell import InteractiveShell\n",
    "from IPython.display import display\n",
    "InteractiveShell.ast_node_interactivity = \"all\""
   ]
  },
  {
   "cell_type": "code",
   "execution_count": 2,
   "id": "8564ff9d-a106-4e9c-95c8-64dbe7489092",
   "metadata": {},
   "outputs": [],
   "source": [
    "%load_ext autoreload\n",
    "%autoreload 2"
   ]
  },
  {
   "cell_type": "code",
   "execution_count": 3,
   "id": "c76b3217-b43c-4fa7-9d6a-78303707ae14",
   "metadata": {},
   "outputs": [],
   "source": [
    "import pandas as pd"
   ]
  },
  {
   "cell_type": "code",
   "execution_count": 4,
   "id": "15dd0ed8-e265-4fea-8527-e4f40e0b5b27",
   "metadata": {},
   "outputs": [],
   "source": [
    "%matplotlib inline\n",
    "pd.set_option('display.max_rows', 500)\n",
    "pd.set_option('display.max_columns', 500)\n",
    "pd.set_option('display.max_seq_items', 500)"
   ]
  },
  {
   "cell_type": "code",
   "execution_count": 5,
   "id": "ddb4c76a-46e0-40f4-b10c-9b068ce7b4fb",
   "metadata": {},
   "outputs": [],
   "source": [
    "COUNTRY = \"united states\"\n",
    "STOCK_INFO_FILE = \"data/alphalib_united_states.xlsx\"\n",
    "STOCK_FINANCIALS_FILE = \"data/alphalib_financials_united_states.xlsx\"\n",
    "STOCK_DIVIDENDS_FILE = \"data/alphalib_dividends_united_states.xlsx\"\n",
    "SHEET_NAME_STOCK_INFO = \"stock_info\"\n",
    "SHEET_NAME_STOCK_FINANCIALS = \"stock_financials\"\n",
    "SHEET_NAME_STOCK_DIVIDENDS = \"stock_dividends\""
   ]
  },
  {
   "cell_type": "code",
   "execution_count": 6,
   "id": "cecf2f49-a60c-4f49-b854-cd77556015b1",
   "metadata": {},
   "outputs": [],
   "source": [
    "stock_info = pd.read_excel(STOCK_INFO_FILE, sheet_name=SHEET_NAME_STOCK_INFO, engine=\"openpyxl\")\n",
    "stock_financials = pd.read_excel(STOCK_FINANCIALS_FILE, sheet_name=SHEET_NAME_STOCK_FINANCIALS, engine=\"openpyxl\")\n",
    "stock_dividends = pd.read_excel(STOCK_DIVIDENDS_FILE, sheet_name=SHEET_NAME_STOCK_DIVIDENDS, engine=\"openpyxl\")"
   ]
  },
  {
   "cell_type": "code",
   "execution_count": 7,
   "id": "46eadf7d-228e-4895-8b4c-78690614cc35",
   "metadata": {},
   "outputs": [],
   "source": [
    "# Convert field names to lower case\n",
    "stock_info = stock_info.rename(columns=str.lower)\n",
    "stock_financials = stock_financials.rename(columns=str.lower)\n",
    "stock_dividends = stock_dividends.rename(columns=str.lower)"
   ]
  },
  {
   "cell_type": "code",
   "execution_count": null,
   "id": "f536dfca-468b-4642-9bf6-b930f33fed1b",
   "metadata": {},
   "outputs": [],
   "source": []
  },
  {
   "cell_type": "code",
   "execution_count": null,
   "id": "49cce1fe-4130-42f5-8576-009d55f87f5d",
   "metadata": {},
   "outputs": [],
   "source": []
  }
 ],
 "metadata": {
  "kernelspec": {
   "display_name": "Python 3 (ipykernel)",
   "language": "python",
   "name": "python3"
  },
  "language_info": {
   "codemirror_mode": {
    "name": "ipython",
    "version": 3
   },
   "file_extension": ".py",
   "mimetype": "text/x-python",
   "name": "python",
   "nbconvert_exporter": "python",
   "pygments_lexer": "ipython3",
   "version": "3.10.4"
  }
 },
 "nbformat": 4,
 "nbformat_minor": 5
}
