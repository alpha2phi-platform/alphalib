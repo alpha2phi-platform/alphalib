{
 "cells": [
  {
   "cell_type": "code",
   "execution_count": null,
   "id": "88f1babb-b63c-44d2-960e-63ae3dc5ad34",
   "metadata": {},
   "outputs": [],
   "source": [
    "from IPython.core.interactiveshell import InteractiveShell\n",
    "from IPython.display import display\n",
    "InteractiveShell.ast_node_interactivity = \"all\""
   ]
  },
  {
   "cell_type": "code",
   "execution_count": null,
   "id": "5304c576-c888-48da-8f17-4d798ef95e94",
   "metadata": {},
   "outputs": [],
   "source": [
    "%load_ext autoreload\n",
    "%autoreload 2"
   ]
  },
  {
   "cell_type": "code",
   "execution_count": null,
   "id": "e9572171-1399-40c1-a80d-ccefb550ef54",
   "metadata": {},
   "outputs": [],
   "source": [
    "import pandas as pd\n",
    "import numpy as np\n",
    "import time\n",
    "from datetime import datetime, timezone"
   ]
  },
  {
   "cell_type": "code",
   "execution_count": null,
   "id": "249f31d7-4422-4195-9505-d94e343a5ecc",
   "metadata": {},
   "outputs": [],
   "source": [
    "%matplotlib inline\n",
    "pd.set_option('display.max_rows', 500)\n",
    "pd.set_option('display.max_columns', 500)\n",
    "pd.set_option('display.max_seq_items', 500)\n",
    "pd.set_option(\"display.max_colwidth\", None)"
   ]
  },
  {
   "cell_type": "code",
   "execution_count": null,
   "id": "881e6779-72dd-428a-b239-6673699254e5",
   "metadata": {},
   "outputs": [],
   "source": []
  },
  {
   "cell_type": "markdown",
   "id": "4757725c-b0d5-4179-a1c2-202b678425cf",
   "metadata": {},
   "source": [
    "# Analyse High-Yield Dividend Stocks "
   ]
  },
  {
   "cell_type": "code",
   "execution_count": null,
   "id": "9150def1-8d69-46a8-bb86-186b13f2376e",
   "metadata": {},
   "outputs": [],
   "source": [
    "from alphalib.analysis.high_yield import recommend_stocks"
   ]
  },
  {
   "cell_type": "code",
   "execution_count": null,
   "id": "3e65243a-c85b-4e6e-9e64-7236846d7afb",
   "metadata": {},
   "outputs": [],
   "source": [
    "rec_stocks = recommend_stocks()"
   ]
  },
  {
   "cell_type": "code",
   "execution_count": null,
   "id": "a1e4d3bb-0828-4a72-a613-facfb20960de",
   "metadata": {},
   "outputs": [],
   "source": [
    "for s in rec_stocks:\n",
    "    df = s.to_df()\n",
    "    \n",
    "    display(df)\n",
    "    print(\"\\n\")\n",
    "    print(s.yfinance_url)\n",
    "    display(df[[\"sector\", \"trailing_annual_dividend_yield\", \"dividend_yield_pct\", \"earnings_date\", \"current_price\", \"fifty_two_week_low\", \"fifty_two_week_high\", \"sentiment_score\"]].T)\n",
    "    display(s.dividend_history.head(10))\n",
    "    \n",
    "    print(\"\\n\\n\\n\")"
   ]
  },
  {
   "cell_type": "code",
   "execution_count": null,
   "id": "edc94b63-3841-4554-a0b0-40527d7d49c6",
   "metadata": {},
   "outputs": [],
   "source": []
  },
  {
   "cell_type": "code",
   "execution_count": null,
   "id": "3a5f4079-f938-4706-8b73-df0aa227e726",
   "metadata": {},
   "outputs": [],
   "source": []
  },
  {
   "cell_type": "code",
   "execution_count": null,
   "id": "a12ade48-f433-451e-ac3c-4aed7895ac2f",
   "metadata": {},
   "outputs": [],
   "source": []
  },
  {
   "cell_type": "code",
   "execution_count": null,
   "id": "67d0adfe-d52c-40f2-bd0d-6cb587ac8ea1",
   "metadata": {},
   "outputs": [],
   "source": []
  },
  {
   "cell_type": "markdown",
   "id": "afbcd180-731f-4a63-b75f-23b245a9a083",
   "metadata": {},
   "source": [
    "Stocks to track\n",
    "- PBR-A\n",
    "- PBR\n",
    "- GOGL\n",
    "- ORC - monthly\n",
    "- OXLC - monthly"
   ]
  },
  {
   "cell_type": "code",
   "execution_count": null,
   "id": "182502a7-7d66-4801-acbd-3abe83b9b230",
   "metadata": {},
   "outputs": [],
   "source": []
  }
 ],
 "metadata": {
  "kernelspec": {
   "display_name": "Python 3 (ipykernel)",
   "language": "python",
   "name": "python3"
  },
  "language_info": {
   "codemirror_mode": {
    "name": "ipython",
    "version": 3
   },
   "file_extension": ".py",
   "mimetype": "text/x-python",
   "name": "python",
   "nbconvert_exporter": "python",
   "pygments_lexer": "ipython3",
   "version": "3.10.4"
  }
 },
 "nbformat": 4,
 "nbformat_minor": 5
}
